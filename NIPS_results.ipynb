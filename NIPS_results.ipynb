{
 "cells": [
  {
   "cell_type": "code",
   "execution_count": 2,
   "metadata": {},
   "outputs": [
    {
     "name": "stdout",
     "output_type": "stream",
     "text": [
      "Populating the interactive namespace from numpy and matplotlib\n"
     ]
    }
   ],
   "source": [
    "%pylab inline"
   ]
  },
  {
   "cell_type": "code",
   "execution_count": 3,
   "metadata": {},
   "outputs": [
    {
     "name": "stderr",
     "output_type": "stream",
     "text": [
      "Using TensorFlow backend.\n"
     ]
    }
   ],
   "source": [
    "import os\n",
    "import pickle\n",
    "\n",
    "import pandas as pd\n",
    "\n",
    "from keras.models import Model\n",
    "from keras.layers import Input, Dense, Flatten, Reshape, Layer\n",
    "from keras.datasets import mnist\n",
    "from keras.utils import to_categorical\n",
    "from keras.callbacks import ReduceLROnPlateau, LearningRateScheduler, EarlyStopping\n",
    "import keras.backend as K\n",
    "\n",
    "from vae_utils import *"
   ]
  },
  {
   "cell_type": "code",
   "execution_count": 4,
   "metadata": {},
   "outputs": [],
   "source": [
    "diag = lambda x: np.diag(np.diag(x))"
   ]
  },
  {
   "cell_type": "code",
   "execution_count": 5,
   "metadata": {},
   "outputs": [],
   "source": [
    "matplotlib.rcParams['text.usetex'] = True\n",
    "plt.rcParams[\"text.latex.preamble\"] = r\"\\usepackage{bm},\\usepackage{amsmath},\\usepackage{amssymb}\"\n",
    "\n",
    "plt.rcParams[\"font.family\"] = \"serif\"\n",
    "plt.rcParams[\"font.serif\"] = \"Times New Roman\"\n",
    "plt.rcParams[\"font.size\"] = 9\n",
    "plt.rcParams[\"legend.fontsize\"] = 8\n",
    "\n",
    "plt.rcParams['figure.constrained_layout.use'] = True\n",
    "plt.rcParams[\"figure.dpi\"] = 100\n",
    "plt.rcParams[\"savefig.dpi\"] = 300\n",
    "plt.rcParams[\"figure.figsize\"] = 3.2, 1.98"
   ]
  },
  {
   "cell_type": "markdown",
   "metadata": {},
   "source": [
    "# 2. Method"
   ]
  },
  {
   "cell_type": "markdown",
   "metadata": {
    "heading_collapsed": true
   },
   "source": [
    "## 2.1 Series Expansion"
   ]
  },
  {
   "cell_type": "code",
   "execution_count": 5,
   "metadata": {
    "hidden": true
   },
   "outputs": [],
   "source": [
    "def logZ_expansion(expectation, variance, lamb=1):\n",
    "    return -lamb * expectation + lamb**2 / 2 * variance"
   ]
  },
  {
   "cell_type": "markdown",
   "metadata": {
    "heading_collapsed": true
   },
   "source": [
    "## 2.2 Analytic Method (PPCA)"
   ]
  },
  {
   "cell_type": "code",
   "execution_count": 6,
   "metadata": {
    "hidden": true
   },
   "outputs": [],
   "source": [
    "def expectation_V(x, W, b, sigma, method='matmul'):\n",
    "    # the method keyword specifies whether to use tensordot or matmul to calcuate log_p_x\n",
    "    # tensordot is faster, but does not do elementwise operations, so you lose info over x\n",
    "    # matmul is slower, but is elementwise for x\n",
    "    d, l = W.shape\n",
    "    N = len(x)\n",
    "    M = matmul(W.T, W) + sigma * eye(l)\n",
    "    C = matmul(W, W.T) + sigma * eye(d)\n",
    "    \n",
    "    if method == 'matmul':\n",
    "        log_p_x = -1/2 * linalg.slogdet(2 * pi * C)[1] - 1/2 * matmul(matmul((x-b).transpose(0, 2, 1), inv(C)), x-b)\n",
    "    elif method == 'tensordot':\n",
    "        log_p_x = -1/2 * linalg.slogdet(2 * pi * C)[1] - 1/(2*N) * tensordot(matmul((x[:,:,0]-b[:,0]), inv(C)), x[:,:,0]-b[:,0])\n",
    "    \n",
    "    elbo = log_p_x - 1/2 * linalg.slogdet(diag(M))[1] + 1/2 * linalg.slogdet(M)[1]\n",
    "    \n",
    "    return -elbo\n",
    "\n",
    "def variance_V(W, sigma):\n",
    "    d, l = W.shape\n",
    "    M = matmul(W.T, W) + sigma * eye(l)\n",
    "    inner = linalg.matrix_power(matmul(M-diag(M), inv(diag(M))), 2)\n",
    "    return 1/2 * trace(inner)"
   ]
  },
  {
   "cell_type": "code",
   "execution_count": 282,
   "metadata": {
    "hidden": true
   },
   "outputs": [],
   "source": [
    "def calculate_W_sigma(x, S, l=2):\n",
    "    # find the eigs and eigenvectors of the cov matrix and sort according\n",
    "    eigs, evecs = linalg.eig(S)\n",
    "    eig_pairs = list(zip(eigs, evecs.T))\n",
    "    eig_pairs.sort(reverse=True, key=lambda x: x[0])\n",
    "\n",
    "    # select the top q principle components\n",
    "    d = len(eig_pairs)\n",
    "\n",
    "    pca_pairs = eig_pairs[:l]\n",
    "    \n",
    "    pca_eigs = [pca_pairs[i][0] for i in range(len(pca_pairs))]\n",
    "    pca_vecs = [pca_pairs[i][1] for i in range(len(pca_pairs))]\n",
    "\n",
    "    # construct W and sigma^2\n",
    "    L_q = np.diag(pca_eigs)\n",
    "    U_q = array(pca_vecs).T\n",
    "    sigma = 1/(d-l) * np.sum([eig_pairs[j][0] for j in range(l+1, d)]) #technically inverse sigma\n",
    "    W = np.matmul(U_q, L_q - sigma * eye(l))\n",
    "    return W, sigma\n",
    "    \n",
    "def calculate_elbo(x, W, sigma, R=None, method='tensordot'):\n",
    "    # find shape of W\n",
    "    d, l = W.shape\n",
    "    N = len(x)\n",
    "    \n",
    "    # find the mean of x\n",
    "    b = np.mean(x, axis=0)\n",
    "    \n",
    "    # rotate W if it is a 2d matrix\n",
    "    if R is not None:\n",
    "        W = matmul(W, R)\n",
    "#     if l == 2:\n",
    "#         R = np.array([\n",
    "#             [cos(theta), -sin(theta)],\n",
    "#             [sin(theta), cos(theta)]\n",
    "#         ])\n",
    "#         W = matmul(W, R)\n",
    "#     if l == 3:\n",
    "# #         R = np.array([\n",
    "# #             [cos(theta), -sin(theta), 0],\n",
    "# #             [sin(theta), cos(theta), 0],\n",
    "# #             [0, 0, 1]\n",
    "# #         ])\n",
    "#         R = np.array([\n",
    "#             [1, 0, 0],\n",
    "#             [0, cos(theta), -sin(theta)],\n",
    "#             [0, sin(theta), cos(theta)]\n",
    "#         ])\n",
    "#         W = matmul(W, R)\n",
    "\n",
    "    # find p(z|x)\n",
    "    M = matmul(W.T, W) + sigma * eye(l)\n",
    "    p_z_x_mu = matmul(matmul(inv(M), W.T), (x-b))\n",
    "    p_z_x_sig = sigma * inv(M)\n",
    "\n",
    "    # find best q(z|x)\n",
    "    q_z_x_mu = matmul(matmul(inv(M), W.T), (x-b))\n",
    "    q_z_x_sig = sigma * inv(diag(M))\n",
    "\n",
    "    # find p(x)\n",
    "    p_x_mu = b\n",
    "    p_x_sig = matmul(W, W.T) + sigma * eye(d)\n",
    "    inv_p = inv(p_x_sig)\n",
    "\n",
    "    # find p(x|z)\n",
    "    p_x_z_mu = lambda z: matmul(W, z.T).T + b\n",
    "    p_x_z_sig = sigma * eye(d)\n",
    "\n",
    "    # calculate log p(x)\n",
    "    detsign, detlog = linalg.slogdet(2*pi*p_x_sig)\n",
    "    if method == 'matmul':\n",
    "        log_p_x = -1/2 * detlog - 1/2 * matmul(matmul((x-p_x_mu).transpose(0, 2, 1), inv_p), x-p_x_mu)\n",
    "    elif method == 'tensordot':\n",
    "        log_p_x = -1/2 * detlog - 1/(2*N) * tensordot(matmul(x[:,:,0]-p_x_mu[:,0], inv_p), x[:,:,0]-p_x_mu[:,0])\n",
    "    log_p_x_mean = np.mean(log_p_x)\n",
    "\n",
    "    # # calculate the elbo stochastically\n",
    "    # z_samples = q_z_x_mu + np.expand_dims(random.multivariate_normal(zeros(l), q_z_x_sig, size=len(q_z_x_mu)), -1)\n",
    "    # x_z_mu = p_x_z_mu(z_samples)\n",
    "\n",
    "    # log_p = lambda x, mu, sig: -1/2 * linalg.slogdet(2*pi*sig)[1] - 1/2 * matmul(matmul((x-mu).transpose(0, 2, 1), inv(sig)), x-mu)\n",
    "    # log_p_x_z = log_p(x, x_z_mu, p_x_z_sig)\n",
    "    # log_p_z = log_p(z_samples, zeros((l, 1)), eye(l))\n",
    "    # log_q_z_x = log_p(z_samples, q_z_x_mu, q_z_x_sig)\n",
    "\n",
    "    # pca_elbo = log_p_x_z + log_p_z - log_q_z_x\n",
    "    # pca_elbo_mean = np.mean(pca_elbo)\n",
    "\n",
    "    # calculate the elbo analytically\n",
    "    elbo = log_p_x - 1/2 * linalg.slogdet(diag(M))[1] + 1/2 * linalg.slogdet(M)[1]\n",
    "    elbo_mean = np.mean(elbo)\n",
    "    \n",
    "    # calculate the variance analytically\n",
    "    variance = variance_V(W, sigma)\n",
    "    \n",
    "    return log_p_x_mean, elbo_mean, variance"
   ]
  },
  {
   "cell_type": "markdown",
   "metadata": {},
   "source": [
    "## 2.3 Neural Network"
   ]
  },
  {
   "cell_type": "code",
   "execution_count": 6,
   "metadata": {},
   "outputs": [],
   "source": [
    "def encoder(latent_dim, hidden_dim=200):\n",
    "    enc_in = Input(shape=(784,1), name='enc_input')\n",
    "    enc_flat = Flatten(name='enc_flat')(enc_in)\n",
    "    enc_hid = Dense(hidden_dim, activation='relu', name='enc_hidden')(enc_flat)\n",
    "    enc_hid2 = Dense(hidden_dim, activation='relu', name='enc_hidden2')(enc_hid)\n",
    "    z_mean = Dense(latent_dim, name='latent_mean')(enc_hid2)\n",
    "    log_z_var = Dense(latent_dim, name='log_latent_var')(enc_hid2)\n",
    "    enc_model = Model(enc_in, [z_mean, log_z_var], name='encoder_model')\n",
    "    return enc_model, (z_mean, log_z_var)\n",
    "\n",
    "def decoder(latent_dim, hidden_dim=200, model='bernoulli'):\n",
    "    dec_in = Input(shape=(latent_dim,), name='dec_in')\n",
    "    dec_hid = Dense(hidden_dim, activation='relu', name='dec_hidden')(dec_in)\n",
    "    dec_hid2 = Dense(hidden_dim, activation='relu', name='dec_hidden2')(dec_hid)\n",
    "    dec_out = Dense(28*28, activation='sigmoid', name='dec_flat')(dec_hid2)\n",
    "    dec_out = Reshape((784, 1), name='dec_out')(dec_out)\n",
    "    dec_model = Model(dec_in, dec_out, name='decoder_model')\n",
    "    return dec_model"
   ]
  },
  {
   "cell_type": "code",
   "execution_count": 7,
   "metadata": {},
   "outputs": [],
   "source": [
    "class Sampler(Layer):\n",
    "    \n",
    "    def __init__(self, always_sample=False, **kwargs):\n",
    "        self.always_sample = always_sample\n",
    "        super(Sampler, self).__init__(**kwargs)\n",
    "    \n",
    "    def call(self, x, training=None):\n",
    "        assert isinstance(x, list)\n",
    "        z_mean, log_z_var = x\n",
    "        z_std = K.exp(log_z_var/2)\n",
    "        \n",
    "        # sample epsilon from N(0, stddev)\n",
    "        shape = K.shape(z_mean)\n",
    "        epsilon = K.random_normal(shape, mean=0, stddev=1)\n",
    "        z_sample = z_mean + z_std * epsilon\n",
    "        \n",
    "        if self.always_sample:\n",
    "            return z_sample\n",
    "        else:\n",
    "            return K.in_train_phase(z_sample, z_mean, training=training)\n",
    "    \n",
    "    def compute_output_shape(self, input_shape):\n",
    "        assert isinstance(input_shape, list)\n",
    "        return input_shape[0]"
   ]
  },
  {
   "cell_type": "code",
   "execution_count": 8,
   "metadata": {},
   "outputs": [],
   "source": [
    "def bernoulli_elbo(y_true, y_pred):\n",
    "    kl_loss = 0.5 * np.sum(1 + log_z_var - np.square(z_mean) - np.exp(log_z_var), axis=-1)\n",
    "    im_loss = np.sum(y_true * np.log(y_pred + 1e-30) + (1-y_true) * np.log(1-y_pred + 1e-30), axis=(-1, -2))\n",
    "    return kl_loss + im_loss"
   ]
  },
  {
   "cell_type": "markdown",
   "metadata": {},
   "source": [
    "# 3. Results"
   ]
  },
  {
   "cell_type": "markdown",
   "metadata": {},
   "source": [
    "## 3.1. Data"
   ]
  },
  {
   "cell_type": "markdown",
   "metadata": {},
   "source": [
    "### 3.1.1. Generated"
   ]
  },
  {
   "cell_type": "code",
   "execution_count": 9,
   "metadata": {},
   "outputs": [],
   "source": [
    "# generate data\n",
    "mean = zeros(5)\n",
    "S_gen = 1/2 * array([\n",
    "    [1, 0.9, 0.8, 0.7, 0.6],\n",
    "    [0, 1, 0.9, 0.8, 0.7],\n",
    "    [0, 0, 1, 0.9, 0.8],\n",
    "    [0, 0, 0, 1, 0.9],\n",
    "    [0, 0, 0, 0, 1]\n",
    "])\n",
    "S_gen = S_gen + S_gen.T\n",
    "x_gen = np.random.multivariate_normal(mean, S_gen, size=(60000,))\n",
    "x_gen = np.expand_dims(x_gen, -1)"
   ]
  },
  {
   "cell_type": "markdown",
   "metadata": {},
   "source": [
    "### 3.1.2. MNIST"
   ]
  },
  {
   "cell_type": "code",
   "execution_count": 10,
   "metadata": {},
   "outputs": [],
   "source": [
    "def preprocess(data):\n",
    "    x, y = data\n",
    "    x = x.reshape((len(x), 784))\n",
    "    x = x/255.\n",
    "    x = np.expand_dims(x, -1)\n",
    "    #y = to_categorical(y, 10) # don't need to categorise y\n",
    "    return x, y\n",
    "\n",
    "train, test = mnist.load_data()\n",
    "\n",
    "x_train, y_train = preprocess(train)\n",
    "x_test, y_test = preprocess(test)\n",
    "\n",
    "if not os.path.exists('./S.npy'):\n",
    "    b = np.mean(x_train, axis=0)\n",
    "    S = 0\n",
    "    for x in x_train:\n",
    "        S+= np.outer(x-b, x-b)\n",
    "    S /= len(x_train)\n",
    "    np.save('./S.npy', S)\n",
    "\n",
    "S = np.load('./S.npy')"
   ]
  },
  {
   "cell_type": "markdown",
   "metadata": {
    "heading_collapsed": true
   },
   "source": [
    "## 3.2. Analytic Model"
   ]
  },
  {
   "cell_type": "markdown",
   "metadata": {
    "heading_collapsed": true,
    "hidden": true
   },
   "source": [
    "### 3.2.1. Result 1\n",
    "Sweep $W_{ML}$ for $\\ell=2$ and show that the ELBO is maximsied for an orthogonal $\\mathbf{M}$ on a _generated dataset_."
   ]
  },
  {
   "cell_type": "code",
   "execution_count": 215,
   "metadata": {
    "hidden": true
   },
   "outputs": [],
   "source": [
    "W_gen, sigma_gen = calculate_W_sigma(x_gen, S_gen, l=2)\n",
    "\n",
    "alpha = linspace(0, pi, 100)\n",
    "rotate_2 = lambda theta: array([[cos(theta), -sin(theta)], [sin(theta), cos(theta)]])\n",
    "generated_elbos = array([calculate_elbo(x_gen, W_gen, sigma_gen, R=rotate_2(a)) for a in alpha])\n",
    "\n",
    "log_p_x_gen = generated_elbos[:, 0]\n",
    "elbo_gen = generated_elbos[:, 1]\n",
    "var_gen = generated_elbos[:, 2]\n",
    "second_gen = elbo_gen + 1/2 * var_gen"
   ]
  },
  {
   "cell_type": "code",
   "execution_count": 216,
   "metadata": {
    "hidden": true
   },
   "outputs": [
    {
     "data": {
      "image/png": "[encoded data removed]",
      "text/plain": [
       "<Figure size 320x198 with 1 Axes>"
      ]
     },
     "metadata": {
      "needs_background": "light"
     },
     "output_type": "display_data"
    }
   ],
   "source": [
    "plot(theta, log_p_x_gen, '-k', label=r'$\\log p_{\\bm{\\theta}}(\\mathbf{X})$')\n",
    "plot(theta, elbo_gen, '--r', label=r'$\\log Z_{(1)}$')\n",
    "plot(theta, second_gen, '-.g', label=r'$\\log Z_{(2)}$')\n",
    "\n",
    "legend(loc=4)\n",
    "\n",
    "xticks((0, pi/4, pi/2, 3*pi/4, pi), labels=(r'$0$', r'$\\pi/4$', r'$\\pi/2$', r'$3\\pi/4$', r'$\\pi$'))\n",
    "xlabel(r'$\\alpha$')\n",
    "\n",
    "ylabel(r'Nats')\n",
    "\n",
    "text(0.1/1.618, 0.1, 'a',\n",
    "     fontdict = {\n",
    "         'family': 'sans-serif',\n",
    "         'name': 'arial',\n",
    "         'size': 12,\n",
    "         'weight': 'black',\n",
    "         'usetex': False\n",
    "     },\n",
    "     transform=gca().transAxes\n",
    ")\n",
    "\n",
    "savefig('./Figures/generated_logZ_v_theta_l02.pdf')"
   ]
  },
  {
   "cell_type": "markdown",
   "metadata": {
    "heading_collapsed": true,
    "hidden": true
   },
   "source": [
    "### 3.2.2. Result 2\n",
    "Sweep $W_{ML}$ for $\\ell=2$ and show that the ELBO is maximsied for an orthogonal $\\mathbf{M}$ on the _MNIST dataset_."
   ]
  },
  {
   "cell_type": "code",
   "execution_count": 217,
   "metadata": {
    "hidden": true
   },
   "outputs": [],
   "source": [
    "W, sigma = calculate_W_sigma(x_train, S, l=2)\n",
    "\n",
    "alpha = linspace(0, pi, 100)\n",
    "rotate_2 = lambda theta: array([[cos(theta), -sin(theta)], [sin(theta), cos(theta)]])\n",
    "mnist_elbos = array([calculate_elbo(x_train, W, sigma, R=rotate_2(a)) for a in alpha])\n",
    "\n",
    "log_p_x_mnist = mnist_elbos[:, 0]\n",
    "elbo_mnist = mnist_elbos[:, 1]\n",
    "var_mnist = mnist_elbos[:, 2]\n",
    "second_mnist = elbo_mnist + 1/2 * var_mnist"
   ]
  },
  {
   "cell_type": "code",
   "execution_count": 218,
   "metadata": {
    "hidden": true
   },
   "outputs": [
    {
     "data": {
      "image/png": "[encoded data removed]",
      "text/plain": [
       "<Figure size 320x198 with 1 Axes>"
      ]
     },
     "metadata": {
      "needs_background": "light"
     },
     "output_type": "display_data"
    }
   ],
   "source": [
    "plot(theta, log_p_x_mnist, '-k', label=r'$\\log p_{\\bm{\\theta}}(\\mathbf{X})$')\n",
    "plot(theta, elbo_mnist, '--r', label=r'$\\log Z_{(1)}$')\n",
    "plot(theta, second_mnist, '-.g', label=r'$\\log Z_{(2)}$')\n",
    "\n",
    "legend(loc=4)\n",
    "\n",
    "xticks((0, pi/4, pi/2, 3*pi/4, pi), labels=(r'$0$', r'$\\pi/4$', r'$\\pi/2$', r'$3\\pi/4$', r'$\\pi$'))\n",
    "xlabel(r'$\\alpha$')\n",
    "\n",
    "ylabel(r'Nats')\n",
    "\n",
    "text(0.1/1.618, 0.1, 'b',\n",
    "     fontdict = {\n",
    "         'family': 'sans-serif',\n",
    "         'name': 'arial',\n",
    "         'size': 12,\n",
    "         'weight': 'black',\n",
    "         'usetex': False\n",
    "     },\n",
    "     transform=gca().transAxes\n",
    ")\n",
    "\n",
    "gcf().savefig('./Figures/mnist_logZ_v_theta_l02.pdf')"
   ]
  },
  {
   "cell_type": "markdown",
   "metadata": {
    "heading_collapsed": true,
    "hidden": true
   },
   "source": [
    "### 3.2.3. Result 3\n",
    "Comparing second order t=correct term between MNIST and the gneerated set."
   ]
  },
  {
   "cell_type": "code",
   "execution_count": 328,
   "metadata": {
    "hidden": true
   },
   "outputs": [
    {
     "data": {
      "image/png": "[encoded data removed]",
      "text/plain": [
       "<Figure size 320x198 with 1 Axes>"
      ]
     },
     "metadata": {
      "needs_background": "light"
     },
     "output_type": "display_data"
    }
   ],
   "source": [
    "plot(theta, 1/2 * var_gen, '-k', label='Generated')\n",
    "\n",
    "# legend(loc=1)\n",
    "\n",
    "xticks((0, pi/4, pi/2, 3*pi/4, pi), labels=(r'$0$', r'$\\pi/4$', r'$\\pi/2$', r'$3\\pi/4$', r'$\\pi$'))\n",
    "xlabel(r'$\\alpha$')\n",
    "\n",
    "text(0.1/1.618, 0.85, 'a',\n",
    "     fontdict = {\n",
    "         'family': 'sans-serif',\n",
    "         'name': 'arial',\n",
    "         'size': 12,\n",
    "         'weight': 'black',\n",
    "         'usetex': False\n",
    "     },\n",
    "     transform=gca().transAxes\n",
    ")\n",
    "\n",
    "ylabel(r'Nats')\n",
    "\n",
    "gcf().savefig('./Figures/generated_var_l02.pdf')"
   ]
  },
  {
   "cell_type": "code",
   "execution_count": 329,
   "metadata": {
    "hidden": true
   },
   "outputs": [
    {
     "data": {
      "image/png": "[encoded data removed]",
      "text/plain": [
       "<Figure size 320x198 with 1 Axes>"
      ]
     },
     "metadata": {
      "needs_background": "light"
     },
     "output_type": "display_data"
    }
   ],
   "source": [
    "plot(theta, 1/2 * var_mnist, '-k', label='MNIST')\n",
    "# plot(theta, var_gen, '-.b', label='Generated')\n",
    "\n",
    "# legend(loc=1)\n",
    "\n",
    "xticks((0, pi/4, pi/2, 3*pi/4, pi), labels=(r'$0$', r'$\\pi/4$', r'$\\pi/2$', r'$3\\pi/4$', r'$\\pi$'))\n",
    "xlabel(r'$\\alpha$')\n",
    "\n",
    "text(0.1/1.618, 0.85, 'b',\n",
    "     fontdict = {\n",
    "         'family': 'sans-serif',\n",
    "         'name': 'arial',\n",
    "         'size': 12,\n",
    "         'weight': 'black',\n",
    "         'usetex': False\n",
    "     },\n",
    "     transform=gca().transAxes\n",
    ")\n",
    "\n",
    "ylabel(r'Nats')\n",
    "\n",
    "gcf().savefig('./Figures/mnist_var_l02.pdf')"
   ]
  },
  {
   "cell_type": "markdown",
   "metadata": {
    "heading_collapsed": true,
    "hidden": true
   },
   "source": [
    "### 3.2.4 Result 4\n",
    "Sweeping $\\mathbf{W}_{ML}$ over non-leading PCA axes."
   ]
  },
  {
   "cell_type": "code",
   "execution_count": 311,
   "metadata": {
    "hidden": true
   },
   "outputs": [
    {
     "data": {
      "text/plain": [
       "Text(0, 0.5, 'Nats')"
      ]
     },
     "execution_count": 311,
     "metadata": {},
     "output_type": "execute_result"
    },
    {
     "data": {
      "image/png": "[encoded data removed]",
      "text/plain": [
       "<Figure size 320x198 with 1 Axes>"
      ]
     },
     "metadata": {
      "needs_background": "light"
     },
     "output_type": "display_data"
    }
   ],
   "source": [
    "W_gen, sigma_gen = calculate_W_sigma(x_gen, S_gen, l=3)\n",
    "\n",
    "rotate_3_12 = lambda theta: array([[cos(theta), -sin(theta), 0], [sin(theta), cos(theta), 0], [0, 0, 1]])\n",
    "rotate_3_13 = lambda theta: array([[cos(theta), 0, -sin(theta)], [0, 1, 0], [sin(theta), 0, cos(theta)]])\n",
    "rotate_3_23 = lambda theta: array([[1, 0, 0], [0, cos(theta), -sin(theta)], [0, sin(theta), cos(theta)]])\n",
    "rotates = [rotate_3_12, rotate_3_13, rotate_3_23]\n",
    "labels = ['12', '13', '23']\n",
    "styles = ['--', '-.', '-o']\n",
    "\n",
    "alpha = linspace(0, pi, 100)\n",
    "\n",
    "log_p_x_rot, _, _ = calculate_elbo(x_gen, W_gen, sigma_gen)\n",
    "plot(alpha, [log_p_x_rot] * len(alpha), '-k', label = r'$\\log p_{\\bm{\\theta}}(\\mathbf{X})$')\n",
    "\n",
    "for i, rotate in enumerate(rotates):\n",
    "    rotated_elbos = array([calculate_elbo(x_gen, W_gen, sigma_gen, R=rotate(a)) for a in alpha])\n",
    "\n",
    "    log_p_x_rot = rotated_elbos[:, 0]\n",
    "    elbo_rot = rotated_elbos[:, 1]\n",
    "    var_rot = rotated_elbos[:, 2]\n",
    "    second_rot = elbo_rot + 1/2 * var_rot\n",
    "    \n",
    "    plot(alpha, second_rot, styles[i], label = r'$\\mathbf{R}_{%s}(\\alpha)$' %labels[i], markevery=8, ms=4)\n",
    "    \n",
    "legend(loc=4)\n",
    "\n",
    "xticks((0, pi/4, pi/2, 3*pi/4, pi), labels=(r'$0$', r'$\\pi/4$', r'$\\pi/2$', r'$3\\pi/4$', r'$\\pi$'))\n",
    "xlabel(r'$\\alpha$')\n",
    "\n",
    "ylabel(r'Nats')"
   ]
  },
  {
   "cell_type": "markdown",
   "metadata": {},
   "source": [
    "## 3.3 Neural Network"
   ]
  },
  {
   "cell_type": "code",
   "execution_count": 74,
   "metadata": {},
   "outputs": [],
   "source": [
    "def binarize_generator(x, batch_size, shuffle=True):\n",
    "    x = np.random.permutation(x) if shuffle else x\n",
    "    nb_batch = 0\n",
    "    \n",
    "    while True:\n",
    "        batch = x[nb_batch*batch_size:(nb_batch+1)*batch_size]\n",
    "        y = np.random.binomial(n=1, p=batch)\n",
    "        \n",
    "        nb_batch += 1\n",
    "        if nb_batch >= np.ceil(len(x) / batch_size):\n",
    "            x = np.random.permutation(x) if shuffle else x\n",
    "            nb_batch = 0\n",
    "            \n",
    "        yield y, y"
   ]
  },
  {
   "cell_type": "code",
   "execution_count": 73,
   "metadata": {},
   "outputs": [
    {
     "name": "stdout",
     "output_type": "stream",
     "text": [
      "Epoch 1/50\n",
      "118/118 [==============================] - 4s 34ms/step - loss: 232.7215\n",
      "Epoch 2/50\n",
      "118/118 [==============================] - 3s 23ms/step - loss: 179.1726\n",
      "Epoch 3/50\n",
      "118/118 [==============================] - 3s 24ms/step - loss: 160.8128\n",
      "Epoch 4/50\n",
      "118/118 [==============================] - 3s 23ms/step - loss: 149.0393\n",
      "Epoch 5/50\n",
      "118/118 [==============================] - 3s 24ms/step - loss: 141.1374\n",
      "Epoch 6/50\n",
      "118/118 [==============================] - 3s 28ms/step - loss: 136.1183\n",
      "Epoch 7/50\n",
      "118/118 [==============================] - 4s 37ms/step - loss: 131.8347\n",
      "Epoch 8/50\n",
      "118/118 [==============================] - 4s 37ms/step - loss: 128.1797\n",
      "Epoch 9/50\n",
      "118/118 [==============================] - 4s 36ms/step - loss: 125.2459\n",
      "Epoch 10/50\n",
      "118/118 [==============================] - 4s 36ms/step - loss: 122.6846\n",
      "Epoch 11/50\n",
      "118/118 [==============================] - 4s 37ms/step - loss: 120.4737\n",
      "Epoch 12/50\n",
      "118/118 [==============================] - 4s 36ms/step - loss: 118.5394\n",
      "Epoch 13/50\n",
      "118/118 [==============================] - 4s 36ms/step - loss: 116.9603\n",
      "Epoch 14/50\n",
      "118/118 [==============================] - 4s 37ms/step - loss: 115.4599\n",
      "Epoch 15/50\n",
      "118/118 [==============================] - 4s 37ms/step - loss: 114.5710\n",
      "Epoch 16/50\n",
      "118/118 [==============================] - 4s 37ms/step - loss: 113.6488\n",
      "Epoch 17/50\n",
      "118/118 [==============================] - 4s 36ms/step - loss: 113.0260\n",
      "Epoch 18/50\n",
      "118/118 [==============================] - 4s 37ms/step - loss: 112.3869\n",
      "Epoch 19/50\n",
      "118/118 [==============================] - 4s 37ms/step - loss: 111.7486\n",
      "Epoch 20/50\n",
      "118/118 [==============================] - 4s 37ms/step - loss: 111.1907\n",
      "Epoch 21/50\n",
      "118/118 [==============================] - 4s 37ms/step - loss: 110.6809\n",
      "Epoch 22/50\n",
      "118/118 [==============================] - 4s 37ms/step - loss: 110.1561\n",
      "Epoch 23/50\n",
      "118/118 [==============================] - 4s 37ms/step - loss: 109.6599\n",
      "Epoch 24/50\n",
      "118/118 [==============================] - 4s 37ms/step - loss: 109.2686\n",
      "Epoch 25/50\n",
      "118/118 [==============================] - 4s 37ms/step - loss: 108.8977\n",
      "Epoch 26/50\n",
      "118/118 [==============================] - 4s 36ms/step - loss: 108.4295\n",
      "Epoch 27/50\n",
      "118/118 [==============================] - 4s 37ms/step - loss: 108.1099\n",
      "Epoch 28/50\n",
      "118/118 [==============================] - 4s 37ms/step - loss: 107.6684\n",
      "Epoch 29/50\n",
      "118/118 [==============================] - 4s 37ms/step - loss: 107.3738\n",
      "Epoch 30/50\n",
      "118/118 [==============================] - 4s 37ms/step - loss: 106.9817\n",
      "Epoch 31/50\n",
      "118/118 [==============================] - 4s 37ms/step - loss: 106.7437\n",
      "Epoch 32/50\n",
      "118/118 [==============================] - 4s 37ms/step - loss: 106.4419\n",
      "Epoch 33/50\n",
      "118/118 [==============================] - 5s 38ms/step - loss: 106.1684\n",
      "Epoch 34/50\n",
      "118/118 [==============================] - 4s 37ms/step - loss: 105.8548\n",
      "Epoch 35/50\n",
      "118/118 [==============================] - 4s 37ms/step - loss: 105.6509\n",
      "Epoch 36/50\n",
      "118/118 [==============================] - 4s 37ms/step - loss: 105.4060\n",
      "Epoch 37/50\n",
      "118/118 [==============================] - 4s 37ms/step - loss: 105.1491\n",
      "Epoch 38/50\n",
      "118/118 [==============================] - 5s 39ms/step - loss: 104.8978: 0s - loss: 104.\n",
      "Epoch 39/50\n",
      "118/118 [==============================] - 5s 40ms/step - loss: 104.6610\n",
      "Epoch 40/50\n",
      "118/118 [==============================] - 5s 42ms/step - loss: 104.4526\n",
      "Epoch 41/50\n",
      "118/118 [==============================] - 5s 41ms/step - loss: 104.0976\n",
      "Epoch 42/50\n",
      "118/118 [==============================] - 5s 41ms/step - loss: 103.9904\n",
      "Epoch 43/50\n",
      "118/118 [==============================] - 5s 39ms/step - loss: 103.8058\n",
      "Epoch 44/50\n",
      "118/118 [==============================] - 5s 39ms/step - loss: 103.6741\n",
      "Epoch 45/50\n",
      "118/118 [==============================] - 5s 38ms/step - loss: 103.5297\n",
      "Epoch 46/50\n",
      "118/118 [==============================] - 4s 37ms/step - loss: 103.3866\n",
      "Epoch 47/50\n",
      "118/118 [==============================] - 4s 36ms/step - loss: 103.3095\n",
      "Epoch 48/50\n",
      "118/118 [==============================] - 4s 38ms/step - loss: 103.2020\n",
      "Epoch 49/50\n",
      "118/118 [==============================] - 4s 38ms/step - loss: 103.0719\n",
      "Epoch 50/50\n",
      "118/118 [==============================] - 5s 38ms/step - loss: 102.9484\n",
      "Model Saved\n"
     ]
    }
   ],
   "source": [
    "latent_dim = 50\n",
    "\n",
    "encoder_model, (z_mean, log_z_var) = encoder(latent_dim)\n",
    "decoder_model = decoder(latent_dim)\n",
    "z_sampler = Sampler(always_sample=True, name='z_sampler')([z_mean, log_z_var])\n",
    "\n",
    "vae_model = Model(encoder_model.input, decoder_model(z_sampler))\n",
    "\n",
    "def bernoulli_loss(y_true, y_pred):\n",
    "    kl_loss = - 0.5 * K.sum(1 + log_z_var - K.square(z_mean) - K.exp(log_z_var), axis=-1)\n",
    "    im_loss = K.sum(K.binary_crossentropy(y_true, y_pred), axis=(-1, -2)) # computes -log p(x|z)\n",
    "    return kl_loss + im_loss\n",
    "\n",
    "vae_model.compile(optimizer='adam', loss=bernoulli_loss)\n",
    "\n",
    "# train and save the model\n",
    "\n",
    "if not os.path.exists('./models/'):\n",
    "    os.mkdir('./models')\n",
    "\n",
    "dec_path = './models/dec_model_%d_dim.weights' %latent_dim\n",
    "weights_path = './models/vae_model_%d_dim.weights' %latent_dim\n",
    "history_path = './models/history_%d_dim.pkl' %latent_dim\n",
    "\n",
    "# reduce_lr = ReduceLROnPlateau(monitor='val_loss', factor=10**(-1/7), patience=10, min_lr=1e-4, verbose=1)\n",
    "nb_regions = 7\n",
    "regions = cumsum([3**i for i in range(nb_regions+1)])\n",
    "schedule = lambda i, lr: 0.001 * 10**(-sum(regions <= i)/nb_regions)\n",
    "\n",
    "lr_schedule = LearningRateScheduler(schedule)\n",
    "# early_stop = EarlyStopping(monitor='loss', patience=50, verbose=1)\n",
    "\n",
    "epochs = regions[-1]\n",
    "batch_size = 512\n",
    "steps_per_epoch = np.ceil(len(x_train) / batch_size)\n",
    "\n",
    "if not os.path.exists(weights_path):\n",
    "    # training\n",
    "    history = vae_model.fit_generator(\n",
    "        binarize_generator(np.random.binomial(n=1, p=x_train), batch_size),\n",
    "        steps_per_epoch=steps_per_epoch,\n",
    "        epochs=epochs,\n",
    "        callbacks=[lr_schedule]\n",
    "    )\n",
    "    # enc_dec_model represents the whole dec_model as a single layer\n",
    "    # so we have to save the decoder weights seperately\n",
    "    decoder_model.save_weights(dec_path) # hacky fix for decoder weights\n",
    "    vae_model.save_weights(weights_path)\n",
    "    # save history\n",
    "    history = history.history\n",
    "    pickle.dump(history, open(history_path, 'wb'))\n",
    "    print('Model Saved')\n",
    "else:\n",
    "    decoder_model.load_weights(dec_path, by_name=True)\n",
    "    encoder_model.load_weights(weights_path, by_name=True)\n",
    "    vae_model.load_weights(weights_path, by_name=True)\n",
    "    history = pickle.load(open(history_path, 'rb'))\n",
    "    print('Model Loaded')"
   ]
  },
  {
   "cell_type": "code",
   "execution_count": 29,
   "metadata": {},
   "outputs": [],
   "source": [
    "z_mean, log_z_var = encoder_model.predict(x_train)"
   ]
  },
  {
   "cell_type": "code",
   "execution_count": 30,
   "metadata": {},
   "outputs": [],
   "source": [
    "nb_samples = 10\n",
    "x_preds = array([vae_model.predict(x_train, batch_size=2000) for n in range(nb_samples)])\n",
    "elbos = bernoulli_elbo(x_train, x_preds)"
   ]
  },
  {
   "cell_type": "code",
   "execution_count": 31,
   "metadata": {},
   "outputs": [
    {
     "data": {
      "text/plain": [
       "12.088214938934865"
      ]
     },
     "execution_count": 31,
     "metadata": {},
     "output_type": "execute_result"
    }
   ],
   "source": [
    "np.mean(np.var(elbos, axis=0))"
   ]
  },
  {
   "cell_type": "code",
   "execution_count": 32,
   "metadata": {},
   "outputs": [
    {
     "data": {
      "text/plain": [
       "-89.26239441175099"
      ]
     },
     "execution_count": 32,
     "metadata": {},
     "output_type": "execute_result"
    }
   ],
   "source": [
    "np.mean(np.mean(elbos, axis=0) + 1/2 * np.var(elbos, axis=0))"
   ]
  },
  {
   "cell_type": "code",
   "execution_count": 21,
   "metadata": {},
   "outputs": [
    {
     "data": {
      "text/plain": [
       "array([18.0935425 , 13.43378941, 30.91659184, ..., 17.27027474,\n",
       "       12.67180452, 17.61038191])"
      ]
     },
     "execution_count": 21,
     "metadata": {},
     "output_type": "execute_result"
    }
   ],
   "source": [
    "np.var(elbos, axis=0)"
   ]
  },
  {
   "cell_type": "code",
   "execution_count": null,
   "metadata": {},
   "outputs": [],
   "source": [
    "np.mean(elbos, axis=(0, 1))"
   ]
  },
  {
   "cell_type": "code",
   "execution_count": 22,
   "metadata": {},
   "outputs": [
    {
     "name": "stdout",
     "output_type": "stream",
     "text": [
      "__________________________________________________________________________________________________\n",
      "Layer (type)                    Output Shape         Param #     Connected to                     \n",
      "==================================================================================================\n",
      "enc_input (InputLayer)          (None, 784, 1)       0                                            \n",
      "__________________________________________________________________________________________________\n",
      "enc_flat (Flatten)              (None, 784)          0           enc_input[0][0]                  \n",
      "__________________________________________________________________________________________________\n",
      "enc_hidden (Dense)              (None, 200)          157000      enc_flat[0][0]                   \n",
      "__________________________________________________________________________________________________\n",
      "enc_hidden2 (Dense)             (None, 200)          40200       enc_hidden[0][0]                 \n",
      "__________________________________________________________________________________________________\n",
      "latent_mean (Dense)             (None, 50)           10050       enc_hidden2[0][0]                \n",
      "__________________________________________________________________________________________________\n",
      "log_latent_var (Dense)          (None, 50)           10050       enc_hidden2[0][0]                \n",
      "==================================================================================================\n",
      "Total params: 217,300\n",
      "Trainable params: 217,300\n",
      "Non-trainable params: 0\n",
      "__________________________________________________________________________________________________\n"
     ]
    }
   ],
   "source": [
    "encoder_model.summary()"
   ]
  },
  {
   "cell_type": "code",
   "execution_count": null,
   "metadata": {},
   "outputs": [],
   "source": []
  }
 ],
 "metadata": {
  "kernelspec": {
   "display_name": "Python [conda env:tensorflow-gpu]",
   "language": "python",
   "name": "conda-env-tensorflow-gpu-py"
  },
  "language_info": {
   "codemirror_mode": {
    "name": "ipython",
    "version": 3
   },
   "file_extension": ".py",
   "mimetype": "text/x-python",
   "name": "python",
   "nbconvert_exporter": "python",
   "pygments_lexer": "ipython3",
   "version": "3.6.8"
  }
 },
 "nbformat": 4,
 "nbformat_minor": 2
}
