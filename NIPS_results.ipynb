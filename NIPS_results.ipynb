{
 "cells": [
  {
   "cell_type": "code",
   "execution_count": 1,
   "metadata": {},
   "outputs": [
    {
     "name": "stdout",
     "output_type": "stream",
     "text": [
      "Populating the interactive namespace from numpy and matplotlib\n"
     ]
    }
   ],
   "source": [
    "%pylab inline"
   ]
  },
  {
   "cell_type": "code",
   "execution_count": 2,
   "metadata": {},
   "outputs": [
    {
     "name": "stderr",
     "output_type": "stream",
     "text": [
      "Using TensorFlow backend.\n"
     ]
    }
   ],
   "source": [
    "import os\n",
    "import sys\n",
    "import pickle\n",
    "\n",
    "import pandas as pd\n",
    "\n",
    "from keras.models import Model\n",
    "from keras.layers import Input, Dense, Flatten, Reshape, Layer\n",
    "from keras.datasets import mnist\n",
    "from keras.utils import to_categorical\n",
    "from keras.callbacks import ReduceLROnPlateau, LearningRateScheduler, EarlyStopping\n",
    "import keras.backend as K\n",
    "\n",
    "try:\n",
    "    from google.colab import files\n",
    "    colab = True\n",
    "except ImportError:\n",
    "    colab = False"
   ]
  },
  {
   "cell_type": "code",
   "execution_count": 3,
   "metadata": {},
   "outputs": [],
   "source": [
    "diag = lambda x: np.diag(np.diag(x))"
   ]
  },
  {
   "cell_type": "code",
   "execution_count": 4,
   "metadata": {},
   "outputs": [],
   "source": [
    "matplotlib.rcParams['text.usetex'] = True\n",
    "plt.rcParams[\"text.latex.preamble\"] = r\"\\usepackage{bm},\\usepackage{amsmath},\\usepackage{amssymb}\"\n",
    "\n",
    "plt.rcParams[\"font.family\"] = \"serif\"\n",
    "plt.rcParams[\"font.serif\"] = \"Times New Roman\"\n",
    "plt.rcParams[\"font.size\"] = 9\n",
    "plt.rcParams[\"legend.fontsize\"] = 8\n",
    "\n",
    "plt.rcParams['figure.constrained_layout.use'] = True\n",
    "plt.rcParams[\"figure.dpi\"] = 100\n",
    "plt.rcParams[\"savefig.dpi\"] = 300\n",
    "plt.rcParams[\"figure.figsize\"] = 3.2, 1.98"
   ]
  },
  {
   "cell_type": "markdown",
   "metadata": {},
   "source": [
    "# 2. Method"
   ]
  },
  {
   "cell_type": "markdown",
   "metadata": {
    "heading_collapsed": true
   },
   "source": [
    "## 2.1 Series Expansion"
   ]
  },
  {
   "cell_type": "code",
   "execution_count": 5,
   "metadata": {
    "hidden": true
   },
   "outputs": [],
   "source": [
    "def logZ_expansion(expectation, variance, lamb=1):\n",
    "    return -lamb * expectation + lamb**2 / 2 * variance"
   ]
  },
  {
   "cell_type": "markdown",
   "metadata": {},
   "source": [
    "## 2.2 Analytic Method (PPCA)"
   ]
  },
  {
   "cell_type": "code",
   "execution_count": 5,
   "metadata": {},
   "outputs": [],
   "source": [
    "def expectation_V(x, W, b, sigma, method='matmul'):\n",
    "    # the method keyword specifies whether to use tensordot or matmul to calcuate log_p_x\n",
    "    # tensordot is faster, but does not do elementwise operations, so you lose info over x\n",
    "    # matmul is slower, but is elementwise for x\n",
    "    d, l = W.shape\n",
    "    N = len(x)\n",
    "    M = matmul(W.T, W) + sigma * eye(l)\n",
    "    C = matmul(W, W.T) + sigma * eye(d)\n",
    "    \n",
    "    if method == 'matmul':\n",
    "        log_p_x = -1/2 * linalg.slogdet(2 * pi * C)[1] - 1/2 * matmul(matmul((x-b).transpose(0, 2, 1), inv(C)), x-b)\n",
    "    elif method == 'tensordot':\n",
    "        log_p_x = -1/2 * linalg.slogdet(2 * pi * C)[1] - 1/(2*N) * tensordot(matmul((x[:,:,0]-b[:,0]), inv(C)), x[:,:,0]-b[:,0])\n",
    "    \n",
    "    elbo = log_p_x - 1/2 * linalg.slogdet(diag(M))[1] + 1/2 * linalg.slogdet(M)[1]\n",
    "    \n",
    "    return -elbo\n",
    "\n",
    "def variance_V(W, sigma):\n",
    "    d, l = W.shape\n",
    "    M = matmul(W.T, W) + sigma * eye(l)\n",
    "    inner = linalg.matrix_power(matmul(M-diag(M), inv(diag(M))), 2)\n",
    "    return 1/2 * trace(inner)"
   ]
  },
  {
   "cell_type": "code",
   "execution_count": 6,
   "metadata": {},
   "outputs": [],
   "source": [
    "def calculate_W_sigma(x, S, l=2):\n",
    "    # find the eigs and eigenvectors of the cov matrix and sort according\n",
    "    eigs, evecs = linalg.eig(S)\n",
    "    eig_pairs = list(zip(eigs, evecs.T))\n",
    "    eig_pairs.sort(reverse=True, key=lambda x: x[0])\n",
    "\n",
    "    # select the top q principle components\n",
    "    d = len(eig_pairs)\n",
    "\n",
    "    pca_pairs = eig_pairs[:l]\n",
    "    \n",
    "    pca_eigs = [pca_pairs[i][0] for i in range(len(pca_pairs))]\n",
    "    pca_vecs = [pca_pairs[i][1] for i in range(len(pca_pairs))]\n",
    "\n",
    "    # construct W and sigma^2\n",
    "    L_q = np.diag(pca_eigs)\n",
    "    U_q = array(pca_vecs).T\n",
    "    sigma = 1/(d-l) * np.sum([eig_pairs[j][0] for j in range(l+1, d)]) #technically inverse sigma\n",
    "    W = np.matmul(U_q, L_q - sigma * eye(l))\n",
    "    return W, sigma\n",
    "    \n",
    "def calculate_elbo(x, W, sigma, R=None, method='tensordot'):\n",
    "    # find shape of W\n",
    "    d, l = W.shape\n",
    "    N = len(x)\n",
    "    \n",
    "    # find the mean of x\n",
    "    b = np.mean(x, axis=0)\n",
    "    \n",
    "    # rotate W if it is a 2d matrix\n",
    "    if R is not None:\n",
    "        W = matmul(W, R)\n",
    "\n",
    "    # find p(z|x)\n",
    "    M = matmul(W.T, W) + sigma * eye(l)\n",
    "    p_z_x_mu = matmul(matmul(inv(M), W.T), (x-b))\n",
    "    p_z_x_sig = sigma * inv(M)\n",
    "\n",
    "    # find best q(z|x)\n",
    "    q_z_x_mu = matmul(matmul(inv(M), W.T), (x-b))\n",
    "    q_z_x_sig = sigma * inv(diag(M))\n",
    "\n",
    "    # find p(x)\n",
    "    p_x_mu = b\n",
    "    p_x_sig = matmul(W, W.T) + sigma * eye(d)\n",
    "    inv_p = inv(p_x_sig)\n",
    "\n",
    "    # find p(x|z)\n",
    "    p_x_z_mu = lambda z: matmul(W, z.T).T + b\n",
    "    p_x_z_sig = sigma * eye(d)\n",
    "\n",
    "    # calculate log p(x)\n",
    "    detsign, detlog = linalg.slogdet(2*pi*p_x_sig)\n",
    "    if method == 'matmul':\n",
    "        log_p_x = -1/2 * detlog - 1/2 * matmul(matmul((x-p_x_mu).transpose(0, 2, 1), inv_p), x-p_x_mu)\n",
    "    elif method == 'tensordot':\n",
    "        log_p_x = -1/2 * detlog - 1/(2*N) * tensordot(matmul(x[:,:,0]-p_x_mu[:,0], inv_p), x[:,:,0]-p_x_mu[:,0])\n",
    "    log_p_x_mean = np.mean(log_p_x)\n",
    "\n",
    "    # # calculate the elbo stochastically\n",
    "    # z_samples = q_z_x_mu + np.expand_dims(random.multivariate_normal(zeros(l), q_z_x_sig, size=len(q_z_x_mu)), -1)\n",
    "    # x_z_mu = p_x_z_mu(z_samples)\n",
    "\n",
    "    # log_p = lambda x, mu, sig: -1/2 * linalg.slogdet(2*pi*sig)[1] - 1/2 * matmul(matmul((x-mu).transpose(0, 2, 1), inv(sig)), x-mu)\n",
    "    # log_p_x_z = log_p(x, x_z_mu, p_x_z_sig)\n",
    "    # log_p_z = log_p(z_samples, zeros((l, 1)), eye(l))\n",
    "    # log_q_z_x = log_p(z_samples, q_z_x_mu, q_z_x_sig)\n",
    "\n",
    "    # pca_elbo = log_p_x_z + log_p_z - log_q_z_x\n",
    "    # pca_elbo_mean = np.mean(pca_elbo)\n",
    "\n",
    "    # calculate the elbo analytically\n",
    "    elbo = log_p_x - 1/2 * linalg.slogdet(diag(M))[1] + 1/2 * linalg.slogdet(M)[1]\n",
    "    elbo_mean = np.mean(elbo)\n",
    "    \n",
    "    # calculate the variance analytically\n",
    "    variance = variance_V(W, sigma)\n",
    "    \n",
    "    return log_p_x_mean, elbo_mean, variance"
   ]
  },
  {
   "cell_type": "markdown",
   "metadata": {},
   "source": [
    "## 2.3 Neural Network"
   ]
  },
  {
   "cell_type": "code",
   "execution_count": 7,
   "metadata": {},
   "outputs": [],
   "source": [
    "def encoder(latent_dim, hidden_dim=200):\n",
    "    enc_in = Input(shape=(784,1), name='enc_input')\n",
    "    enc_flat = Flatten(name='enc_flat')(enc_in)\n",
    "    enc_hid = Dense(hidden_dim, activation='relu', name='enc_hidden')(enc_flat)\n",
    "    enc_hid2 = Dense(hidden_dim, activation='relu', name='enc_hidden2')(enc_hid)\n",
    "    z_mean = Dense(latent_dim, name='latent_mean')(enc_hid2)\n",
    "    log_z_var = Dense(latent_dim, name='log_latent_var')(enc_hid2)\n",
    "    enc_model = Model(enc_in, [z_mean, log_z_var], name='encoder_model')\n",
    "    return enc_model, (z_mean, log_z_var)\n",
    "\n",
    "def decoder(latent_dim, hidden_dim=200, model='bernoulli'):\n",
    "    dec_in = Input(shape=(latent_dim,), name='dec_in')\n",
    "    dec_hid = Dense(hidden_dim, activation='relu', name='dec_hidden')(dec_in)\n",
    "    dec_hid2 = Dense(hidden_dim, activation='relu', name='dec_hidden2')(dec_hid)\n",
    "    dec_out = Dense(28*28, activation='sigmoid', name='dec_flat')(dec_hid2)\n",
    "    dec_out = Reshape((784, 1), name='dec_out')(dec_out)\n",
    "    dec_model = Model(dec_in, dec_out, name='decoder_model')\n",
    "    return dec_model"
   ]
  },
  {
   "cell_type": "code",
   "execution_count": 8,
   "metadata": {},
   "outputs": [],
   "source": [
    "class Sampler(Layer):\n",
    "    \n",
    "    def __init__(self, always_sample=False, **kwargs):\n",
    "        self.always_sample = always_sample\n",
    "        super(Sampler, self).__init__(**kwargs)\n",
    "    \n",
    "    def call(self, x, training=None):\n",
    "        assert isinstance(x, list)\n",
    "        z_mean, log_z_var = x\n",
    "        z_std = K.exp(log_z_var/2)\n",
    "        \n",
    "        # sample epsilon from N(0, stddev)\n",
    "        shape = K.shape(z_mean)\n",
    "        epsilon = K.random_normal(shape, mean=0, stddev=1)\n",
    "        z_sample = z_mean + z_std * epsilon\n",
    "        \n",
    "        if self.always_sample:\n",
    "            return z_sample\n",
    "        else:\n",
    "            return K.in_train_phase(z_sample, z_mean, training=training)\n",
    "    \n",
    "    def compute_output_shape(self, input_shape):\n",
    "        assert isinstance(input_shape, list)\n",
    "        return input_shape[0]"
   ]
  },
  {
   "cell_type": "code",
   "execution_count": 9,
   "metadata": {},
   "outputs": [],
   "source": [
    "def bernoulli_elbo(y_true, y_pred):\n",
    "    kl_loss = 0.5 * np.sum(1 + log_z_var - np.square(z_mean) - np.exp(log_z_var), axis=-1)\n",
    "    im_loss = np.sum(y_true * np.log(y_pred + 1e-30) + (1-y_true) * np.log(1-y_pred + 1e-30), axis=(-1, -2))\n",
    "    return kl_loss + im_loss"
   ]
  },
  {
   "cell_type": "code",
   "execution_count": 121,
   "metadata": {},
   "outputs": [],
   "source": [
    "def mc_estimate_iwae_V(x, batch_size=32, samples=1000, verbose=2):\n",
    "    steps = int(np.ceil(len(x) / batch_size))\n",
    "    elbo = zeros(len(x))\n",
    "    mean_V = zeros(len(x))\n",
    "    var_V = zeros(len(x))\n",
    "    im_loss = zeros(len(x))\n",
    "    kl_loss = zeros(len(x))\n",
    "    for i in range(steps):\n",
    "        batch = x[i*batch_size:(i+1)*batch_size]\n",
    "        z_mean, log_z_var = encoder_model.predict(batch, batch_size=2000)\n",
    "        z_samples = z_mean + np.random.normal(0, 1, size=(samples, *z_mean.shape)) * np.exp(log_z_var/2)\n",
    "        batch_pred = decoder_model.predict(z_samples.reshape(samples * len(batch), latent_dim), batch_size=1000)\n",
    "        batch_pred = batch_pred.reshape(samples, len(batch), *batch.shape[1:])\n",
    "        \n",
    "        log_p_x_z = np.sum(batch * np.log(batch_pred+1e-30) + (1-batch) * np.log(1-batch_pred+1e-30), axis=(-1, -2)) #log p(x|z)\n",
    "        log_q_by_p = 1/2 * np.sum(z_samples**2 - log_z_var - np.exp(-log_z_var)*(z_samples-z_mean)**2, axis=-1) #log (q(z|x)/p(z))\n",
    "        V_z = - log_p_x_z + log_q_by_p\n",
    "        \n",
    "        elbo[i*batch_size:(i+1)*batch_size] = np.log(np.mean(np.exp(-V_z), axis=0)) #iwae estimate\n",
    "        mean_V[i*batch_size:(i+1)*batch_size] = np.mean(V_z, axis=0)\n",
    "        var_V[i*batch_size:(i+1)*batch_size] = np.var(V_z, axis=0, ddof=1)\n",
    "        im_loss[i*batch_size:(i+1)*batch_size] = np.mean(log_p_x_z, axis=0)\n",
    "        kl_loss[i*batch_size:(i+1)*batch_size] = -np.mean(log_q_by_p, axis=0)\n",
    "        \n",
    "        # logging\n",
    "        if verbose != 0:\n",
    "            curr_elbo = np.mean(elbo[:(i+1)*batch_size])\n",
    "            curr_im_loss = np.mean(im_loss[:(i+1)*batch_size])\n",
    "            curr_kl_loss = np.mean(kl_loss[:(i+1)*batch_size])\n",
    "        if verbose == 1:\n",
    "            print('Step %d/%d completed: ELBO: %.3f  -  im_loss: %.3f  -  kl_loss: %.3f' %(i+1, steps, curr_elbo, curr_im_loss, curr_kl_loss))\n",
    "        elif verbose == 2:\n",
    "            sys.stdout.write('\\rStep %d/%d completed: ELBO: %.3f  -  im_loss: %.3f  -  kl_loss: %.3f' %(i+1, steps, curr_elbo, curr_im_loss, curr_kl_loss))\n",
    "            sys.stdout.flush()\n",
    "    return elbo, mean_V, var_V, im_loss, kl_loss"
   ]
  },
  {
   "cell_type": "code",
   "execution_count": 11,
   "metadata": {},
   "outputs": [],
   "source": [
    "def binarize_generator(x, batch_size, shuffle=True):\n",
    "    x = np.random.permutation(x) if shuffle else x\n",
    "    nb_batch = 0\n",
    "    \n",
    "    while True:\n",
    "        batch = x[nb_batch*batch_size:(nb_batch+1)*batch_size]\n",
    "        y = batch > np.random.rand(*batch.shape)\n",
    "        \n",
    "        nb_batch += 1\n",
    "        if nb_batch >= np.ceil(len(x) / batch_size):\n",
    "            x = np.random.permutation(x) if shuffle else x\n",
    "            nb_batch = 0\n",
    "            \n",
    "        yield y, y"
   ]
  },
  {
   "cell_type": "markdown",
   "metadata": {},
   "source": [
    "# 3. Results"
   ]
  },
  {
   "cell_type": "markdown",
   "metadata": {},
   "source": [
    "## 3.1. Data"
   ]
  },
  {
   "cell_type": "markdown",
   "metadata": {},
   "source": [
    "### 3.1.1. Generated"
   ]
  },
  {
   "cell_type": "code",
   "execution_count": 12,
   "metadata": {},
   "outputs": [],
   "source": [
    "# generate data\n",
    "mean = zeros(5)\n",
    "S_gen = 1/2 * array([\n",
    "    [1, 0.9, 0.8, 0.7, 0.6],\n",
    "    [0, 1, 0.9, 0.8, 0.7],\n",
    "    [0, 0, 1, 0.9, 0.8],\n",
    "    [0, 0, 0, 1, 0.9],\n",
    "    [0, 0, 0, 0, 1]\n",
    "])\n",
    "S_gen = S_gen + S_gen.T\n",
    "x_gen = np.random.multivariate_normal(mean, S_gen, size=(60000,))\n",
    "x_gen = np.expand_dims(x_gen, -1)"
   ]
  },
  {
   "cell_type": "markdown",
   "metadata": {},
   "source": [
    "### 3.1.2. MNIST"
   ]
  },
  {
   "cell_type": "code",
   "execution_count": 13,
   "metadata": {},
   "outputs": [],
   "source": [
    "def preprocess(data):\n",
    "    x, y = data\n",
    "    x = x.reshape((len(x), 784))\n",
    "    x = x/255.\n",
    "    x = np.expand_dims(x, -1)\n",
    "    #y = to_categorical(y, 10) # don't need to categorise y\n",
    "    return x, y\n",
    "\n",
    "train, test = mnist.load_data()\n",
    "\n",
    "x_train, y_train = preprocess(train)\n",
    "x_test, y_test = preprocess(test)\n",
    "\n",
    "# for VAEs, binarize the data\n",
    "x_train_bin = x_train > np.random.rand(*x_train.shape)\n",
    "x_test_bin = x_test > np.random.rand(*x_test.shape)"
   ]
  },
  {
   "cell_type": "markdown",
   "metadata": {},
   "source": [
    "## 3.2. Analytic Model"
   ]
  },
  {
   "cell_type": "code",
   "execution_count": 14,
   "metadata": {},
   "outputs": [],
   "source": [
    "if not os.path.exists('./S.npy'):\n",
    "    b = np.mean(x_train, axis=0)\n",
    "    S = 0\n",
    "    for x in x_train:\n",
    "        S+= np.outer(x-b, x-b)\n",
    "    S /= len(x_train)\n",
    "    np.save('./S.npy', S)\n",
    "\n",
    "S = np.load('./S.npy')"
   ]
  },
  {
   "cell_type": "code",
   "execution_count": 15,
   "metadata": {},
   "outputs": [],
   "source": [
    "W_gen, sigma_gen = calculate_W_sigma(x_gen, S_gen, l=2)\n",
    "W, sigma = calculate_W_sigma(x_train, S, l=2)"
   ]
  },
  {
   "cell_type": "markdown",
   "metadata": {
    "heading_collapsed": true
   },
   "source": [
    "### 3.2.1. Result 1\n",
    "Sweep $W_{ML}$ for $\\ell=2$ and show that the ELBO is maximsied for an orthogonal $\\mathbf{M}$ on a _generated dataset_."
   ]
  },
  {
   "cell_type": "code",
   "execution_count": 215,
   "metadata": {
    "hidden": true
   },
   "outputs": [],
   "source": [
    "alpha = linspace(0, pi, 100)\n",
    "rotate_2 = lambda theta: array([[cos(theta), -sin(theta)], [sin(theta), cos(theta)]])\n",
    "generated_elbos = array([calculate_elbo(x_gen, W_gen, sigma_gen, R=rotate_2(a)) for a in alpha])\n",
    "\n",
    "log_p_x_gen = generated_elbos[:, 0]\n",
    "elbo_gen = generated_elbos[:, 1]\n",
    "var_gen = generated_elbos[:, 2]\n",
    "second_gen = elbo_gen + 1/2 * var_gen"
   ]
  },
  {
   "cell_type": "code",
   "execution_count": 216,
   "metadata": {
    "hidden": true
   },
   "outputs": [
    {
     "data": {
      "image/png": "[encoded data removed]",
      "text/plain": [
       "<Figure size 320x198 with 1 Axes>"
      ]
     },
     "metadata": {
      "needs_background": "light"
     },
     "output_type": "display_data"
    }
   ],
   "source": [
    "plot(theta, log_p_x_gen, '-k', label=r'$\\log p_{\\bm{\\theta}}(\\mathbf{X})$')\n",
    "plot(theta, elbo_gen, '--r', label=r'$\\log Z_{(1)}$')\n",
    "plot(theta, second_gen, '-.g', label=r'$\\log Z_{(2)}$')\n",
    "\n",
    "legend(loc=4)\n",
    "\n",
    "xticks((0, pi/4, pi/2, 3*pi/4, pi), labels=(r'$0$', r'$\\pi/4$', r'$\\pi/2$', r'$3\\pi/4$', r'$\\pi$'))\n",
    "xlabel(r'$\\alpha$')\n",
    "\n",
    "ylabel(r'Nats')\n",
    "\n",
    "text(0.1/1.618, 0.1, 'a',\n",
    "     fontdict = {\n",
    "         'family': 'sans-serif',\n",
    "         'name': 'arial',\n",
    "         'size': 12,\n",
    "         'weight': 'black',\n",
    "         'usetex': False\n",
    "     },\n",
    "     transform=gca().transAxes\n",
    ")\n",
    "\n",
    "savefig('./Figures/generated_logZ_v_theta_l02.pdf')"
   ]
  },
  {
   "cell_type": "markdown",
   "metadata": {
    "heading_collapsed": true
   },
   "source": [
    "### 3.2.2. Result 2\n",
    "Sweep $W_{ML}$ for $\\ell=2$ and show that the ELBO is maximsied for an orthogonal $\\mathbf{M}$ on the _MNIST dataset_."
   ]
  },
  {
   "cell_type": "code",
   "execution_count": 217,
   "metadata": {
    "hidden": true
   },
   "outputs": [],
   "source": [
    "alpha = linspace(0, pi, 100)\n",
    "rotate_2 = lambda theta: array([[cos(theta), -sin(theta)], [sin(theta), cos(theta)]])\n",
    "mnist_elbos = array([calculate_elbo(x_train, W, sigma, R=rotate_2(a)) for a in alpha])\n",
    "\n",
    "log_p_x_mnist = mnist_elbos[:, 0]\n",
    "elbo_mnist = mnist_elbos[:, 1]\n",
    "var_mnist = mnist_elbos[:, 2]\n",
    "second_mnist = elbo_mnist + 1/2 * var_mnist"
   ]
  },
  {
   "cell_type": "code",
   "execution_count": 218,
   "metadata": {
    "hidden": true
   },
   "outputs": [
    {
     "data": {
      "image/png": "[encoded data removed]",
      "text/plain": [
       "<Figure size 320x198 with 1 Axes>"
      ]
     },
     "metadata": {
      "needs_background": "light"
     },
     "output_type": "display_data"
    }
   ],
   "source": [
    "plot(theta, log_p_x_mnist, '-k', label=r'$\\log p_{\\bm{\\theta}}(\\mathbf{X})$')\n",
    "plot(theta, elbo_mnist, '--r', label=r'$\\log Z_{(1)}$')\n",
    "plot(theta, second_mnist, '-.g', label=r'$\\log Z_{(2)}$')\n",
    "\n",
    "legend(loc=4)\n",
    "\n",
    "xticks((0, pi/4, pi/2, 3*pi/4, pi), labels=(r'$0$', r'$\\pi/4$', r'$\\pi/2$', r'$3\\pi/4$', r'$\\pi$'))\n",
    "xlabel(r'$\\alpha$')\n",
    "\n",
    "ylabel(r'Nats')\n",
    "\n",
    "text(0.1/1.618, 0.1, 'b',\n",
    "     fontdict = {\n",
    "         'family': 'sans-serif',\n",
    "         'name': 'arial',\n",
    "         'size': 12,\n",
    "         'weight': 'black',\n",
    "         'usetex': False\n",
    "     },\n",
    "     transform=gca().transAxes\n",
    ")\n",
    "\n",
    "gcf().savefig('./Figures/mnist_logZ_v_theta_l02.pdf')"
   ]
  },
  {
   "cell_type": "markdown",
   "metadata": {
    "heading_collapsed": true
   },
   "source": [
    "### 3.2.3. Result 3\n",
    "Comparing second order t=correct term between MNIST and the gneerated set."
   ]
  },
  {
   "cell_type": "code",
   "execution_count": 328,
   "metadata": {
    "hidden": true
   },
   "outputs": [
    {
     "data": {
      "image/png": "[encoded data removed]",
      "text/plain": [
       "<Figure size 320x198 with 1 Axes>"
      ]
     },
     "metadata": {
      "needs_background": "light"
     },
     "output_type": "display_data"
    }
   ],
   "source": [
    "plot(theta, 1/2 * var_gen, '-k', label='Generated')\n",
    "\n",
    "# legend(loc=1)\n",
    "\n",
    "xticks((0, pi/4, pi/2, 3*pi/4, pi), labels=(r'$0$', r'$\\pi/4$', r'$\\pi/2$', r'$3\\pi/4$', r'$\\pi$'))\n",
    "xlabel(r'$\\alpha$')\n",
    "\n",
    "text(0.1/1.618, 0.85, 'a',\n",
    "     fontdict = {\n",
    "         'family': 'sans-serif',\n",
    "         'name': 'arial',\n",
    "         'size': 12,\n",
    "         'weight': 'black',\n",
    "         'usetex': False\n",
    "     },\n",
    "     transform=gca().transAxes\n",
    ")\n",
    "\n",
    "ylabel(r'Nats')\n",
    "\n",
    "gcf().savefig('./Figures/generated_var_l02.pdf')"
   ]
  },
  {
   "cell_type": "code",
   "execution_count": 329,
   "metadata": {
    "hidden": true
   },
   "outputs": [
    {
     "data": {
      "image/png": "[encoded data removed]",
      "text/plain": [
       "<Figure size 320x198 with 1 Axes>"
      ]
     },
     "metadata": {
      "needs_background": "light"
     },
     "output_type": "display_data"
    }
   ],
   "source": [
    "plot(theta, 1/2 * var_mnist, '-k', label='MNIST')\n",
    "# plot(theta, var_gen, '-.b', label='Generated')\n",
    "\n",
    "# legend(loc=1)\n",
    "\n",
    "xticks((0, pi/4, pi/2, 3*pi/4, pi), labels=(r'$0$', r'$\\pi/4$', r'$\\pi/2$', r'$3\\pi/4$', r'$\\pi$'))\n",
    "xlabel(r'$\\alpha$')\n",
    "\n",
    "text(0.1/1.618, 0.85, 'b',\n",
    "     fontdict = {\n",
    "         'family': 'sans-serif',\n",
    "         'name': 'arial',\n",
    "         'size': 12,\n",
    "         'weight': 'black',\n",
    "         'usetex': False\n",
    "     },\n",
    "     transform=gca().transAxes\n",
    ")\n",
    "\n",
    "ylabel(r'Nats')\n",
    "\n",
    "gcf().savefig('./Figures/mnist_var_l02.pdf')"
   ]
  },
  {
   "cell_type": "markdown",
   "metadata": {
    "heading_collapsed": true
   },
   "source": [
    "### 3.2.4 Result 4\n",
    "Sweeping $\\mathbf{W}_{ML}$ over non-leading PCA axes."
   ]
  },
  {
   "cell_type": "code",
   "execution_count": 311,
   "metadata": {
    "hidden": true
   },
   "outputs": [
    {
     "data": {
      "text/plain": [
       "Text(0, 0.5, 'Nats')"
      ]
     },
     "execution_count": 311,
     "metadata": {},
     "output_type": "execute_result"
    },
    {
     "data": {
      "image/png": "[encoded data removed]",
      "text/plain": [
       "<Figure size 320x198 with 1 Axes>"
      ]
     },
     "metadata": {
      "needs_background": "light"
     },
     "output_type": "display_data"
    }
   ],
   "source": [
    "W_gen, sigma_gen = calculate_W_sigma(x_gen, S_gen, l=3)\n",
    "\n",
    "rotate_3_12 = lambda theta: array([[cos(theta), -sin(theta), 0], [sin(theta), cos(theta), 0], [0, 0, 1]])\n",
    "rotate_3_13 = lambda theta: array([[cos(theta), 0, -sin(theta)], [0, 1, 0], [sin(theta), 0, cos(theta)]])\n",
    "rotate_3_23 = lambda theta: array([[1, 0, 0], [0, cos(theta), -sin(theta)], [0, sin(theta), cos(theta)]])\n",
    "rotates = [rotate_3_12, rotate_3_13, rotate_3_23]\n",
    "labels = ['12', '13', '23']\n",
    "styles = ['--', '-.', '-o']\n",
    "\n",
    "alpha = linspace(0, pi, 100)\n",
    "\n",
    "log_p_x_rot, _, _ = calculate_elbo(x_gen, W_gen, sigma_gen)\n",
    "plot(alpha, [log_p_x_rot] * len(alpha), '-k', label = r'$\\log p_{\\bm{\\theta}}(\\mathbf{X})$')\n",
    "\n",
    "for i, rotate in enumerate(rotates):\n",
    "    rotated_elbos = array([calculate_elbo(x_gen, W_gen, sigma_gen, R=rotate(a)) for a in alpha])\n",
    "\n",
    "    log_p_x_rot = rotated_elbos[:, 0]\n",
    "    elbo_rot = rotated_elbos[:, 1]\n",
    "    var_rot = rotated_elbos[:, 2]\n",
    "    second_rot = elbo_rot + 1/2 * var_rot\n",
    "    \n",
    "    plot(alpha, second_rot, styles[i], label = r'$\\mathbf{R}_{%s}(\\alpha)$' %labels[i], markevery=8, ms=4)\n",
    "    \n",
    "legend(loc=4)\n",
    "\n",
    "xticks((0, pi/4, pi/2, 3*pi/4, pi), labels=(r'$0$', r'$\\pi/4$', r'$\\pi/2$', r'$3\\pi/4$', r'$\\pi$'))\n",
    "xlabel(r'$\\alpha$')\n",
    "\n",
    "ylabel(r'Nats')"
   ]
  },
  {
   "cell_type": "markdown",
   "metadata": {},
   "source": [
    "## 3.3 Neural Network - Bernoulli Model"
   ]
  },
  {
   "cell_type": "code",
   "execution_count": 122,
   "metadata": {},
   "outputs": [
    {
     "name": "stdout",
     "output_type": "stream",
     "text": [
      "Model Loaded\n"
     ]
    }
   ],
   "source": [
    "latent_dim = 50\n",
    "\n",
    "encoder_model, (z_mean, log_z_var) = encoder(latent_dim)\n",
    "decoder_model = decoder(latent_dim)\n",
    "z_sampler = Sampler(always_sample=True, name='z_sampler')([z_mean, log_z_var])\n",
    "\n",
    "vae_model = Model(encoder_model.input, decoder_model(z_sampler))\n",
    "\n",
    "def bernoulli_loss(y_true, y_pred):\n",
    "    kl_loss = - 0.5 * K.sum(1 + log_z_var - K.square(z_mean) - K.exp(log_z_var), axis=-1)\n",
    "    im_loss = K.sum(K.binary_crossentropy(y_true, y_pred), axis=(-1, -2)) # computes -log p(x|z)\n",
    "    return kl_loss + im_loss\n",
    "\n",
    "vae_model.compile(optimizer='adam', loss=bernoulli_loss)\n",
    "\n",
    "# train and save the model\n",
    "\n",
    "if not os.path.exists('./models/'):\n",
    "    os.makedirs('./models/bernoulli/')\n",
    "\n",
    "dec_path = './models/bernoulli/dec_model_%d_dim.weights' %latent_dim\n",
    "weights_path = './models/bernoulli/vae_model_%d_dim.weights' %latent_dim\n",
    "history_path = './models/bernoulli/history_%d_dim.pkl' %latent_dim\n",
    "\n",
    "# reduce_lr = ReduceLROnPlateau(monitor='val_loss', factor=10**(-1/7), patience=10, min_lr=1e-4, verbose=1)\n",
    "nb_regions = 6\n",
    "regions = cumsum([3**i for i in range(nb_regions+1)])\n",
    "schedule = lambda i, lr: 0.001 * 10**(-sum(regions <= i)/nb_regions)\n",
    "\n",
    "lr_schedule = LearningRateScheduler(schedule)\n",
    "# early_stop = EarlyStopping(monitor='loss', patience=50, verbose=1)\n",
    "\n",
    "epochs = regions[-1]\n",
    "batch_size = 512\n",
    "steps_per_epoch = np.ceil(len(x_train) / batch_size)\n",
    "\n",
    "if not os.path.exists(weights_path):\n",
    "    # training\n",
    "    history = vae_model.fit_generator(\n",
    "        binarize_generator(x_train, batch_size),\n",
    "        steps_per_epoch=steps_per_epoch,\n",
    "        epochs=epochs,\n",
    "        callbacks=[lr_schedule]\n",
    "    )\n",
    "    # enc_dec_model represents the whole dec_model as a single layer\n",
    "    # so we have to save the decoder weights seperately\n",
    "    decoder_model.save_weights(dec_path) # hacky fix for decoder weights\n",
    "    vae_model.save_weights(weights_path)\n",
    "    # save history\n",
    "    history = history.history\n",
    "    pickle.dump(history, open(history_path, 'wb'))\n",
    "    print('Model Saved')\n",
    "else:\n",
    "    decoder_model.load_weights(dec_path, by_name=True)\n",
    "    encoder_model.load_weights(weights_path, by_name=True)\n",
    "    vae_model.load_weights(weights_path, by_name=True)\n",
    "    history = pickle.load(open(history_path, 'rb'))\n",
    "    print('Model Loaded')\n",
    "    "
   ]
  },
  {
   "cell_type": "code",
   "execution_count": 123,
   "metadata": {},
   "outputs": [],
   "source": [
    "if colab:\n",
    "    files.download(weights_path)\n",
    "    files.download(dec_path)\n",
    "    files.download(history_path)"
   ]
  },
  {
   "cell_type": "code",
   "execution_count": 124,
   "metadata": {},
   "outputs": [
    {
     "name": "stdout",
     "output_type": "stream",
     "text": [
      "Step 625/625 completed: ELBO: -88.069  -  im_loss: -66.390  -  kl_loss: -26.095"
     ]
    }
   ],
   "source": [
    "iwae_test_path = './data/nips/test_iwae_mean_V_l%d.csv' %latent_dim\n",
    "if not os.path.exists(iwae_test_path):\n",
    "    iwae, mean_V, var_V, im_loss, kl_loss = mc_estimate_iwae_V(x_test_bin, batch_size=16, samples=5000)\n",
    "\n",
    "    df = pd.DataFrame(\n",
    "        data = array([y_test, iwae, -mean_V, var_V, -mean_V + 1/2 * var_V, im_loss, kl_loss]).T, \n",
    "        columns=['class', 'iwae', 'mean_V', 'var_V', 'second_V', 'im_loss', 'kl_loss']\n",
    "    )\n",
    "\n",
    "    df.to_csv(iwae_test_path, index=False)\n",
    "else:\n",
    "    df = pd.read_csv(iwae_test_path)"
   ]
  },
  {
   "cell_type": "code",
   "execution_count": 125,
   "metadata": {},
   "outputs": [
    {
     "data": {
      "text/plain": [
       "-87.48721836968984"
      ]
     },
     "execution_count": 125,
     "metadata": {},
     "output_type": "execute_result"
    }
   ],
   "source": [
    "np.mean(-mean_V + 1/2 * var_V)"
   ]
  },
  {
   "cell_type": "markdown",
   "metadata": {},
   "source": [
    "### 3.3.1 Result 5\n",
    "Plot samples from the test data with the largest elbo and lowest variance per class."
   ]
  },
  {
   "cell_type": "code",
   "execution_count": 109,
   "metadata": {},
   "outputs": [],
   "source": [
    "def get_reconstruction_samples(images, samples=5, reshape=True):\n",
    "    z_mean, log_z_var = encoder_model.predict(images > np.random.rand(*images.shape))\n",
    "    z_samples = z_mean + np.exp(log_z_var/2) * np.random.normal(0, 1, size=(samples, *z_mean.shape))\n",
    "    z_samples = z_samples.reshape(len(images) * samples, z_mean.shape[-1])\n",
    "    sample_images = decoder_model.predict(z_samples)\n",
    "    sample_images = sample_images.reshape(samples, len(images), 28, 28)\n",
    "    if reshape:\n",
    "        reshaped = zeros((len(images), 28, 28*samples))\n",
    "        for i, sample in enumerate(sample_images):\n",
    "            reshaped[:, :, i*28:(i+1)*28] = sample\n",
    "        return reshaped\n",
    "    return sample_images\n",
    "\n",
    "def plot_save_min_max(classes, label, images, samples=5):\n",
    "    for i, image in enumerate(images):\n",
    "        fig, ax = plt.subplots(figsize=(3.2, 3.2), constrained_layout=True)\n",
    "        ax.imshow(image.reshape(28, 28), cmap='Greys')\n",
    "        ax.set_xticks(())\n",
    "        ax.set_yticks(())\n",
    "        fig.savefig('./Figures/' + label + '/' + str(classes[i]) + '_' + label + '_data_l%d.pdf' %latent_dim)\n",
    "    \n",
    "    # now take samples from the reconstruction\n",
    "    sample_images = get_reconstruction_samples(images, samples=samples)\n",
    "    for number, sample in zip(classes, sample_images):\n",
    "        fig, ax = plt.subplots(figsize=(3.2*samples, 3.2), constrained_layout=True)\n",
    "        ax.imshow(sample, cmap='Greys')\n",
    "        ax.set_xticks(())\n",
    "        ax.set_yticks(())\n",
    "        fig.savefig('./Figures/' + label + '/' + str(number) + '_' + label + '_samples_l%d.pdf' %latent_dim)"
   ]
  },
  {
   "cell_type": "code",
   "execution_count": 110,
   "metadata": {},
   "outputs": [
    {
     "name": "stderr",
     "output_type": "stream",
     "text": [
      "C:\\Users\\User\\Anaconda3\\envs\\tensorflow-gpu\\lib\\site-packages\\matplotlib\\pyplot.py:514: RuntimeWarning: More than 20 figures have been opened. Figures created through the pyplot interface (`matplotlib.pyplot.figure`) are retained until explicitly closed and may consume too much memory. (To control this warning, see the rcParam `figure.max_open_warning`).\n",
      "  max_open_warning, RuntimeWarning)\n"
     ]
    },
    {
     "data": {
      "image/png": "[encoded data removed]",
      "text/plain": [
       "<Figure size 320x320 with 1 Axes>"
      ]
     },
     "metadata": {},
     "output_type": "display_data"
    },
    {
     "data": {
      "image/png": "[encoded data removed]",
      "text/plain": [
       "<Figure size 320x320 with 1 Axes>"
      ]
     },
     "metadata": {},
     "output_type": "display_data"
    },
    {
     "data": {
      "image/png": "[encoded data removed]",
      "text/plain": [
       "<Figure size 320x320 with 1 Axes>"
      ]
     },
     "metadata": {},
     "output_type": "display_data"
    },
    {
     "data": {
      "image/png": "[encoded data removed]",
      "text/plain": [
       "<Figure size 320x320 with 1 Axes>"
      ]
     },
     "metadata": {},
     "output_type": "display_data"
    },
    {
     "data": {
      "image/png": "[encoded data removed]",
      "text/plain": [
       "<Figure size 320x320 with 1 Axes>"
      ]
     },
     "metadata": {},
     "output_type": "display_data"
    },
    {
     "data": {
      "image/png": "[encoded data removed]",
      "text/plain": [
       "<Figure size 320x320 with 1 Axes>"
      ]
     },
     "metadata": {},
     "output_type": "display_data"
    },
    {
     "data": {
      "image/png": "[encoded data removed]",
      "text/plain": [
       "<Figure size 320x320 with 1 Axes>"
      ]
     },
     "metadata": {},
     "output_type": "display_data"
    },
    {
     "data": {
      "image/png": "[encoded data removed]",
      "text/plain": [
       "<Figure size 320x320 with 1 Axes>"
      ]
     },
     "metadata": {},
     "output_type": "display_data"
    },
    {
     "data": {
      "image/png": "[encoded data removed]",
      "text/plain": [
       "<Figure size 320x320 with 1 Axes>"
      ]
     },
     "metadata": {},
     "output_type": "display_data"
    },
    {
     "data": {
      "image/png": "[encoded data removed]",
      "text/plain": [
       "<Figure size 320x320 with 1 Axes>"
      ]
     },
     "metadata": {},
     "output_type": "display_data"
    },
    {
     "data": {
      "image/png": "[encoded data removed]",
      "text/plain": [
       "<Figure size 1600x320 with 1 Axes>"
      ]
     },
     "metadata": {},
     "output_type": "display_data"
    },
    {
     "data": {
      "image/png": "[encoded data removed]",
      "text/plain": [
       "<Figure size 1600x320 with 1 Axes>"
      ]
     },
     "metadata": {},
     "output_type": "display_data"
    },
    {
     "data": {
      "image/png": "[encoded data removed]",
      "text/plain": [
       "<Figure size 1600x320 with 1 Axes>"
      ]
     },
     "metadata": {},
     "output_type": "display_data"
    },
    {
     "data": {
      "image/png": "[encoded data removed]",
      "text/plain": [
       "<Figure size 1600x320 with 1 Axes>"
      ]
     },
     "metadata": {},
     "output_type": "display_data"
    },
    {
     "data": {
      "image/png": "[encoded data removed]",
      "text/plain": [
       "<Figure size 1600x320 with 1 Axes>"
      ]
     },
     "metadata": {},
     "output_type": "display_data"
    },
    {
     "data": {
      "image/png": "[encoded data removed]",
      "text/plain": [
       "<Figure size 1600x320 with 1 Axes>"
      ]
     },
     "metadata": {},
     "output_type": "display_data"
    },
    {
     "data": {
      "image/png": "[encoded data removed]",
      "text/plain": [
       "<Figure size 1600x320 with 1 Axes>"
      ]
     },
     "metadata": {},
     "output_type": "display_data"
    },
    {
     "data": {
      "image/png": "[encoded data removed]",
      "text/plain": [
       "<Figure size 1600x320 with 1 Axes>"
      ]
     },
     "metadata": {},
     "output_type": "display_data"
    },
    {
     "data": {
      "image/png": "[encoded data removed]",
      "text/plain": [
       "<Figure size 1600x320 with 1 Axes>"
      ]
     },
     "metadata": {},
     "output_type": "display_data"
    },
    {
     "data": {
      "image/png": "[encoded data removed]",
      "text/plain": [
       "<Figure size 1600x320 with 1 Axes>"
      ]
     },
     "metadata": {},
     "output_type": "display_data"
    },
    {
     "data": {
      "image/png": "[encoded data removed]",
      "text/plain": [
       "<Figure size 320x320 with 1 Axes>"
      ]
     },
     "metadata": {},
     "output_type": "display_data"
    },
    {
     "data": {
      "image/png": "[encoded data removed]",
      "text/plain": [
       "<Figure size 320x320 with 1 Axes>"
      ]
     },
     "metadata": {},
     "output_type": "display_data"
    },
    {
     "data": {
      "image/png": "[encoded data removed]",
      "text/plain": [
       "<Figure size 320x320 with 1 Axes>"
      ]
     },
     "metadata": {},
     "output_type": "display_data"
    },
    {
     "data": {
      "image/png": "[encoded data removed]",
      "text/plain": [
       "<Figure size 320x320 with 1 Axes>"
      ]
     },
     "metadata": {},
     "output_type": "display_data"
    },
    {
     "data": {
      "image/png": "[encoded data removed]",
      "text/plain": [
       "<Figure size 320x320 with 1 Axes>"
      ]
     },
     "metadata": {},
     "output_type": "display_data"
    },
    {
     "data": {
      "image/png": "[encoded data removed]",
      "text/plain": [
       "<Figure size 320x320 with 1 Axes>"
      ]
     },
     "metadata": {},
     "output_type": "display_data"
    },
    {
     "data": {
      "image/png": "[encoded data removed]",
      "text/plain": [
       "<Figure size 320x320 with 1 Axes>"
      ]
     },
     "metadata": {},
     "output_type": "display_data"
    },
    {
     "data": {
      "image/png": "[encoded data removed]",
      "text/plain": [
       "<Figure size 320x320 with 1 Axes>"
      ]
     },
     "metadata": {},
     "output_type": "display_data"
    },
    {
     "data": {
      "image/png": "[encoded data removed]",
      "text/plain": [
       "<Figure size 320x320 with 1 Axes>"
      ]
     },
     "metadata": {},
     "output_type": "display_data"
    },
    {
     "data": {
      "image/png": "[encoded data removed]",
      "text/plain": [
       "<Figure size 320x320 with 1 Axes>"
      ]
     },
     "metadata": {},
     "output_type": "display_data"
    },
    {
     "data": {
      "image/png": "[encoded data removed]",
      "text/plain": [
       "<Figure size 1600x320 with 1 Axes>"
      ]
     },
     "metadata": {},
     "output_type": "display_data"
    },
    {
     "data": {
      "image/png": "[encoded data removed]",
      "text/plain": [
       "<Figure size 1600x320 with 1 Axes>"
      ]
     },
     "metadata": {},
     "output_type": "display_data"
    },
    {
     "data": {
      "image/png": "[encoded data removed]",
      "text/plain": [
       "<Figure size 1600x320 with 1 Axes>"
      ]
     },
     "metadata": {},
     "output_type": "display_data"
    },
    {
     "data": {
      "image/png": "[encoded data removed]",
      "text/plain": [
       "<Figure size 1600x320 with 1 Axes>"
      ]
     },
     "metadata": {},
     "output_type": "display_data"
    },
    {
     "data": {
      "image/png": "[encoded data removed]",
      "text/plain": [
       "<Figure size 1600x320 with 1 Axes>"
      ]
     },
     "metadata": {},
     "output_type": "display_data"
    },
    {
     "data": {
      "image/png": "[encoded data removed]",
      "text/plain": [
       "<Figure size 1600x320 with 1 Axes>"
      ]
     },
     "metadata": {},
     "output_type": "display_data"
    },
    {
     "data": {
      "image/png": "[encoded data removed]",
      "text/plain": [
       "<Figure size 1600x320 with 1 Axes>"
      ]
     },
     "metadata": {},
     "output_type": "display_data"
    },
    {
     "data": {
      "image/png": "[encoded data removed]",
      "text/plain": [
       "<Figure size 1600x320 with 1 Axes>"
      ]
     },
     "metadata": {},
     "output_type": "display_data"
    },
    {
     "data": {
      "image/png": "[encoded data removed]",
      "text/plain": [
       "<Figure size 1600x320 with 1 Axes>"
      ]
     },
     "metadata": {},
     "output_type": "display_data"
    },
    {
     "data": {
      "image/png": "[encoded data removed]",
      "text/plain": [
       "<Figure size 1600x320 with 1 Axes>"
      ]
     },
     "metadata": {},
     "output_type": "display_data"
    }
   ],
   "source": [
    "min_var = np.argwhere(df['var_V'].apply(lambda x: x in df.groupby('class')['var_V'].min().get_values())).T[0]\n",
    "max_var = np.argwhere(df['var_V'].apply(lambda x: x in df.groupby('class')['var_V'].max().get_values())).T[0]\n",
    "min_iwae = np.argwhere(df['mean_V'].apply(lambda x: x in df.groupby('class')['mean_V'].min().get_values())).T[0]\n",
    "max_iwae = np.argwhere(df['mean_V'].apply(lambda x: x in df.groupby('class')['mean_V'].max().get_values())).T[0]\n",
    "\n",
    "plot_save_min_max(y_test[min_var], 'min_var', x_test[min_var])\n",
    "plot_save_min_max(y_test[max_iwae], 'max_iwae', x_test[max_iwae])"
   ]
  },
  {
   "cell_type": "markdown",
   "metadata": {
    "heading_collapsed": true
   },
   "source": [
    "### 3.3.2 Result 6\n",
    "Sampling good / bad elbos from the latent space against sampling good / bad variances."
   ]
  },
  {
   "cell_type": "code",
   "execution_count": 111,
   "metadata": {
    "hidden": true
   },
   "outputs": [],
   "source": [
    "if latent_dim == 2:\n",
    "    x = y = linspace(-5, 5, 300)\n",
    "    X, Y = np.meshgrid(x, y)\n",
    "    latent_samples = 400\n",
    "    for num in range(10):\n",
    "        df_num = df[df['class'] == num]\n",
    "        df_samples = df_num.sample(n=latent_samples)\n",
    "        idx_samples = df_samples.index.tolist()\n",
    "        z_mean_sample, log_z_var_sample = encoder_model.predict(x_test[idx_samples], batch_size=2000)\n",
    "        z_std_sample = np.exp(log_z_var_sample/2)\n",
    "        \n",
    "        latent_dist = np.mean([\n",
    "            1/sqrt(2*pi*std[0]) * 1/sqrt(2*pi*std[1]) \n",
    "            * np.exp(-(X - mu[0])**2 / (2 * std[0]**2)) * np.exp(-(Y - mu[1])**2 / (2 * std[1]**2)) \n",
    "            for mu, std in zip(z_mean_sample, z_std_sample)\n",
    "        ], axis=0)\n",
    "        \n",
    "        df_top_iwae = df_num.sort_values('iwae', ascending=False).head(10)\n",
    "        idx_top_iwae = df_top_iwae.index.tolist()\n",
    "        z_mean_iwae, _ = encoder_model.predict(x_test[idx_top_iwae], batch_size=2000)\n",
    "        \n",
    "        df_top_var = df_num.sort_values('var_V', ascending=True).head(10)\n",
    "        idx_top_var = df_top_var.index.tolist()\n",
    "        z_mean_var, _ = encoder_model.predict(x_test[idx_top_var], batch_size=2000)\n",
    "        \n",
    "        fig, ax = plt.subplots(figsize=(3.2, 3.2))\n",
    "        ax.pcolormesh(X, Y, latent_dist, cmap='Greys_r')\n",
    "        ax.scatter(z_mean_iwae[:, 0], z_mean_iwae[:, 1], c='g', s=12, marker='o')\n",
    "        ax.scatter(z_mean_var[:, 0], z_mean_var[:, 1], c='b', s=12, marker='^')\n",
    "        ax.set_xticks(())\n",
    "        ax.set_yticks(())\n",
    "        \n",
    "        ax.text(\n",
    "            0.07, 0.93, str(num),\n",
    "            fontdict = {\n",
    "                'family': 'sans-serif',\n",
    "                'color': 'white',\n",
    "                'name': 'arial',\n",
    "                'size': 12,\n",
    "                'weight': 'black',\n",
    "                'usetex': False\n",
    "            },\n",
    "            transform=ax.transAxes,\n",
    "            verticalalignment='center',\n",
    "            horizontalalignment='center'\n",
    "        )\n",
    "        \n",
    "        \n",
    "        show()\n",
    "        fig.savefig('./Figures/latent_spaces/%d_latent_space.pdf' %num)"
   ]
  },
  {
   "cell_type": "markdown",
   "metadata": {},
   "source": [
    "### 3.3.3 Result 7\n",
    "Average distance from the mean for the best iwae / var samples."
   ]
  },
  {
   "cell_type": "code",
   "execution_count": 115,
   "metadata": {},
   "outputs": [
    {
     "data": {
      "text/html": [
       "<div>\n",
       "<style scoped>\n",
       "    .dataframe tbody tr th:only-of-type {\n",
       "        vertical-align: middle;\n",
       "    }\n",
       "\n",
       "    .dataframe tbody tr th {\n",
       "        vertical-align: top;\n",
       "    }\n",
       "\n",
       "    .dataframe thead th {\n",
       "        text-align: right;\n",
       "    }\n",
       "</style>\n",
       "<table border=\"1\" class=\"dataframe\">\n",
       "  <thead>\n",
       "    <tr style=\"text-align: right;\">\n",
       "      <th></th>\n",
       "      <th>class</th>\n",
       "      <th>IWAE distance</th>\n",
       "      <th>VAR distance</th>\n",
       "    </tr>\n",
       "  </thead>\n",
       "  <tbody>\n",
       "    <tr>\n",
       "      <th>0</th>\n",
       "      <td>0.0</td>\n",
       "      <td>2.850574</td>\n",
       "      <td>2.340403</td>\n",
       "    </tr>\n",
       "    <tr>\n",
       "      <th>1</th>\n",
       "      <td>1.0</td>\n",
       "      <td>2.041625</td>\n",
       "      <td>1.750382</td>\n",
       "    </tr>\n",
       "    <tr>\n",
       "      <th>2</th>\n",
       "      <td>2.0</td>\n",
       "      <td>3.513714</td>\n",
       "      <td>3.591965</td>\n",
       "    </tr>\n",
       "    <tr>\n",
       "      <th>3</th>\n",
       "      <td>3.0</td>\n",
       "      <td>3.102333</td>\n",
       "      <td>2.791945</td>\n",
       "    </tr>\n",
       "    <tr>\n",
       "      <th>4</th>\n",
       "      <td>4.0</td>\n",
       "      <td>2.866394</td>\n",
       "      <td>2.854370</td>\n",
       "    </tr>\n",
       "    <tr>\n",
       "      <th>5</th>\n",
       "      <td>5.0</td>\n",
       "      <td>3.358417</td>\n",
       "      <td>3.100240</td>\n",
       "    </tr>\n",
       "    <tr>\n",
       "      <th>6</th>\n",
       "      <td>6.0</td>\n",
       "      <td>3.083055</td>\n",
       "      <td>2.721152</td>\n",
       "    </tr>\n",
       "    <tr>\n",
       "      <th>7</th>\n",
       "      <td>7.0</td>\n",
       "      <td>2.608751</td>\n",
       "      <td>2.356300</td>\n",
       "    </tr>\n",
       "    <tr>\n",
       "      <th>8</th>\n",
       "      <td>8.0</td>\n",
       "      <td>3.155239</td>\n",
       "      <td>2.683322</td>\n",
       "    </tr>\n",
       "    <tr>\n",
       "      <th>9</th>\n",
       "      <td>9.0</td>\n",
       "      <td>2.668302</td>\n",
       "      <td>2.397213</td>\n",
       "    </tr>\n",
       "  </tbody>\n",
       "</table>\n",
       "</div>"
      ],
      "text/plain": [
       "   class  IWAE distance  VAR distance\n",
       "0    0.0       2.850574      2.340403\n",
       "1    1.0       2.041625      1.750382\n",
       "2    2.0       3.513714      3.591965\n",
       "3    3.0       3.102333      2.791945\n",
       "4    4.0       2.866394      2.854370\n",
       "5    5.0       3.358417      3.100240\n",
       "6    6.0       3.083055      2.721152\n",
       "7    7.0       2.608751      2.356300\n",
       "8    8.0       3.155239      2.683322\n",
       "9    9.0       2.668302      2.397213"
      ]
     },
     "execution_count": 115,
     "metadata": {},
     "output_type": "execute_result"
    }
   ],
   "source": [
    "top_samples = 10\n",
    "classes = []\n",
    "iwae_dists = []\n",
    "var_dists = []\n",
    "\n",
    "dist_path = './data/nips/distances_%d_samples_l_%d.csv' %(top_samples, latent_dim)\n",
    "\n",
    "for num in range(10):\n",
    "    df_num = df[df['class'] == num]\n",
    "    idx_samples = df_num.index.tolist()\n",
    "    z_mean_sample, _ = encoder_model.predict(x_test[idx_samples], batch_size=2000)\n",
    "    \n",
    "    df_top_iwae = df_num.sort_values('iwae', ascending=False).head(top_samples)\n",
    "    idx_top_iwae = df_top_iwae.index.tolist()\n",
    "    z_mean_iwae, _ = encoder_model.predict(x_test[idx_top_iwae], batch_size=2000)\n",
    "\n",
    "    df_top_var = df_num.sort_values('var_V', ascending=True).head(top_samples)\n",
    "    idx_top_var = df_top_var.index.tolist()\n",
    "    z_mean_var, _ = encoder_model.predict(x_test[idx_top_var], batch_size=2000)\n",
    "    \n",
    "    z_mean = np.mean(z_mean_sample, axis=0)\n",
    "    iwae_distance = np.mean(linalg.norm(z_mean_iwae - z_mean, axis=1))\n",
    "    var_distance = np.mean(linalg.norm(z_mean_var - z_mean, axis=1))\n",
    "    \n",
    "    classes.append(num)\n",
    "    iwae_dists.append(iwae_distance)\n",
    "    var_dists.append(var_distance)\n",
    "    \n",
    "df_dists = pd.DataFrame(data=array([classes, iwae_dists, var_dists]).T, columns=['class', 'IWAE distance', 'VAR distance'])\n",
    "df_dists.to_csv(dist_path, index=False)\n",
    "df_dists"
   ]
  },
  {
   "cell_type": "markdown",
   "metadata": {},
   "source": [
    "### 3.3.4 Result 8\n",
    "Relationship between kl term, image term, and the second order correction."
   ]
  },
  {
   "cell_type": "code",
   "execution_count": 132,
   "metadata": {},
   "outputs": [
    {
     "data": {
      "text/plain": [
       "<matplotlib.colorbar.Colorbar at 0x1a0a1d92828>"
      ]
     },
     "execution_count": 132,
     "metadata": {},
     "output_type": "execute_result"
    },
    {
     "data": {
      "image/png": "[encoded data removed]",
      "text/plain": [
       "<Figure size 320x198 with 2 Axes>"
      ]
     },
     "metadata": {
      "needs_background": "light"
     },
     "output_type": "display_data"
    }
   ],
   "source": [
    "kl_term = df['kl_loss'].get_values()\n",
    "im_term = df['im_loss'].get_values()\n",
    "var_term = df['var_V'].get_values()\n",
    "scatter(kl_term, im_term, c=var_term)\n",
    "colorbar()"
   ]
  },
  {
   "cell_type": "markdown",
   "metadata": {
    "heading_collapsed": true
   },
   "source": [
    "## 3.4 Neural Network - Linear Gaussian Model"
   ]
  },
  {
   "cell_type": "code",
   "execution_count": 417,
   "metadata": {
    "hidden": true
   },
   "outputs": [],
   "source": [
    "# VAE model from \"Auto Encoding Variation Bayes\": https://arxiv.org/pdf/1312.6114.pdf\n",
    "# encoder model is modelled by a gaussian, producing the latent\n",
    "# variables mean and its log standard deviation\n",
    "\n",
    "def gauss_model(latent_dim, hidden_dim=200):\n",
    "    # encoder shared layers\n",
    "    enc_hid = Dense(hidden_dim, activation='relu', name='enc_hidden')\n",
    "    #z_mean = Dense(latent_dim, name='latent_mean')\n",
    "    #log_z_var = Dense(latent_dim, name='log_latent_var')\n",
    "    enc_layer = Encoder(latent_dim, name='enc_mean')\n",
    "    \n",
    "    # decoder shared layers\n",
    "    dec_hid = Dense(hidden_dim, activation='relu', name='dec_hidden')\n",
    "    #dec_mean = Dense(28*28, name='dec_mean')\n",
    "    #log_dec_var = Dense(1, name='log_dec_var')\n",
    "    dec_layer = Decoder(28*28, name='dec_mean')\n",
    "    \n",
    "    # encoder model\n",
    "    enc_in = Input(shape=(784,), name='enc_input')\n",
    "    #y = enc_hid(enc_in)\n",
    "    y = enc_in\n",
    "    #y_1 = z_mean(y)\n",
    "    #y_2 = log_z_var(y)\n",
    "    y_1, y_2 = enc_layer(y)\n",
    "    enc_model = Model(enc_in, y_1, name='encoder_model')\n",
    "    \n",
    "    # decoder model\n",
    "    dec_in = Input(shape=(latent_dim,), name='dec_in')\n",
    "    #y = dec_hid(dec_in)\n",
    "    y = dec_in\n",
    "    #y_1 = dec_mean(y)\n",
    "    #y_2 = log_dec_var(y)\n",
    "    y_1, y_2 = dec_layer(y)\n",
    "    dec_model = Model(dec_in, y_1, name='decoder model')\n",
    "    \n",
    "    # encoder - decoder model\n",
    "    y = enc_in\n",
    "    #y = enc_hid(y)\n",
    "    #z_mean = z_mean(y)\n",
    "    #log_z_var = log_z_var(y)\n",
    "    z_mean, log_z_var = enc_layer(y)\n",
    "    y = Sampler(always_sample=True, name='z_sampler')([z_mean, log_z_var])\n",
    "    #y = dec_hid(y)\n",
    "    #dec_mean = dec_mean(y)\n",
    "    #log_dec_var = log_dec_var(y)\n",
    "    dec_mean, log_dec_var = dec_layer(y)\n",
    "    #y = Sampler(name='out_sampler')([dec_mean, log_dec_var])\n",
    "    enc_dec_model = Model(enc_in, dec_mean, name='encdec model')\n",
    "    \n",
    "    return (enc_model, dec_model, enc_dec_model), (z_mean, log_z_var), (dec_mean, log_dec_var)\n",
    "    \n",
    "    \n",
    "# to properly make a global decoder variance, we need a decoder layer\n",
    "\n",
    "\n",
    "class Decoder(Dense):\n",
    "    \n",
    "    #def __init__(self, units, **kwargs):\n",
    "    #    super(Decoder, self).__init__(units, **kwargs)\n",
    "    \n",
    "    def build(self, input_shape):\n",
    "        self.log_dec_var = self.add_weight(\n",
    "            name='log_dec_var',\n",
    "            shape=(1,),\n",
    "            initializer='zeros'\n",
    "        )\n",
    "        super(Decoder, self).build(input_shape)\n",
    "        \n",
    "    def call(self, inputs):\n",
    "        output = K.dot(inputs, self.kernel)\n",
    "        if self.use_bias:\n",
    "            output = K.bias_add(output, self.bias, data_format='channels_last')\n",
    "        if self.activation is not None:\n",
    "            output = self.activation(output)\n",
    "            \n",
    "        output = [output, self.log_dec_var]\n",
    "        \n",
    "        return output\n",
    "    \n",
    "    def compute_output_shape(self, input_shape):\n",
    "        assert input_shape and len(input_shape) >= 2\n",
    "        assert input_shape[-1]\n",
    "        output_shape = list(input_shape)\n",
    "        output_shape[-1] = self.units\n",
    "        return [tuple(output_shape), (1,)]\n",
    "    \n",
    "    \n",
    "# to properly make a global latent variance, we need an encoder layer    \n",
    "    \n",
    "    \n",
    "class Encoder(Dense):\n",
    "    \n",
    "    def __init__(self, units, always_sample=False, **kwargs):\n",
    "        self.always_sample = False\n",
    "        super(Encoder, self).__init__(units, **kwargs)\n",
    "        \n",
    "    def build(self, input_shape):\n",
    "        assert len(input_shape) >= 2\n",
    "        \n",
    "        self.log_z_mean = self.add_weight(\n",
    "            name='log_z_mean',\n",
    "            shape=(self.units,),\n",
    "            initializer='zeros'\n",
    "        )\n",
    "        super(Encoder, self).build(input_shape)\n",
    "        \n",
    "    def call(self, inputs):\n",
    "        z_mean = K.dot(inputs, self.kernel)\n",
    "        if self.use_bias:\n",
    "            z_mean = K.bias_add(z_mean, self.bias, data_format='channels_last')\n",
    "        if self.activation is not None:\n",
    "            z_mean = self.activation(z_mean)\n",
    "            \n",
    "        output = [z_mean, self.log_z_mean]\n",
    "        \n",
    "        return output\n",
    "    \n",
    "    def compute_output_shape(self, input_shape):\n",
    "        assert input_shape and len(input_shape) >= 2\n",
    "        assert input_shape[-1]\n",
    "        output_shape = list(input_shape)\n",
    "        output_shape[-1] = self.units\n",
    "        return [tuple(output_shape), (self.units,)]"
   ]
  },
  {
   "cell_type": "code",
   "execution_count": 578,
   "metadata": {
    "hidden": true
   },
   "outputs": [
    {
     "name": "stdout",
     "output_type": "stream",
     "text": [
      "Epoch 1/171\n",
      "60000/60000 [==============================] - 5s 79us/step - loss: 772.0051\n",
      "Epoch 2/171\n",
      "60000/60000 [==============================] - 3s 45us/step - loss: 677.6168\n",
      "Epoch 3/171\n",
      "60000/60000 [==============================] - 3s 47us/step - loss: 630.7890\n",
      "Epoch 4/171\n",
      "60000/60000 [==============================] - 3s 49us/step - loss: 585.7323\n",
      "Epoch 5/171\n",
      "60000/60000 [==============================] - 3s 46us/step - loss: 541.7906\n",
      "Epoch 6/171\n",
      "60000/60000 [==============================] - 3s 46us/step - loss: 498.8524\n",
      "Epoch 7/171\n",
      "60000/60000 [==============================] - 3s 48us/step - loss: 456.5547\n",
      "Epoch 8/171\n",
      "60000/60000 [==============================] - 3s 49us/step - loss: 414.5360\n",
      "Epoch 9/171\n",
      "60000/60000 [==============================] - 3s 45us/step - loss: 372.5899\n",
      "Epoch 10/171\n",
      "60000/60000 [==============================] - 3s 44us/step - loss: 331.0292\n",
      "Epoch 11/171\n",
      "60000/60000 [==============================] - 3s 51us/step - loss: 290.0465\n",
      "Epoch 12/171\n",
      "60000/60000 [==============================] - 3s 55us/step - loss: 249.6812\n",
      "Epoch 13/171\n",
      "60000/60000 [==============================] - 3s 54us/step - loss: 209.8903\n",
      "Epoch 14/171\n",
      "60000/60000 [==============================] - 3s 51us/step - loss: 170.6961\n",
      "Epoch 15/171\n",
      "60000/60000 [==============================] - 3s 53us/step - loss: 132.1121\n",
      "Epoch 16/171\n",
      "60000/60000 [==============================] - 3s 52us/step - loss: 93.9880A: 1s - loss: \n",
      "Epoch 17/171\n",
      "60000/60000 [==============================] - 3s 50us/step - loss: 56.4925\n",
      "Epoch 18/171\n",
      "60000/60000 [==============================] - 3s 49us/step - loss: 19.3847\n",
      "Epoch 19/171\n",
      "60000/60000 [==============================] - 3s 49us/step - loss: -17.1843\n",
      "Epoch 20/171\n",
      "60000/60000 [==============================] - 3s 48us/step - loss: -53.0046\n",
      "Epoch 21/171\n",
      "60000/60000 [==============================] - 3s 48us/step - loss: -88.2376\n",
      "Epoch 22/171\n",
      "60000/60000 [==============================] - 3s 48us/step - loss: -122.7507\n",
      "Epoch 23/171\n",
      "60000/60000 [==============================] - 3s 48us/step - loss: -156.5372\n",
      "Epoch 24/171\n",
      "60000/60000 [==============================] - 3s 47us/step - loss: -189.7231\n",
      "Epoch 25/171\n",
      "60000/60000 [==============================] - 3s 50us/step - loss: -221.9834\n",
      "Epoch 26/171\n",
      "60000/60000 [==============================] - 3s 49us/step - loss: -253.6279\n",
      "Epoch 27/171\n",
      "60000/60000 [==============================] - 3s 50us/step - loss: -284.4846 0s - loss: -284.34\n",
      "Epoch 28/171\n",
      "60000/60000 [==============================] - 3s 53us/step - loss: -314.3045\n",
      "Epoch 29/171\n",
      "60000/60000 [==============================] - 3s 49us/step - loss: -343.4234\n",
      "Epoch 30/171\n",
      "60000/60000 [==============================] - 3s 47us/step - loss: -371.7367\n",
      "Epoch 31/171\n",
      "60000/60000 [==============================] - 3s 49us/step - loss: -399.2176\n",
      "Epoch 32/171\n",
      "60000/60000 [==============================] - 3s 49us/step - loss: -425.8024\n",
      "Epoch 33/171\n",
      "60000/60000 [==============================] - 3s 48us/step - loss: -451.2925\n",
      "Epoch 34/171\n",
      "60000/60000 [==============================] - 3s 52us/step - loss: -475.9237\n",
      "Epoch 35/171\n",
      "60000/60000 [==============================] - 3s 54us/step - loss: -499.6262\n",
      "Epoch 36/171\n",
      "60000/60000 [==============================] - 3s 52us/step - loss: -522.2855\n",
      "Epoch 37/171\n",
      "60000/60000 [==============================] - 3s 47us/step - loss: -544.1102\n",
      "Epoch 38/171\n",
      "60000/60000 [==============================] - 3s 47us/step - loss: -564.8872\n",
      "Epoch 39/171\n",
      "60000/60000 [==============================] - 3s 47us/step - loss: -584.5626\n",
      "Epoch 40/171\n",
      "60000/60000 [==============================] - 3s 48us/step - loss: -603.3434\n",
      "Epoch 41/171\n",
      "60000/60000 [==============================] - 3s 51us/step - loss: -621.1346\n",
      "Epoch 42/171\n",
      "60000/60000 [==============================] - 4s 60us/step - loss: -637.6625\n",
      "Epoch 43/171\n",
      "60000/60000 [==============================] - 4s 63us/step - loss: -653.4925\n",
      "Epoch 44/171\n",
      "60000/60000 [==============================] - 4s 62us/step - loss: -667.9901\n",
      "Epoch 45/171\n",
      "60000/60000 [==============================] - 4s 60us/step - loss: -681.5194\n",
      "Epoch 46/171\n",
      "60000/60000 [==============================] - 4s 60us/step - loss: -694.2767\n",
      "Epoch 47/171\n",
      "60000/60000 [==============================] - 4s 60us/step - loss: -706.1676\n",
      "Epoch 48/171\n",
      "60000/60000 [==============================] - 4s 59us/step - loss: -717.0906\n",
      "Epoch 49/171\n",
      "60000/60000 [==============================] - 4s 61us/step - loss: -727.3526\n",
      "Epoch 50/171\n",
      "60000/60000 [==============================] - 4s 60us/step - loss: -736.9666\n",
      "Epoch 51/171\n",
      "60000/60000 [==============================] - 4s 60us/step - loss: -746.0461\n",
      "Epoch 52/171\n",
      "60000/60000 [==============================] - 4s 61us/step - loss: -762.7410\n",
      "Epoch 53/171\n",
      "60000/60000 [==============================] - 4s 67us/step - loss: -768.8357\n",
      "Epoch 54/171\n",
      "60000/60000 [==============================] - 5s 76us/step - loss: -773.8223\n",
      "Epoch 55/171\n",
      "60000/60000 [==============================] - 4s 68us/step - loss: -783.0788\n",
      "Epoch 56/171\n",
      "60000/60000 [==============================] - 4s 59us/step - loss: -786.3592\n",
      "Epoch 57/171\n",
      "60000/60000 [==============================] - 4s 61us/step - loss: -789.1581\n",
      "Epoch 58/171\n",
      "60000/60000 [==============================] - 4s 59us/step - loss: -791.7558 0s - loss:\n",
      "Epoch 59/171\n",
      "60000/60000 [==============================] - 4s 59us/step - loss: -794.3769\n",
      "Epoch 60/171\n",
      "60000/60000 [==============================] - 4s 59us/step - loss: -796.7062 0s\n",
      "Epoch 61/171\n",
      "60000/60000 [==============================] - 3s 58us/step - loss: -799.0399\n",
      "Epoch 62/171\n",
      "60000/60000 [==============================] - 4s 58us/step - loss: -801.1492\n",
      "Epoch 63/171\n",
      "60000/60000 [==============================] - 4s 59us/step - loss: -803.1707\n",
      "Epoch 64/171\n",
      "60000/60000 [==============================] - 4s 59us/step - loss: -807.8988\n",
      "Epoch 65/171\n",
      "60000/60000 [==============================] - 3s 58us/step - loss: -809.5217 0s - l\n",
      "Epoch 66/171\n",
      "60000/60000 [==============================] - 3s 58us/step - loss: -810.5173\n",
      "Epoch 67/171\n",
      "60000/60000 [==============================] - 3s 58us/step - loss: -811.3893\n",
      "Epoch 68/171\n",
      "60000/60000 [==============================] - 3s 58us/step - loss: -812.3582 0s - loss: - - ETA: 0s - loss: -812.26\n",
      "Epoch 69/171\n",
      "60000/60000 [==============================] - 4s 59us/step - loss: -813.4353\n",
      "Epoch 70/171\n",
      "60000/60000 [==============================] - 4s 64us/step - loss: -814.1521\n",
      "Epoch 71/171\n",
      "60000/60000 [==============================] - 4s 62us/step - loss: -815.0078\n",
      "Epoch 72/171\n",
      "60000/60000 [==============================] - 4s 64us/step - loss: -815.7806\n",
      "Epoch 73/171\n",
      "60000/60000 [==============================] - 4s 62us/step - loss: -816.5262\n",
      "Epoch 74/171\n",
      "60000/60000 [==============================] - 3s 58us/step - loss: -817.2045\n",
      "Epoch 75/171\n",
      "60000/60000 [==============================] - 4s 61us/step - loss: -817.9966\n",
      "Epoch 76/171\n",
      "60000/60000 [==============================] - 4s 75us/step - loss: -818.5161\n",
      "Epoch 77/171\n",
      "60000/60000 [==============================] - 5s 79us/step - loss: -819.0717\n",
      "Epoch 78/171\n",
      "60000/60000 [==============================] - 6s 101us/step - loss: -819.6436\n",
      "Epoch 79/171\n",
      "60000/60000 [==============================] - 8s 140us/step - loss: -820.0783\n",
      "Epoch 80/171\n",
      "60000/60000 [==============================] - 6s 99us/step - loss: -820.6047 0s - los\n",
      "Epoch 81/171\n",
      "60000/60000 [==============================] - 6s 93us/step - loss: -821.0515\n",
      "Epoch 82/171\n",
      "60000/60000 [==============================] - 4s 68us/step - loss: -821.3929\n",
      "Epoch 83/171\n",
      "60000/60000 [==============================] - 3s 58us/step - loss: -821.8689\n",
      "Epoch 84/171\n",
      "60000/60000 [==============================] - 4s 63us/step - loss: -822.2276\n",
      "Epoch 85/171\n",
      "60000/60000 [==============================] - 4s 63us/step - loss: -822.4598\n",
      "Epoch 86/171\n",
      "60000/60000 [==============================] - 5s 81us/step - loss: -822.7775\n",
      "Epoch 87/171\n",
      "60000/60000 [==============================] - 4s 63us/step - loss: -823.1385\n",
      "Epoch 88/171\n",
      "60000/60000 [==============================] - 4s 59us/step - loss: -823.3235\n",
      "Epoch 89/171\n",
      "60000/60000 [==============================] - 3s 56us/step - loss: -823.6459\n",
      "Epoch 90/171\n",
      "60000/60000 [==============================] - 4s 68us/step - loss: -823.8286\n",
      "Epoch 91/171\n",
      "60000/60000 [==============================] - 3s 58us/step - loss: -826.0874\n",
      "Epoch 92/171\n",
      "60000/60000 [==============================] - 4s 73us/step - loss: -826.6136\n",
      "Epoch 93/171\n",
      "60000/60000 [==============================] - 4s 62us/step - loss: -826.6351\n",
      "Epoch 94/171\n",
      "60000/60000 [==============================] - 3s 54us/step - loss: -826.8112\n",
      "Epoch 95/171\n",
      "60000/60000 [==============================] - 3s 57us/step - loss: -826.9162\n",
      "Epoch 96/171\n",
      "60000/60000 [==============================] - 4s 60us/step - loss: -827.1011\n",
      "Epoch 97/171\n",
      "60000/60000 [==============================] - 4s 63us/step - loss: -827.1569\n",
      "Epoch 98/171\n",
      "60000/60000 [==============================] - 4s 71us/step - loss: -827.2344\n",
      "Epoch 99/171\n",
      "60000/60000 [==============================] - 4s 65us/step - loss: -827.3914\n",
      "Epoch 100/171\n",
      "60000/60000 [==============================] - 3s 58us/step - loss: -827.4131\n",
      "Epoch 101/171\n",
      "60000/60000 [==============================] - 3s 55us/step - loss: -827.5604\n",
      "Epoch 102/171\n",
      "60000/60000 [==============================] - 3s 53us/step - loss: -827.6506\n",
      "Epoch 103/171\n",
      "60000/60000 [==============================] - 3s 56us/step - loss: -827.6585\n",
      "Epoch 104/171\n",
      "60000/60000 [==============================] - 4s 62us/step - loss: -827.7200\n",
      "Epoch 105/171\n",
      "60000/60000 [==============================] - 4s 69us/step - loss: -827.9045\n",
      "Epoch 106/171\n",
      "60000/60000 [==============================] - 5s 81us/step - loss: -828.0093\n",
      "Epoch 107/171\n",
      "60000/60000 [==============================] - 6s 104us/step - loss: -827.9154\n",
      "Epoch 108/171\n",
      "60000/60000 [==============================] - 4s 65us/step - loss: -828.0443 0s - loss: -828. - ETA: \n",
      "Epoch 109/171\n",
      "60000/60000 [==============================] - 4s 66us/step - loss: -828.1732\n",
      "Epoch 110/171\n",
      "60000/60000 [==============================] - 8s 130us/step - loss: -828.2352\n",
      "Epoch 111/171\n",
      "60000/60000 [==============================] - 7s 110us/step - loss: -828.3704\n",
      "Epoch 112/171\n",
      "60000/60000 [==============================] - 6s 97us/step - loss: -828.3828\n",
      "Epoch 113/171\n",
      "60000/60000 [==============================] - 6s 100us/step - loss: -828.5547\n",
      "Epoch 114/171\n",
      "60000/60000 [==============================] - 5s 79us/step - loss: -828.5349 1s - los - ETA: \n",
      "Epoch 115/171\n",
      "60000/60000 [==============================] - 5s 77us/step - loss: -828.6753\n",
      "Epoch 116/171\n",
      "60000/60000 [==============================] - 4s 71us/step - loss: -828.6608\n",
      "Epoch 117/171\n",
      "60000/60000 [==============================] - 4s 75us/step - loss: -828.7122\n",
      "Epoch 118/171\n",
      "60000/60000 [==============================] - 4s 62us/step - loss: -828.7822\n",
      "Epoch 119/171\n",
      "60000/60000 [==============================] - 4s 64us/step - loss: -828.8624\n",
      "Epoch 120/171\n",
      "60000/60000 [==============================] - 4s 60us/step - loss: -828.9631\n",
      "Epoch 121/171\n",
      "60000/60000 [==============================] - 5s 91us/step - loss: -828.8711\n",
      "Epoch 122/171\n",
      "60000/60000 [==============================] - 5s 78us/step - loss: -828.9315\n",
      "Epoch 123/171\n",
      "60000/60000 [==============================] - 4s 59us/step - loss: -829.0473\n",
      "Epoch 124/171\n",
      "60000/60000 [==============================] - 4s 61us/step - loss: -829.1884\n",
      "Epoch 125/171\n",
      "60000/60000 [==============================] - 4s 61us/step - loss: -829.1948 0s\n",
      "Epoch 126/171\n",
      "60000/60000 [==============================] - 4s 62us/step - loss: -829.3044 1s - los\n",
      "Epoch 127/171\n",
      "60000/60000 [==============================] - 4s 65us/step - loss: -829.3362\n",
      "Epoch 128/171\n",
      "60000/60000 [==============================] - 4s 65us/step - loss: -829.3852\n",
      "Epoch 129/171\n",
      "60000/60000 [==============================] - 4s 62us/step - loss: -829.3904\n",
      "Epoch 130/171\n",
      "60000/60000 [==============================] - 4s 61us/step - loss: -829.4594 0s - loss: -829.47\n",
      "Epoch 131/171\n",
      "60000/60000 [==============================] - 4s 61us/step - loss: -829.4381\n",
      "Epoch 132/171\n",
      "60000/60000 [==============================] - 4s 61us/step - loss: -829.4535\n",
      "Epoch 133/171\n",
      "60000/60000 [==============================] - 4s 66us/step - loss: -829.5849 0s - loss: -\n",
      "Epoch 134/171\n",
      "60000/60000 [==============================] - 5s 91us/step - loss: -829.5501\n",
      "Epoch 135/171\n",
      "60000/60000 [==============================] - 5s 88us/step - loss: -829.6717\n",
      "Epoch 136/171\n",
      "60000/60000 [==============================] - 5s 85us/step - loss: -829.7667\n",
      "Epoch 137/171\n",
      "60000/60000 [==============================] - 5s 82us/step - loss: -829.7379\n",
      "Epoch 138/171\n",
      "60000/60000 [==============================] - 5s 75us/step - loss: -829.8394\n",
      "Epoch 139/171\n",
      "60000/60000 [==============================] - 4s 67us/step - loss: -829.8537\n",
      "Epoch 140/171\n",
      "60000/60000 [==============================] - 4s 67us/step - loss: -829.9211\n",
      "Epoch 141/171\n",
      "60000/60000 [==============================] - 4s 69us/step - loss: -830.0482\n",
      "Epoch 142/171\n",
      "60000/60000 [==============================] - 4s 75us/step - loss: -829.9991\n",
      "Epoch 143/171\n",
      "60000/60000 [==============================] - 4s 64us/step - loss: -830.0230\n",
      "Epoch 144/171\n",
      "60000/60000 [==============================] - 4s 62us/step - loss: -830.1257\n",
      "Epoch 145/171\n",
      "60000/60000 [==============================] - 4s 61us/step - loss: -830.1081 0s - loss: -830.14\n",
      "Epoch 146/171\n",
      "60000/60000 [==============================] - 4s 61us/step - loss: -830.1439 \n",
      "Epoch 147/171\n",
      "60000/60000 [==============================] - 4s 62us/step - loss: -830.1414\n",
      "Epoch 148/171\n",
      "60000/60000 [==============================] - 4s 64us/step - loss: -830.2433\n",
      "Epoch 149/171\n",
      "60000/60000 [==============================] - 4s 74us/step - loss: -830.2194\n",
      "Epoch 150/171\n",
      "60000/60000 [==============================] - 4s 63us/step - loss: -830.3003\n",
      "Epoch 151/171\n",
      "60000/60000 [==============================] - 4s 61us/step - loss: -830.3518\n",
      "Epoch 152/171\n",
      "60000/60000 [==============================] - 4s 63us/step - loss: -830.3652\n",
      "Epoch 153/171\n",
      "60000/60000 [==============================] - 4s 62us/step - loss: -830.4108\n",
      "Epoch 154/171\n",
      "60000/60000 [==============================] - 4s 70us/step - loss: -830.4873\n",
      "Epoch 155/171\n",
      "60000/60000 [==============================] - 4s 64us/step - loss: -830.4812 0s - loss:\n",
      "Epoch 156/171\n",
      "60000/60000 [==============================] - 4s 61us/step - loss: -830.4099\n",
      "Epoch 157/171\n",
      "60000/60000 [==============================] - 4s 61us/step - loss: -830.5739\n",
      "Epoch 158/171\n",
      "60000/60000 [==============================] - 4s 63us/step - loss: -830.5577\n",
      "Epoch 159/171\n",
      "60000/60000 [==============================] - 5s 76us/step - loss: -830.6642\n",
      "Epoch 160/171\n",
      "60000/60000 [==============================] - 4s 67us/step - loss: -830.6411 0s - loss: -83\n",
      "Epoch 161/171\n",
      "60000/60000 [==============================] - 4s 62us/step - loss: -830.6722\n",
      "Epoch 162/171\n",
      "60000/60000 [==============================] - 4s 65us/step - loss: -830.6589\n",
      "Epoch 163/171\n",
      "60000/60000 [==============================] - 5s 78us/step - loss: -830.7539\n",
      "Epoch 164/171\n",
      "60000/60000 [==============================] - 4s 68us/step - loss: -830.8704\n",
      "Epoch 165/171\n",
      "60000/60000 [==============================] - 4s 64us/step - loss: -830.8229\n",
      "Epoch 166/171\n",
      "60000/60000 [==============================] - 4s 68us/step - loss: -830.9087\n",
      "Epoch 167/171\n",
      "60000/60000 [==============================] - 4s 60us/step - loss: -830.8788\n",
      "Epoch 168/171\n",
      "60000/60000 [==============================] - 4s 60us/step - loss: -830.9095\n",
      "Epoch 169/171\n",
      "60000/60000 [==============================] - 4s 61us/step - loss: -830.9702 0s\n",
      "Epoch 170/171\n",
      "60000/60000 [==============================] - 4s 59us/step - loss: -830.9231 0s - loss: -\n",
      "Epoch 171/171\n",
      "60000/60000 [==============================] - 4s 60us/step - loss: -831.0609 0s - loss: -83\n",
      "Model Saved\n"
     ]
    }
   ],
   "source": [
    "latent_dim = 200\n",
    "hidden_dim = 200\n",
    "\n",
    "models, latent_vars, dec_outs = gauss_model(latent_dim, hidden_dim)\n",
    "enc_model, dec_model, enc_dec_model = models\n",
    "z_mean, log_z_var = latent_vars\n",
    "dec_mean, log_dec_var = dec_outs\n",
    "\n",
    "# elbo loss\n",
    "def gauss_loss(y_true, y_pred):\n",
    "    kl_loss = - 1/2 * K.sum(1 + log_z_var - K.square(z_mean) - K.exp(log_z_var), axis=-1)\n",
    "    im_loss = (\n",
    "        1/2 * 784 * (K.log(2*pi) + log_dec_var)\n",
    "        + 1/2 * K.batch_dot(y_true - dec_mean, (y_true-dec_mean) * K.exp(-log_dec_var), axes=-1)\n",
    "    )[:, 0]\n",
    "    return kl_loss + im_loss\n",
    "\n",
    "enc_dec_model.compile(optimizer='adam', loss=gauss_loss)\n",
    "\n",
    "# train and save the model\n",
    "epochs = 50\n",
    "batch_size = 256\n",
    "\n",
    "if not os.path.exists('./models/linear/'):\n",
    "    os.makedirs('./models/linear')\n",
    "\n",
    "dec_path = './models/linear/dec_model_%d_dim.weights' %latent_dim\n",
    "weights_path = './models/linear/enc_dec_model_%d_dim.weights' %latent_dim\n",
    "history_path = './models/linear/history_%d_dim.pkl' %latent_dim\n",
    "\n",
    "nb_regions = 4\n",
    "regions = cumsum([3**i for i in range(nb_regions+1)]) + 50\n",
    "schedule = lambda i, lr: 0.001 * 10**(-sum(regions <= i)/nb_regions)\n",
    "\n",
    "lr_schedule = LearningRateScheduler(schedule)\n",
    "\n",
    "epochs = regions[-1]\n",
    "batch_size = 512\n",
    "\n",
    "if not os.path.exists(weights_path):\n",
    "    # training\n",
    "    history = enc_dec_model.fit(\n",
    "        x=x_train.reshape(len(x_train), 784), y=x_train.reshape(len(x_train), 784),\n",
    "        epochs=epochs,\n",
    "        batch_size=batch_size,\n",
    "        callbacks=[lr_schedule]\n",
    "    )\n",
    "    # enc_dec_model represents the whole dec_model as a single layer\n",
    "    # so we have to save the decoder weights seperately\n",
    "    dec_model.save_weights(dec_path) # hacky fix for decoder weights\n",
    "    enc_dec_model.save_weights(weights_path)\n",
    "    # save history\n",
    "    history = history.history\n",
    "    pickle.dump(history, open(history_path, 'wb'))\n",
    "    print('Model Saved')\n",
    "else:\n",
    "    dec_model.load_weights(dec_path, by_name=True)\n",
    "    enc_model.load_weights(weights_path, by_name=True)\n",
    "    enc_dec_model.load_weights(weights_path, by_name=True)\n",
    "    history = pickle.load(open(history_path, 'rb'))\n",
    "    print('Model Loaded')"
   ]
  },
  {
   "cell_type": "code",
   "execution_count": 579,
   "metadata": {
    "hidden": true
   },
   "outputs": [],
   "source": [
    "W, sigma = calculate_W_sigma(x_train, S, l=latent_dim)\n",
    "d, l = W.shape\n",
    "M = matmul(W.T, W) + sigma * eye(l)\n",
    "C = matmul(W, W.T) + sigma * eye(d)\n",
    "detsign, detlog = linalg.slogdet(2 * pi * C)\n",
    "b = np.mean(x_train, axis=0)\n",
    "\n",
    "# mu_z_x_test = matmul(matmul(inv(M), W.T), x_test - b)\n",
    "# var_z_x_test = sigma * inv(M)\n",
    "\n",
    "\n",
    "# nb_samples = 10\n",
    "# z_samples = array([random.multivariate_normal(mu[:, 0], var_z_x_test, size=(nb_samples)) for mu in mu_z_x_test])\n",
    "# z_samples = z_samples.transpose(1, 0, 2)\n",
    "# z_samples = np.expand_dims(z_samples, -1)\n",
    "\n",
    "# x_samples = matmul(W, z_samples) + b\n",
    "\n",
    "\n",
    "log_p_x = -1/2 * detlog - 1/2 * matmul(matmul((x_test-b).transpose(0, 2, 1), inv(C)), x_test-b)\n",
    "log_p_x = log_p_x[:, 0, 0]"
   ]
  },
  {
   "cell_type": "code",
   "execution_count": 580,
   "metadata": {
    "hidden": true
   },
   "outputs": [
    {
     "data": {
      "text/plain": [
       "498.584484085348"
      ]
     },
     "execution_count": 580,
     "metadata": {},
     "output_type": "execute_result"
    }
   ],
   "source": [
    "np.mean(log_p_x)"
   ]
  },
  {
   "cell_type": "code",
   "execution_count": 581,
   "metadata": {
    "hidden": true
   },
   "outputs": [
    {
     "name": "stderr",
     "output_type": "stream",
     "text": [
      "C:\\Users\\User\\Anaconda3\\envs\\tensorflow-gpu\\lib\\site-packages\\ipykernel_launcher.py:6: RuntimeWarning: covariance is not symmetric positive-semidefinite.\n",
      "  \n"
     ]
    }
   ],
   "source": [
    "z_mean = enc_model.predict(x_test[:, :, 0])\n",
    "enc_var_nn = np.diag(np.exp(K.eval(log_z_var)))\n",
    "dec_var_nn = np.exp(K.eval(log_dec_var)) * eye(d)\n",
    "\n",
    "nb_samples = 20\n",
    "z_samples = array([random.multivariate_normal(mu, enc_var_nn, size=(nb_samples)) for mu in z_mean])\n",
    "z_samples = z_samples.transpose(1, 0, 2)\n",
    "\n",
    "z_mean = np.expand_dims(z_mean, -1)\n",
    "z_samples = np.expand_dims(z_samples, -1)\n",
    "\n",
    "x_samples = dec_model.predict(z_samples.reshape(nb_samples*10000, latent_dim))\n",
    "x_samples = x_samples.reshape(nb_samples, 10000, 784, 1)\n",
    "\n",
    "log_p_x_z = -1/2 * linalg.slogdet(2 * pi * dec_var_nn)[1] - 1/2 * matmul(matmul((x_test-x_samples).transpose(0, 1, 3, 2), inv(dec_var_nn)), x_test-x_samples)\n",
    "log_p_z = - 1/2 * linalg.slogdet(2 * pi * eye(latent_dim))[1] - 1/2 * matmul(matmul(z_samples.transpose(0, 1, 3, 2), eye(latent_dim)), z_samples)\n",
    "log_q_z_x = -1/2 * linalg.slogdet(2 * pi * enc_var_nn)[1] - 1/2 * matmul(matmul((z_samples - z_mean).transpose(0, 1, 3, 2), inv(enc_var_nn)), z_samples - z_mean)\n",
    "\n",
    "V_z = -log_p_x_z - log_p_z + log_q_z_x"
   ]
  },
  {
   "cell_type": "code",
   "execution_count": 586,
   "metadata": {
    "hidden": true
   },
   "outputs": [
    {
     "name": "stderr",
     "output_type": "stream",
     "text": [
      "C:\\Users\\User\\Anaconda3\\envs\\tensorflow-gpu\\lib\\site-packages\\ipykernel_launcher.py:1: RuntimeWarning: overflow encountered in exp\n",
      "  \"\"\"Entry point for launching an IPython kernel.\n"
     ]
    },
    {
     "data": {
      "text/plain": [
       "inf"
      ]
     },
     "execution_count": 586,
     "metadata": {},
     "output_type": "execute_result"
    }
   ],
   "source": [
    "np.mean(np.log(np.mean(np.exp(-V_z), axis=0)+1e-30))"
   ]
  },
  {
   "cell_type": "code",
   "execution_count": 583,
   "metadata": {
    "hidden": true
   },
   "outputs": [
    {
     "data": {
      "text/plain": [
       "839.3210877111624"
      ]
     },
     "execution_count": 583,
     "metadata": {},
     "output_type": "execute_result"
    }
   ],
   "source": [
    "np.mean(-np.mean(V_z, axis=0) + 1/2 * np.var(V_z, axis=0))"
   ]
  },
  {
   "cell_type": "code",
   "execution_count": 584,
   "metadata": {
    "hidden": true
   },
   "outputs": [
    {
     "data": {
      "text/plain": [
       "837.2269999754532"
      ]
     },
     "execution_count": 584,
     "metadata": {},
     "output_type": "execute_result"
    }
   ],
   "source": [
    "-np.mean(V_z)"
   ]
  },
  {
   "cell_type": "code",
   "execution_count": null,
   "metadata": {
    "hidden": true
   },
   "outputs": [],
   "source": []
  }
 ],
 "metadata": {
  "kernelspec": {
   "display_name": "Python [conda env:tensorflow-gpu]",
   "language": "python",
   "name": "conda-env-tensorflow-gpu-py"
  },
  "language_info": {
   "codemirror_mode": {
    "name": "ipython",
    "version": 3
   },
   "file_extension": ".py",
   "mimetype": "text/x-python",
   "name": "python",
   "nbconvert_exporter": "python",
   "pygments_lexer": "ipython3",
   "version": "3.6.8"
  }
 },
 "nbformat": 4,
 "nbformat_minor": 2
}
