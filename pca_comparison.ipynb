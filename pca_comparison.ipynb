{
 "cells": [
  {
   "cell_type": "code",
   "execution_count": 17,
   "metadata": {},
   "outputs": [
    {
     "name": "stdout",
     "output_type": "stream",
     "text": [
      "Populating the interactive namespace from numpy and matplotlib\n"
     ]
    },
    {
     "name": "stderr",
     "output_type": "stream",
     "text": [
      "C:\\Users\\User\\Anaconda3\\envs\\tensorflow-gpu\\lib\\site-packages\\IPython\\core\\magics\\pylab.py:160: UserWarning: pylab import has clobbered these variables: ['mean', 'test']\n",
      "`%matplotlib` prevents importing * from pylab and numpy\n",
      "  \"\\n`%matplotlib` prevents importing * from pylab and numpy\"\n"
     ]
    }
   ],
   "source": [
    "%pylab inline"
   ]
  },
  {
   "cell_type": "code",
   "execution_count": 4,
   "metadata": {},
   "outputs": [
    {
     "name": "stderr",
     "output_type": "stream",
     "text": [
      "Using TensorFlow backend.\n"
     ]
    }
   ],
   "source": [
    "import os\n",
    "import pandas as pd\n",
    "\n",
    "from keras.models import Model\n",
    "from keras.layers import Input, Dense, Flatten, Reshape, Layer\n",
    "from keras.datasets import mnist\n",
    "from keras.utils import to_categorical\n",
    "from keras.callbacks import ReduceLROnPlateau\n",
    "\n",
    "import keras.backend as K\n",
    "\n",
    "from vae_utils import *"
   ]
  },
  {
   "cell_type": "markdown",
   "metadata": {},
   "source": [
    "# Data"
   ]
  },
  {
   "cell_type": "code",
   "execution_count": 5,
   "metadata": {},
   "outputs": [],
   "source": [
    "def preprocess(data):\n",
    "    x, y = data\n",
    "    x = x.reshape((len(x), 784))\n",
    "    x = x/255.\n",
    "    #y = to_categorical(y, 10) #don't need to categorise y\n",
    "    return x, y"
   ]
  },
  {
   "cell_type": "markdown",
   "metadata": {},
   "source": [
    "## MNIST"
   ]
  },
  {
   "cell_type": "code",
   "execution_count": 6,
   "metadata": {},
   "outputs": [
    {
     "name": "stdout",
     "output_type": "stream",
     "text": [
      "(60000, 784)\n"
     ]
    }
   ],
   "source": [
    "train, test = mnist.load_data()\n",
    "\n",
    "x_train, y_train = preprocess(train)\n",
    "x_test, y_test = preprocess(test)\n",
    "\n",
    "print(x_train.shape)"
   ]
  },
  {
   "cell_type": "markdown",
   "metadata": {},
   "source": [
    "## Generated"
   ]
  },
  {
   "cell_type": "code",
   "execution_count": 7,
   "metadata": {},
   "outputs": [],
   "source": [
    "mean = zeros(5)\n",
    "S_gen = 1/2 * array([\n",
    "    [1, 0.9, 0.8, 0.7, 0.6],\n",
    "    [0, 1, 0.9, 0.8, 0.7],\n",
    "    [0, 0, 1, 0.9, 0.8],\n",
    "    [0, 0, 0, 1, 0.9],\n",
    "    [0, 0, 0, 0, 1]\n",
    "])\n",
    "S_gen = S_gen + S_gen.T\n",
    "\n",
    "x_gen = np.random.multivariate_normal(mean, S_gen, size=(60000,))"
   ]
  },
  {
   "cell_type": "markdown",
   "metadata": {},
   "source": [
    "# PCA Model"
   ]
  },
  {
   "cell_type": "markdown",
   "metadata": {},
   "source": [
    "## Generated"
   ]
  },
  {
   "cell_type": "code",
   "execution_count": 140,
   "metadata": {},
   "outputs": [],
   "source": [
    "# get the mean & cov of our data\n",
    "b = np.mean(x_gen, axis=0)\n",
    "S = S_gen"
   ]
  },
  {
   "cell_type": "code",
   "execution_count": 141,
   "metadata": {},
   "outputs": [],
   "source": [
    "# find the eigs and eigenvectors of the cov matrix and sort according\n",
    "eigs, evecs = linalg.eig(S)\n",
    "\n",
    "eig_pairs = list(zip(eigs, evecs.T))\n",
    "eig_pairs.sort(reverse=True, key=lambda x: x[0])"
   ]
  },
  {
   "cell_type": "code",
   "execution_count": 142,
   "metadata": {},
   "outputs": [],
   "source": [
    "# select the top q principle components\n",
    "q = 2\n",
    "d = len(eig_pairs)\n",
    "N = len(x_train)\n",
    "\n",
    "pca_pairs = eig_pairs[:q]\n",
    "\n",
    "pca_eigs = [pca_pairs[i][0] for i in range(len(pca_pairs))]\n",
    "pca_vecs = [pca_pairs[i][1] for i in range(len(pca_pairs))]\n",
    "\n",
    "# construct W and alpha^{-1}\n",
    "L_q = diag(pca_eigs)\n",
    "U_q = array(pca_vecs).T\n",
    "\n",
    "alpha = 1/(d-q) * np.sum([eig_pairs[j][0] for j in range(q+1, d)]) #technically inverse alpha\n",
    "\n",
    "W = np.matmul(U_q, L_q - alpha * eye(q))\n",
    "if q == 2:\n",
    "    theta = pi/4\n",
    "    R = np.array([\n",
    "        [cos(theta), -sin(theta)],\n",
    "        [sin(theta), cos(theta)]\n",
    "    ])\n",
    "    W = matmul(W, R)\n",
    "\n",
    "# find p(z|x)\n",
    "M = matmul(W.T, W) + alpha * eye(q)\n",
    "p_z_x_mu = matmul(matmul(inv(M), W.T), (x_gen-b).T).T\n",
    "p_z_x_sig = alpha * inv(M)\n",
    "\n",
    "# find best q(z|x)\n",
    "q_z_x_mu = matmul(matmul(inv(M), W.T), (x_gen-b).T).T\n",
    "q_z_x_sig = diag(1/diag(1/alpha * M))\n",
    "\n",
    "# find p(x)\n",
    "p_x_mu = b\n",
    "p_x_sig = matmul(W, W.T) + alpha * eye(d)\n",
    "inv_p = inv(p_x_sig)\n",
    "\n",
    "# find p(x|z)\n",
    "p_x_z_mu = lambda z: matmul(W, z.T).T + b\n",
    "p_x_z_sig = alpha * eye(d)\n",
    "\n",
    "# calculate log p(x)\n",
    "detsign, detlog = linalg.slogdet(2*pi*p_x_sig)\n",
    "log_p_x = -N/2 * detlog - 1/2 * tensordot(matmul(x_gen-p_x_mu, inv_p), x_gen-p_x_mu)\n",
    "log_p_x_mean = log_p_x / N\n",
    "\n",
    "# calculate the elbo\n",
    "z_samples = q_z_x_mu + random.multivariate_normal(zeros(q), q_z_x_sig, size=len(q_z_x_mu))\n",
    "x_z_mu = p_x_z_mu(z_samples)\n",
    "\n",
    "log_p = lambda x, mu, sig: -N/2 * linalg.slogdet(2*pi*sig)[1] - 1/2 * tensordot(matmul(x-mu, inv(sig)), x-mu)\n",
    "log_p_x_z = log_p(x_gen, x_z_mu, p_x_z_sig)\n",
    "log_p_z = log_p(z_samples, zeros(q), eye(q))\n",
    "log_q_z_x = log_p(z_samples, q_z_x_mu, q_z_x_sig)\n",
    "\n",
    "pca_elbo = log_p_x_z + log_p_z - log_q_z_x\n",
    "pca_elbo_mean = pca_elbo / N"
   ]
  },
  {
   "cell_type": "code",
   "execution_count": 143,
   "metadata": {},
   "outputs": [],
   "source": [
    "z_samples = p_z_x_mu + np.random.multivariate_normal(zeros(q), p_z_x_sig, size=len(p_z_x_mu))\n",
    "x_z_gen = p_x_z_mu(z_samples)\n",
    "x_pca_gen = x_z_gen.reshape(len(x_z_gen), 5)"
   ]
  },
  {
   "cell_type": "code",
   "execution_count": 144,
   "metadata": {},
   "outputs": [
    {
     "data": {
      "text/plain": [
       "array([[0.37407313, 0.30840245],\n",
       "       [0.30840245, 0.37407313]])"
      ]
     },
     "execution_count": 144,
     "metadata": {},
     "output_type": "execute_result"
    }
   ],
   "source": [
    "p_z_x_sig"
   ]
  },
  {
   "cell_type": "code",
   "execution_count": 145,
   "metadata": {},
   "outputs": [
    {
     "data": {
      "text/plain": [
       "array([[0.11981249, 0.        ],\n",
       "       [0.        , 0.11981249]])"
      ]
     },
     "execution_count": 145,
     "metadata": {},
     "output_type": "execute_result"
    }
   ],
   "source": [
    "q_z_x_sig"
   ]
  },
  {
   "cell_type": "code",
   "execution_count": 146,
   "metadata": {},
   "outputs": [
    {
     "data": {
      "text/plain": [
       "-6.824381808347517"
      ]
     },
     "execution_count": 146,
     "metadata": {},
     "output_type": "execute_result"
    }
   ],
   "source": [
    "log_p_x_mean"
   ]
  },
  {
   "cell_type": "code",
   "execution_count": 147,
   "metadata": {},
   "outputs": [
    {
     "data": {
      "text/plain": [
       "-7.394178854040753"
      ]
     },
     "execution_count": 147,
     "metadata": {},
     "output_type": "execute_result"
    }
   ],
   "source": [
    "pca_elbo_mean"
   ]
  },
  {
   "cell_type": "markdown",
   "metadata": {},
   "source": [
    "### Second Order"
   ]
  },
  {
   "cell_type": "code",
   "execution_count": 150,
   "metadata": {},
   "outputs": [],
   "source": [
    "def get_pca_samples(mu, sig, n=30):\n",
    "    z_samples = array([np.random.multivariate_normal(m, sig, size=(n,)) for m in mu])\n",
    "    \n",
    "    z_samples = np.transpose(z_samples, (1, 0, 2))\n",
    "\n",
    "    log_p_x_zs = []\n",
    "\n",
    "    for z_sample in z_samples:\n",
    "        x_z = p_x_z_mu(z_sample)\n",
    "        log_p_x_zs.append(log_p(x_gen, x_z, p_x_z_sig))\n",
    "\n",
    "    log_p_zs = np.array([log_p(z_sample, zeros(q), eye(q)) for z_sample in z_samples])\n",
    "    log_q_z_xs = np.array([log_p(z_sample, mu, sig) for z_sample in z_samples])\n",
    "    \n",
    "    pca_elbos = (log_p_x_zs + log_p_zs - log_q_z_xs) / N # -V(z)\n",
    "    \n",
    "    return pca_elbos"
   ]
  },
  {
   "cell_type": "code",
   "execution_count": 164,
   "metadata": {},
   "outputs": [
    {
     "name": "stdout",
     "output_type": "stream",
     "text": [
      "Prob: p_z_x\n",
      "-----------\n",
      "Mean: -6.82438181\n",
      "Std: 0.00000000\n",
      "\n",
      "Prob: q_z_x\n",
      "-----------\n",
      "Mean: -7.39346316\n",
      "Std: 0.00000945\n"
     ]
    }
   ],
   "source": [
    "pca_elbos = get_pca_samples(p_z_x_mu, p_z_x_sig)\n",
    "print('Prob: p_z_x')\n",
    "print('-----------')\n",
    "print('Mean: %.8f' %np.mean(pca_elbos))\n",
    "print('Std: %.8f' %np.var(pca_elbos, ddof=1))\n",
    "\n",
    "pca_elbos = get_pca_samples(q_z_x_mu, q_z_x_sig)\n",
    "print('\\nProb: q_z_x')\n",
    "print('-----------')\n",
    "print('Mean: %.8f' %np.mean(pca_elbos))\n",
    "print('Std: %.8f' %np.var(pca_elbos, ddof=1))"
   ]
  },
  {
   "cell_type": "code",
   "execution_count": 165,
   "metadata": {},
   "outputs": [
    {
     "data": {
      "text/plain": [
       "-7.393458431965481"
      ]
     },
     "execution_count": 165,
     "metadata": {},
     "output_type": "execute_result"
    }
   ],
   "source": [
    "np.mean(pca_elbos) + 1/2 * np.var(pca_elbos, ddof=1)"
   ]
  },
  {
   "cell_type": "markdown",
   "metadata": {},
   "source": [
    "## MNIST"
   ]
  },
  {
   "cell_type": "code",
   "execution_count": 166,
   "metadata": {},
   "outputs": [],
   "source": [
    "# get the mean & cov of our data\n",
    "b = np.mean(x_train, axis=0)\n",
    "\n",
    "# S = 0\n",
    "# for x in x_train:\n",
    "#     S+= np.outer(x-b, x-b)\n",
    "# S /= len(x_train)\n",
    "# np.save('./S.npy', S)\n",
    "\n",
    "# np.save('./S.npy', S)\n",
    "S = np.load('./S.npy')"
   ]
  },
  {
   "cell_type": "code",
   "execution_count": 167,
   "metadata": {},
   "outputs": [],
   "source": [
    "# find the eigs and eigenvectors of the cov matrix and sort according\n",
    "eigs, evecs = linalg.eig(S)\n",
    "\n",
    "eig_pairs = list(zip(eigs, evecs.T))\n",
    "eig_pairs.sort(reverse=True, key=lambda x: x[0])"
   ]
  },
  {
   "cell_type": "code",
   "execution_count": 168,
   "metadata": {},
   "outputs": [],
   "source": [
    "# select the top q principle components\n",
    "q = 2\n",
    "d = len(eig_pairs)\n",
    "N = len(x_train)\n",
    "\n",
    "pca_pairs = eig_pairs[:q]\n",
    "\n",
    "pca_eigs = [pca_pairs[i][0] for i in range(len(pca_pairs))]\n",
    "pca_vecs = [pca_pairs[i][1] for i in range(len(pca_pairs))]\n",
    "\n",
    "# construct W and alpha^{-1}\n",
    "L_q = diag(pca_eigs)\n",
    "U_q = array(pca_vecs).T\n",
    "\n",
    "alpha = 1/(d-q) * np.sum([eig_pairs[j][0] for j in range(q+1, d)]) #technically inverse alpha\n",
    "\n",
    "W = np.matmul(U_q, L_q - alpha * eye(q))\n",
    "if q == 2:\n",
    "    theta = pi/4\n",
    "    R = np.array([\n",
    "        [cos(theta), -sin(theta)],\n",
    "        [sin(theta), cos(theta)]\n",
    "    ])\n",
    "    W = matmul(W, R)\n",
    "    \n",
    "\n",
    "# find p(z|x)\n",
    "M = matmul(W.T, W) + alpha * eye(q)\n",
    "p_z_x_mu = matmul(matmul(inv(M), W.T), (x_train-b).T).T\n",
    "p_z_x_sig = alpha * inv(M)\n",
    "\n",
    "# find best q(z|x)\n",
    "q_z_x_mu = matmul(matmul(inv(M), W.T), (x_train-b).T).T\n",
    "q_z_x_sig = diag(1/diag(1/alpha * M))\n",
    "\n",
    "# find p(x)\n",
    "p_x_mu = b\n",
    "p_x_sig = matmul(W, W.T) + alpha * eye(d)\n",
    "inv_p = inv(p_x_sig)\n",
    "\n",
    "# find p(x|z)\n",
    "p_x_z_mu = lambda z: matmul(W, z.T).T + b\n",
    "p_x_z_sig = alpha * eye(d)\n",
    "\n",
    "# calculate log p(x)\n",
    "detsign, detlog = linalg.slogdet(2*pi*p_x_sig)\n",
    "log_p_x = -N/2 * detlog - 1/2 * tensordot(matmul(x_train-p_x_mu, inv_p), x_train-p_x_mu)\n",
    "log_p_x_mean = log_p_x / N\n",
    "\n",
    "# calculate the elbo\n",
    "z_samples = array([random.multivariate_normal(mu, q_z_x_sig) for mu in q_z_x_mu])\n",
    "x_z_mu = p_x_z_mu(z_samples)\n",
    "\n",
    "log_p = lambda x, mu, sig: -N/2 * linalg.slogdet(2*pi*sig)[1] - 1/2 * tensordot(matmul(x-mu, inv(sig)), x-mu)\n",
    "log_p_x_z = log_p(x_train, x_z_mu, p_x_z_sig)\n",
    "log_p_z = log_p(z_samples, zeros(q), eye(q))\n",
    "log_q_z_x = log_p(z_samples, q_z_x_mu, q_z_x_sig)\n",
    "\n",
    "pca_elbo = log_p_x_z + log_p_z - log_q_z_x\n",
    "pca_elbo_mean = pca_elbo / N"
   ]
  },
  {
   "cell_type": "code",
   "execution_count": 169,
   "metadata": {},
   "outputs": [],
   "source": [
    "z_samples = array([np.random.multivariate_normal(mu, p_z_x_sig) for mu in p_z_x_mu])\n",
    "x_z = p_x_z_mu(z_samples)\n",
    "x_pca = x_z.reshape(len(x_z), 28, 28)"
   ]
  },
  {
   "cell_type": "code",
   "execution_count": 170,
   "metadata": {},
   "outputs": [
    {
     "data": {
      "text/plain": [
       "10.545761523876463"
      ]
     },
     "execution_count": 170,
     "metadata": {},
     "output_type": "execute_result"
    }
   ],
   "source": [
    "log_p_x_mean"
   ]
  },
  {
   "cell_type": "code",
   "execution_count": 171,
   "metadata": {},
   "outputs": [
    {
     "data": {
      "text/plain": [
       "10.497649065017685"
      ]
     },
     "execution_count": 171,
     "metadata": {},
     "output_type": "execute_result"
    }
   ],
   "source": [
    "pca_elbo_mean"
   ]
  },
  {
   "cell_type": "code",
   "execution_count": 172,
   "metadata": {},
   "outputs": [
    {
     "data": {
      "text/plain": [
       "array([[0.0029108 , 0.00089029],\n",
       "       [0.00089029, 0.0029108 ]])"
      ]
     },
     "execution_count": 172,
     "metadata": {},
     "output_type": "execute_result"
    }
   ],
   "source": [
    "p_z_x_sig"
   ]
  },
  {
   "cell_type": "code",
   "execution_count": 173,
   "metadata": {},
   "outputs": [
    {
     "data": {
      "text/plain": [
       "array([[0.00263849, 0.        ],\n",
       "       [0.        , 0.00263849]])"
      ]
     },
     "execution_count": 173,
     "metadata": {},
     "output_type": "execute_result"
    }
   ],
   "source": [
    "q_z_x_sig"
   ]
  },
  {
   "cell_type": "markdown",
   "metadata": {},
   "source": [
    "### Visualise"
   ]
  },
  {
   "cell_type": "code",
   "execution_count": 174,
   "metadata": {
    "scrolled": false
   },
   "outputs": [
    {
     "data": {
      "image/png": "[encoded data removed]",
      "text/plain": [
       "<Figure size 432x288 with 2 Axes>"
      ]
     },
     "metadata": {
      "needs_background": "light"
     },
     "output_type": "display_data"
    }
   ],
   "source": [
    "if q == 2:\n",
    "    figure()\n",
    "    m = p_z_x_mu\n",
    "    scatter(m[:, 0], m[:, 1], c=y_train)\n",
    "    colorbar()"
   ]
  },
  {
   "cell_type": "markdown",
   "metadata": {},
   "source": [
    "### 2nd Order Calculations"
   ]
  },
  {
   "cell_type": "code",
   "execution_count": 175,
   "metadata": {},
   "outputs": [],
   "source": [
    "def get_pca_samples(mu, sig, n=30):\n",
    "    z_samples = array([np.random.multivariate_normal(m, sig, size=(n,)) for m in mu])\n",
    "    \n",
    "    z_samples = np.transpose(z_samples, (1, 0, 2))\n",
    "\n",
    "    log_p_x_zs = []\n",
    "\n",
    "    for z_sample in z_samples:\n",
    "        x_z = p_x_z_mu(z_sample)\n",
    "        log_p_x_zs.append(log_p(x_train, x_z, p_x_z_sig))\n",
    "\n",
    "    log_p_zs = np.array([log_p(z_sample, zeros(q), eye(q)) for z_sample in z_samples])\n",
    "    log_q_z_xs = np.array([log_p(z_sample, mu, sig) for z_sample in z_samples])\n",
    "    \n",
    "    pca_elbos = (log_p_x_zs + log_p_zs - log_q_z_xs) / N # -V(z)\n",
    "    \n",
    "    return pca_elbos"
   ]
  },
  {
   "cell_type": "code",
   "execution_count": 176,
   "metadata": {},
   "outputs": [
    {
     "name": "stdout",
     "output_type": "stream",
     "text": [
      "Prob: p_z_x\n",
      "-----------\n",
      "Mean: 10.54576152\n",
      "Std: 0.00000000\n",
      "\n",
      "Prob: q_z_x\n",
      "-----------\n",
      "Mean: 10.49686482\n",
      "Std: 0.00000109\n"
     ]
    }
   ],
   "source": [
    "pca_elbos = get_pca_samples(p_z_x_mu, p_z_x_sig)\n",
    "print('Prob: p_z_x')\n",
    "print('-----------')\n",
    "print('Mean: %.8f' %np.mean(pca_elbos))\n",
    "print('Std: %.8f' %np.var(pca_elbos, ddof=1))\n",
    "\n",
    "pca_elbos = get_pca_samples(q_z_x_mu, q_z_x_sig)\n",
    "print('\\nProb: q_z_x')\n",
    "print('-----------')\n",
    "print('Mean: %.8f' %np.mean(pca_elbos))\n",
    "print('Std: %.8f' %np.var(pca_elbos, ddof=1))"
   ]
  },
  {
   "cell_type": "code",
   "execution_count": 181,
   "metadata": {},
   "outputs": [
    {
     "name": "stdout",
     "output_type": "stream",
     "text": [
      "\n",
      "Prob: q_z_x\n",
      "-----------\n",
      "Mean: -823.71175377\n",
      "Std: 10.19250014\n"
     ]
    }
   ],
   "source": [
    "# make a bad encoder\n",
    "bad_q_z_x_sig = eye(q)\n",
    "bad_q_z_x_mu = np.random.multivariate_normal(zeros(q), bad_q_z_x_sig, size=len(q_z_x_mu))\n",
    "\n",
    "pca_elbos = get_pca_samples(bad_q_z_x_mu, bad_q_z_x_sig)\n",
    "print('Prob: bad_q_z_x')\n",
    "print('-----------')\n",
    "print('Mean: %.8f' %np.mean(pca_elbos))\n",
    "print('Std: %.8f' %np.var(pca_elbos, ddof=1))"
   ]
  },
  {
   "cell_type": "code",
   "execution_count": 178,
   "metadata": {},
   "outputs": [
    {
     "data": {
      "text/plain": [
       "10.49686536390694"
      ]
     },
     "execution_count": 178,
     "metadata": {},
     "output_type": "execute_result"
    }
   ],
   "source": [
    "np.mean(pca_elbos) + 1/2 * np.var(pca_elbos, ddof=1)"
   ]
  },
  {
   "cell_type": "markdown",
   "metadata": {},
   "source": [
    "# VAE Model"
   ]
  },
  {
   "cell_type": "code",
   "execution_count": 109,
   "metadata": {},
   "outputs": [],
   "source": [
    "# VAE model from \"Auto Encoding Variation Bayes\": https://arxiv.org/pdf/1312.6114.pdf\n",
    "# encoder model is modelled by a gaussian, producing the latent\n",
    "# variables mean and its log standard deviation\n",
    "\n",
    "def gauss_model(latent_dim, hidden_dim=200):\n",
    "    # encoder shared layers\n",
    "    enc_hid = Dense(hidden_dim, activation='relu', name='enc_hidden')\n",
    "    #z_mean = Dense(latent_dim, name='latent_mean')\n",
    "    #log_z_var = Dense(latent_dim, name='log_latent_var')\n",
    "    enc_layer = Encoder(latent_dim, name='enc_mean')\n",
    "    \n",
    "    # decoder shared layers\n",
    "    dec_hid = Dense(hidden_dim, activation='relu', name='dec_hidden')\n",
    "    #dec_mean = Dense(28*28, name='dec_mean')\n",
    "    #log_dec_var = Dense(1, name='log_dec_var')\n",
    "    dec_layer = Decoder(28*28, name='dec_mean')\n",
    "    \n",
    "    # encoder model\n",
    "    enc_in = Input(shape=(784,), name='enc_input')\n",
    "    #y = enc_hid(enc_in)\n",
    "    y = enc_in\n",
    "    #y_1 = z_mean(y)\n",
    "    #y_2 = log_z_var(y)\n",
    "    y_1, y_2 = enc_layer(y)\n",
    "    enc_model = Model(enc_in, y_1, name='encoder_model')\n",
    "    \n",
    "    # decoder model\n",
    "    dec_in = Input(shape=(latent_dim,), name='dec_in')\n",
    "    #y = dec_hid(dec_in)\n",
    "    y = dec_in\n",
    "    #y_1 = dec_mean(y)\n",
    "    #y_2 = log_dec_var(y)\n",
    "    y_1, y_2 = dec_layer(y)\n",
    "    dec_model = Model(dec_in, y_1, name='decoder model')\n",
    "    \n",
    "    # encoder - decoder model\n",
    "    y = enc_in\n",
    "    #y = enc_hid(y)\n",
    "    #z_mean = z_mean(y)\n",
    "    #log_z_var = log_z_var(y)\n",
    "    z_mean, log_z_var = enc_layer(y)\n",
    "    y = Sampler(always_sample=True, name='z_sampler')([z_mean, log_z_var])\n",
    "    #y = dec_hid(y)\n",
    "    #dec_mean = dec_mean(y)\n",
    "    #log_dec_var = log_dec_var(y)\n",
    "    dec_mean, log_dec_var = dec_layer(y)\n",
    "    #y = Sampler(name='out_sampler')([dec_mean, log_dec_var])\n",
    "    enc_dec_model = Model(enc_in, dec_mean, name='encdec model')\n",
    "    \n",
    "    return (enc_model, dec_model, enc_dec_model), (z_mean, log_z_var), (dec_mean, log_dec_var)\n",
    "\n",
    "# we need a layer that samples a latent variable given a mean and standard deviation\n",
    "\n",
    "class Sampler(Layer):\n",
    "    \n",
    "    def __init__(self, always_sample=False, **kwargs):\n",
    "        self.always_sample = always_sample\n",
    "        super(Sampler, self).__init__(**kwargs)\n",
    "    \n",
    "    def call(self, x, training=None):\n",
    "        assert isinstance(x, list)\n",
    "        z_mean, log_z_var = x\n",
    "        z_std = K.exp(log_z_var/2)\n",
    "        \n",
    "        # sample epsilon from N(0, stddev)\n",
    "        shape = K.shape(z_mean)\n",
    "        epsilon = K.random_normal(shape, mean=0, stddev=1)\n",
    "        z_sample = z_mean + z_std * epsilon\n",
    "        \n",
    "        if self.always_sample:\n",
    "            return z_sample\n",
    "        else:\n",
    "            return K.in_train_phase(z_sample, z_mean, training=training)\n",
    "    \n",
    "    def compute_output_shape(self, input_shape):\n",
    "        assert isinstance(input_shape, list)\n",
    "        return input_shape[0]\n",
    "    \n",
    "    \n",
    "# to properly make a global decoder variance, we need a decoder layer\n",
    "\n",
    "\n",
    "class Decoder(Dense):\n",
    "    \n",
    "    #def __init__(self, units, **kwargs):\n",
    "    #    super(Decoder, self).__init__(units, **kwargs)\n",
    "    \n",
    "    def build(self, input_shape):\n",
    "        self.log_dec_var = self.add_weight(\n",
    "            name='log_dec_var',\n",
    "            shape=(1,),\n",
    "            initializer='zeros'\n",
    "        )\n",
    "        super(Decoder, self).build(input_shape)\n",
    "        \n",
    "    def call(self, inputs):\n",
    "        output = K.dot(inputs, self.kernel)\n",
    "        if self.use_bias:\n",
    "            output = K.bias_add(output, self.bias, data_format='channels_last')\n",
    "        if self.activation is not None:\n",
    "            output = self.activation(output)\n",
    "            \n",
    "        output = [output, self.log_dec_var]\n",
    "        \n",
    "        return output\n",
    "    \n",
    "    def compute_output_shape(self, input_shape):\n",
    "        assert input_shape and len(input_shape) >= 2\n",
    "        assert input_shape[-1]\n",
    "        output_shape = list(input_shape)\n",
    "        output_shape[-1] = self.units\n",
    "        return [tuple(output_shape), (1,)]\n",
    "    \n",
    "    \n",
    "# to properly make a global latent variance, we need an encoder layer    \n",
    "    \n",
    "    \n",
    "class Encoder(Dense):\n",
    "    \n",
    "    def __init__(self, units, always_sample=False, **kwargs):\n",
    "        self.always_sample = False\n",
    "        super(Encoder, self).__init__(units, **kwargs)\n",
    "        \n",
    "    def build(self, input_shape):\n",
    "        assert len(input_shape) >= 2\n",
    "        \n",
    "        self.log_z_mean = self.add_weight(\n",
    "            name='log_z_mean',\n",
    "            shape=(self.units,),\n",
    "            initializer='zeros'\n",
    "        )\n",
    "        super(Encoder, self).build(input_shape)\n",
    "        \n",
    "    def call(self, inputs):\n",
    "        z_mean = K.dot(inputs, self.kernel)\n",
    "        if self.use_bias:\n",
    "            z_mean = K.bias_add(z_mean, self.bias, data_format='channels_last')\n",
    "        if self.activation is not None:\n",
    "            z_mean = self.activation(z_mean)\n",
    "            \n",
    "        output = [z_mean, self.log_z_mean]\n",
    "        \n",
    "        return output\n",
    "    \n",
    "    def compute_output_shape(self, input_shape):\n",
    "        assert input_shape and len(input_shape) >= 2\n",
    "        assert input_shape[-1]\n",
    "        output_shape = list(input_shape)\n",
    "        output_shape[-1] = self.units\n",
    "        return [tuple(output_shape), (self.units,)]"
   ]
  },
  {
   "cell_type": "code",
   "execution_count": 126,
   "metadata": {},
   "outputs": [
    {
     "name": "stdout",
     "output_type": "stream",
     "text": [
      "Train on 60000 samples, validate on 10000 samples\n",
      "Epoch 1/100\n",
      "60000/60000 [==============================] - 7s 120us/step - loss: 710.0420 - val_loss: 662.5254\n",
      "Epoch 2/100\n",
      "60000/60000 [==============================] - 3s 49us/step - loss: 619.5686 - val_loss: 576.9686\n",
      "Epoch 3/100\n",
      "60000/60000 [==============================] - 3s 42us/step - loss: 535.8368 - val_loss: 494.9155\n",
      "Epoch 4/100\n",
      "60000/60000 [==============================] - 3s 54us/step - loss: 455.4192 - val_loss: 416.1204\n",
      "Epoch 5/100\n",
      "60000/60000 [==============================] - 2s 40us/step - loss: 379.1756 - val_loss: 342.4102\n",
      "Epoch 6/100\n",
      "60000/60000 [==============================] - 2s 39us/step - loss: 308.3390 - val_loss: 274.2165\n",
      "Epoch 7/100\n",
      "60000/60000 [==============================] - 2s 39us/step - loss: 243.2503 - val_loss: 212.2205\n",
      "Epoch 8/100\n",
      "60000/60000 [==============================] - 4s 59us/step - loss: 184.6717 - val_loss: 157.0875\n",
      "Epoch 9/100\n",
      "60000/60000 [==============================] - 5s 79us/step - loss: 133.4779 - val_loss: 109.7651\n",
      "Epoch 10/100\n",
      "60000/60000 [==============================] - 4s 71us/step - loss: 90.4481 - val_loss: 70.7372\n",
      "Epoch 11/100\n",
      "60000/60000 [==============================] - 3s 58us/step - loss: 55.9387 - val_loss: 40.5294\n",
      "Epoch 12/100\n",
      "60000/60000 [==============================] - 3s 48us/step - loss: 29.9302 - val_loss: 18.2566\n",
      "Epoch 13/100\n",
      "60000/60000 [==============================] - 2s 39us/step - loss: 11.7231 - val_loss: 3.5185\n",
      "Epoch 14/100\n",
      "60000/60000 [==============================] - 2s 41us/step - loss: 0.1568 - val_loss: -5.3901\n",
      "Epoch 15/100\n",
      "60000/60000 [==============================] - 3s 44us/step - loss: -6.4150 - val_loss: -10.1456\n",
      "Epoch 16/100\n",
      "60000/60000 [==============================] - 3s 46us/step - loss: -9.7485 - val_loss: -12.3988\n",
      "Epoch 17/100\n",
      "60000/60000 [==============================] - 4s 60us/step - loss: -11.2154 - val_loss: -13.5034\n",
      "Epoch 18/100\n",
      "60000/60000 [==============================] - 3s 58us/step - loss: -11.7839 - val_loss: -13.8422\n",
      "Epoch 19/100\n",
      "60000/60000 [==============================] - 3s 58us/step - loss: -11.9937 - val_loss: -13.8607\n",
      "Epoch 20/100\n",
      "60000/60000 [==============================] - 3s 48us/step - loss: -12.0863 - val_loss: -14.0597\n",
      "Epoch 21/100\n",
      "60000/60000 [==============================] - 3s 46us/step - loss: -12.1466 - val_loss: -14.0928\n",
      "Epoch 22/100\n",
      "60000/60000 [==============================] - 2s 40us/step - loss: -12.1663 - val_loss: -14.1596\n",
      "Epoch 23/100\n",
      "60000/60000 [==============================] - 2s 40us/step - loss: -12.1805 - val_loss: -13.9458\n",
      "Epoch 24/100\n",
      "60000/60000 [==============================] - 3s 42us/step - loss: -12.2087 - val_loss: -14.1772\n",
      "Epoch 25/100\n",
      "60000/60000 [==============================] - 2s 39us/step - loss: -12.2265 - val_loss: -14.0758\n",
      "Epoch 26/100\n",
      "60000/60000 [==============================] - 2s 39us/step - loss: -12.2436 - val_loss: -14.2457\n",
      "Epoch 27/100\n",
      "60000/60000 [==============================] - 2s 39us/step - loss: -12.2345 - val_loss: -14.1177\n",
      "Epoch 28/100\n",
      "60000/60000 [==============================] - 3s 48us/step - loss: -12.2573 - val_loss: -14.2181- lo\n",
      "Epoch 29/100\n",
      "60000/60000 [==============================] - 3s 46us/step - loss: -12.2267 - val_loss: -14.1184\n",
      "Epoch 30/100\n",
      "60000/60000 [==============================] - 3s 57us/step - loss: -12.2566 - val_loss: -14.0724\n",
      "Epoch 31/100\n",
      "60000/60000 [==============================] - 3s 54us/step - loss: -12.2422 - val_loss: -14.2386\n",
      "\n",
      "Epoch 00031: ReduceLROnPlateau reducing learning rate to 0.00010000000474974513.\n",
      "Epoch 32/100\n",
      "60000/60000 [==============================] - 3s 53us/step - loss: -12.3619 - val_loss: -14.3761\n",
      "Epoch 33/100\n",
      "60000/60000 [==============================] - 3s 47us/step - loss: -12.4028 - val_loss: -14.3617\n",
      "Epoch 34/100\n",
      "60000/60000 [==============================] - 3s 45us/step - loss: -12.3939 - val_loss: -14.3415\n",
      "Epoch 35/100\n",
      "60000/60000 [==============================] - 2s 41us/step - loss: -12.3953 - val_loss: -14.3703\n",
      "Epoch 36/100\n",
      "60000/60000 [==============================] - 2s 39us/step - loss: -12.4006 - val_loss: -14.3375\n",
      "Epoch 37/100\n",
      "60000/60000 [==============================] - 2s 39us/step - loss: -12.4057 - val_loss: -14.3679\n",
      "\n",
      "Epoch 00037: ReduceLROnPlateau reducing learning rate to 1.0000000474974514e-05.\n",
      "Epoch 38/100\n",
      "60000/60000 [==============================] - 2s 38us/step - loss: -12.4217 - val_loss: -14.3596\n",
      "Epoch 39/100\n",
      "60000/60000 [==============================] - 2s 39us/step - loss: -12.4159 - val_loss: -14.3536\n",
      "Epoch 40/100\n",
      "60000/60000 [==============================] - 2s 38us/step - loss: -12.4140 - val_loss: -14.3515\n",
      "Epoch 41/100\n",
      "60000/60000 [==============================] - 2s 37us/step - loss: -12.4176 - val_loss: -14.3497\n",
      "Epoch 42/100\n",
      "60000/60000 [==============================] - 2s 37us/step - loss: -12.4134 - val_loss: -14.3570\n",
      "\n",
      "Epoch 00042: ReduceLROnPlateau reducing learning rate to 1e-05.\n",
      "Epoch 43/100\n",
      "60000/60000 [==============================] - 3s 44us/step - loss: -12.4124 - val_loss: -14.3529\n",
      "Epoch 44/100\n",
      "60000/60000 [==============================] - 3s 46us/step - loss: -12.4243 - val_loss: -14.3671\n",
      "Epoch 45/100\n",
      "60000/60000 [==============================] - 2s 40us/step - loss: -12.4110 - val_loss: -14.3530\n",
      "Epoch 46/100\n",
      "60000/60000 [==============================] - 3s 44us/step - loss: -12.4167 - val_loss: -14.3750\n",
      "Epoch 47/100\n",
      "60000/60000 [==============================] - 3s 48us/step - loss: -12.4165 - val_loss: -14.3588\n",
      "Epoch 48/100\n",
      "60000/60000 [==============================] - 3s 42us/step - loss: -12.4192 - val_loss: -14.3579\n",
      "Epoch 49/100\n",
      "60000/60000 [==============================] - 2s 40us/step - loss: -12.4187 - val_loss: -14.3560\n",
      "Epoch 50/100\n",
      "60000/60000 [==============================] - 2s 41us/step - loss: -12.4195 - val_loss: -14.3727\n",
      "Epoch 51/100\n",
      "60000/60000 [==============================] - 2s 40us/step - loss: -12.4138 - val_loss: -14.3560\n",
      "Epoch 52/100\n",
      "60000/60000 [==============================] - 3s 44us/step - loss: -12.4202 - val_loss: -14.3605\n",
      "Epoch 53/100\n",
      "60000/60000 [==============================] - 3s 44us/step - loss: -12.4142 - val_loss: -14.3569\n",
      "Epoch 54/100\n",
      "60000/60000 [==============================] - 3s 45us/step - loss: -12.4150 - val_loss: -14.3573\n",
      "Epoch 55/100\n",
      "60000/60000 [==============================] - 3s 51us/step - loss: -12.4252 - val_loss: -14.3666\n",
      "Epoch 56/100\n",
      "60000/60000 [==============================] - 3s 47us/step - loss: -12.4161 - val_loss: -14.3529\n",
      "Epoch 57/100\n",
      "60000/60000 [==============================] - 3s 58us/step - loss: -12.4209 - val_loss: -14.3505\n",
      "Epoch 58/100\n",
      "60000/60000 [==============================] - 3s 52us/step - loss: -12.4178 - val_loss: -14.3658\n",
      "Epoch 59/100\n",
      "60000/60000 [==============================] - 3s 46us/step - loss: -12.4225 - val_loss: -14.3722\n",
      "Epoch 60/100\n",
      "60000/60000 [==============================] - 3s 45us/step - loss: -12.4190 - val_loss: -14.3621\n",
      "Epoch 61/100\n",
      "60000/60000 [==============================] - 3s 42us/step - loss: -12.4229 - val_loss: -14.3519\n",
      "Epoch 62/100\n",
      "60000/60000 [==============================] - 3s 44us/step - loss: -12.4204 - val_loss: -14.3383\n",
      "Epoch 63/100\n",
      "60000/60000 [==============================] - 3s 48us/step - loss: -12.4174 - val_loss: -14.3490\n",
      "Epoch 64/100\n",
      "60000/60000 [==============================] - 3s 46us/step - loss: -12.4258 - val_loss: -14.3525\n",
      "Epoch 65/100\n",
      "60000/60000 [==============================] - 3s 44us/step - loss: -12.4200 - val_loss: -14.3476\n",
      "Epoch 66/100\n",
      "60000/60000 [==============================] - 2s 42us/step - loss: -12.4225 - val_loss: -14.3615\n",
      "Epoch 67/100\n",
      "60000/60000 [==============================] - 3s 47us/step - loss: -12.4178 - val_loss: -14.3578\n",
      "Epoch 68/100\n",
      "60000/60000 [==============================] - 3s 44us/step - loss: -12.4117 - val_loss: -14.3420\n",
      "Epoch 69/100\n",
      "60000/60000 [==============================] - 3s 47us/step - loss: -12.4181 - val_loss: -14.3466\n",
      "Epoch 70/100\n",
      "60000/60000 [==============================] - 3s 45us/step - loss: -12.4157 - val_loss: -14.3657\n",
      "Epoch 71/100\n",
      "60000/60000 [==============================] - 3s 43us/step - loss: -12.4246 - val_loss: -14.3580\n",
      "Epoch 72/100\n",
      "60000/60000 [==============================] - 3s 42us/step - loss: -12.4181 - val_loss: -14.3635\n",
      "Epoch 73/100\n",
      "60000/60000 [==============================] - 2s 41us/step - loss: -12.4179 - val_loss: -14.3680\n",
      "Epoch 74/100\n",
      "60000/60000 [==============================] - 2s 39us/step - loss: -12.4192 - val_loss: -14.3483\n",
      "Epoch 75/100\n",
      "60000/60000 [==============================] - 3s 45us/step - loss: -12.4232 - val_loss: -14.3611\n",
      "Epoch 76/100\n",
      "60000/60000 [==============================] - 3s 51us/step - loss: -12.4228 - val_loss: -14.3628TA: 0s - loss: -1\n",
      "Epoch 77/100\n",
      "60000/60000 [==============================] - 4s 60us/step - loss: -12.4250 - val_loss: -14.3498\n",
      "Epoch 78/100\n",
      "60000/60000 [==============================] - 3s 42us/step - loss: -12.4164 - val_loss: -14.3695\n",
      "Epoch 79/100\n",
      "60000/60000 [==============================] - 2s 38us/step - loss: -12.4185 - val_loss: -14.3556\n",
      "Epoch 80/100\n",
      "60000/60000 [==============================] - 3s 47us/step - loss: -12.4276 - val_loss: -14.3762\n",
      "Epoch 81/100\n",
      "60000/60000 [==============================] - 4s 59us/step - loss: -12.4104 - val_loss: -14.3531\n",
      "Epoch 82/100\n",
      "60000/60000 [==============================] - 3s 44us/step - loss: -12.4170 - val_loss: -14.3461\n",
      "Epoch 83/100\n",
      "60000/60000 [==============================] - 2s 37us/step - loss: -12.4220 - val_loss: -14.3494\n",
      "Epoch 84/100\n",
      "60000/60000 [==============================] - 2s 38us/step - loss: -12.4209 - val_loss: -14.3669\n",
      "Epoch 85/100\n",
      "60000/60000 [==============================] - 2s 39us/step - loss: -12.4170 - val_loss: -14.3531\n",
      "Epoch 86/100\n",
      "60000/60000 [==============================] - 2s 37us/step - loss: -12.4171 - val_loss: -14.3490\n",
      "Epoch 87/100\n",
      "60000/60000 [==============================] - 2s 39us/step - loss: -12.4182 - val_loss: -14.3613\n",
      "Epoch 88/100\n",
      "60000/60000 [==============================] - 2s 40us/step - loss: -12.4222 - val_loss: -14.3413\n",
      "Epoch 89/100\n",
      "60000/60000 [==============================] - 2s 40us/step - loss: -12.4127 - val_loss: -14.3777\n",
      "Epoch 90/100\n",
      "60000/60000 [==============================] - 2s 38us/step - loss: -12.4263 - val_loss: -14.3461\n",
      "Epoch 91/100\n",
      "60000/60000 [==============================] - 2s 37us/step - loss: -12.4180 - val_loss: -14.3603\n",
      "Epoch 92/100\n",
      "60000/60000 [==============================] - 2s 37us/step - loss: -12.4180 - val_loss: -14.3482\n",
      "Epoch 93/100\n",
      "60000/60000 [==============================] - 2s 38us/step - loss: -12.4206 - val_loss: -14.3523\n",
      "Epoch 94/100\n",
      "60000/60000 [==============================] - 2s 40us/step - loss: -12.4197 - val_loss: -14.3643\n",
      "Epoch 95/100\n",
      "60000/60000 [==============================] - 2s 37us/step - loss: -12.4211 - val_loss: -14.3572\n",
      "Epoch 96/100\n",
      "60000/60000 [==============================] - 2s 38us/step - loss: -12.4219 - val_loss: -14.3506\n",
      "Epoch 97/100\n",
      "60000/60000 [==============================] - 2s 37us/step - loss: -12.4177 - val_loss: -14.3506\n",
      "Epoch 98/100\n",
      "60000/60000 [==============================] - 2s 40us/step - loss: -12.4181 - val_loss: -14.3676\n",
      "Epoch 99/100\n",
      "60000/60000 [==============================] - 2s 41us/step - loss: -12.4211 - val_loss: -14.3590\n",
      "Epoch 100/100\n",
      "60000/60000 [==============================] - 2s 37us/step - loss: -12.4166 - val_loss: -14.3591\n"
     ]
    }
   ],
   "source": [
    "latent_dim = 2\n",
    "hidden_dim = 200\n",
    "\n",
    "models, latent_vars, dec_outs = gauss_model(latent_dim, hidden_dim)\n",
    "enc_model, dec_model, enc_dec_model = models\n",
    "z_mean, log_z_var = latent_vars\n",
    "dec_mean, log_dec_var = dec_outs\n",
    "\n",
    "# elbo loss\n",
    "def gauss_loss(y_true, y_pred):\n",
    "    kl_loss = - 1/2 * K.sum(1 + log_z_var - K.square(z_mean) - K.exp(log_z_var), axis=-1)\n",
    "    im_loss = (\n",
    "        1/2 * 784 * (K.log(2*pi) + log_dec_var)\n",
    "        + 1/2 * K.batch_dot(y_true - dec_mean, (y_true-dec_mean) * K.exp(-log_dec_var), axes=-1)\n",
    "    )[:, 0]\n",
    "    return kl_loss + im_loss\n",
    "\n",
    "enc_dec_model.compile(optimizer='adam', loss=gauss_loss)\n",
    "\n",
    "# train and save the model\n",
    "epochs = 100\n",
    "batch_size = 256\n",
    "\n",
    "dec_path = './dec_model_%d_dim.weights' %latent_dim\n",
    "weights_path = './enc_dec_model_%d_dim.weights' %latent_dim\n",
    "loss_path = './training_loss_%d_dim.png' %latent_dim\n",
    "\n",
    "reduce_lr = ReduceLROnPlateau(monitor='val_loss', factor=0.1, patience=5, min_lr=1e-6, verbose=1)\n",
    "\n",
    "history = enc_dec_model.fit(\n",
    "    x=x_train, y=x_train,\n",
    "    batch_size=batch_size,\n",
    "    epochs=epochs,\n",
    "    validation_data=(x_test, x_test),\n",
    "    callbacks=[reduce_lr]\n",
    ")\n",
    "\n",
    "# if not os.path.exists(weights_path):\n",
    "#     # training\n",
    "#     history = enc_dec_model.fit(\n",
    "#         x=x_train, y=[x_train, x_train],\n",
    "#         batch_size=batch_size,\n",
    "#         epochs=epochs,\n",
    "#         validation_data=(x_test, [x_test, x_test])\n",
    "#     )\n",
    "#     # enc_dec_model represents the whole dec_model as a single layer\n",
    "#     # so we have to save the decoder weights seperately\n",
    "#     dec_model.save_weights(dec_path) # hacky fix for decoder weights\n",
    "#     enc_dec_model.save_weights(weights_path)\n",
    "#     # plotting\n",
    "#     plot([-x for x in history.history['loss']])\n",
    "#     xlabel('Epoch')\n",
    "#     ylabel('ELBO')\n",
    "#     ylim(-200, -90)\n",
    "#     gcf().savefig(loss_path, bbox_inches='tight')\n",
    "#     print('Model Saved')\n",
    "# else:\n",
    "#     dec_model.load_weights(dec_path, by_name=True)\n",
    "#     enc_model.load_weights(weights_path, by_name=True)\n",
    "#     enc_dec_model.load_weights(weights_path, by_name=True)\n",
    "#     print('Model Loaded')\n"
   ]
  },
  {
   "cell_type": "code",
   "execution_count": 127,
   "metadata": {},
   "outputs": [],
   "source": [
    "x_pred = enc_dec_model.predict(x_train, batch_size=2000)\n",
    "z_mean = enc_model.predict(x_train, batch_size=2000)\n",
    "log_z_var = K.eval(log_z_var)\n",
    "z_samples = z_mean + np.random.normal(loc=0, scale=1, size=z_mean.shape) * np.exp(log_z_var/2)\n",
    "dec_mean= dec_model.predict(z_samples, batch_size=2000)\n",
    "log_dec_var = K.eval(log_dec_var)"
   ]
  },
  {
   "cell_type": "code",
   "execution_count": 128,
   "metadata": {},
   "outputs": [
    {
     "data": {
      "image/png": "[encoded data removed]",
      "text/plain": [
       "<Figure size 1200x800 with 1 Axes>"
      ]
     },
     "metadata": {
      "needs_background": "light"
     },
     "output_type": "display_data"
    },
    {
     "data": {
      "image/png": "[encoded data removed]",
      "text/plain": [
       "<Figure size 432x288 with 2 Axes>"
      ]
     },
     "metadata": {
      "needs_background": "light"
     },
     "output_type": "display_data"
    }
   ],
   "source": [
    "x_pred = x_pred.reshape((len(x_pred), 28, 28))\n",
    "xs = x_train.reshape((len(x_train), 28, 28))\n",
    "image = np.concatenate([np.concatenate(x[:10], axis=1) for x in [xs, x_pred, x_pca]], axis=0)\n",
    "\n",
    "figure(dpi=200)\n",
    "imshow(image)\n",
    "plt.show()\n",
    "\n",
    "if latent_dim == 2:\n",
    "    figure()\n",
    "    scatter(z_mean[:, 0], z_mean[:, 1], c=y_train)\n",
    "    colorbar()\n",
    "    plt.show()"
   ]
  },
  {
   "cell_type": "code",
   "execution_count": 138,
   "metadata": {},
   "outputs": [
    {
     "data": {
      "text/plain": [
       "(12.424826979815155, 10.545761523876712)"
      ]
     },
     "execution_count": 138,
     "metadata": {},
     "output_type": "execute_result"
    }
   ],
   "source": [
    "x = x_train - dec_mean\n",
    "\n",
    "# calculate im_loss\n",
    "\n",
    "def elbo_loss(x):\n",
    "    im_loss = (\n",
    "        1/2 * 784 * (np.log(2*pi) + log_dec_var)\n",
    "        + 1/2 * array([np.dot(x[i], x[i] * np.exp(-log_dec_var)) for i in range(len(x))])\n",
    "    )\n",
    "\n",
    "    # calculate kl_loss\n",
    "    kl_loss = - 1/2 * np.sum(1 + np.mean(log_z_var, axis=0) - np.square(z_mean) - np.exp(np.mean(log_z_var, axis=0)), axis=-1)\n",
    "    \n",
    "    return im_loss + kl_loss\n",
    "\n",
    "# elbo\n",
    "loss = elbo_loss(x)\n",
    "-mean(loss),  log_p_x_mean"
   ]
  },
  {
   "cell_type": "markdown",
   "metadata": {},
   "source": [
    "## 2nd order calculation"
   ]
  },
  {
   "cell_type": "code",
   "execution_count": 130,
   "metadata": {},
   "outputs": [],
   "source": [
    "n = 50\n",
    "z_samples = (\n",
    "    np.expand_dims(z_mean, axis=0).repeat(n, axis=0)\n",
    "    + np.random.normal(loc=0, scale=1, size=(n, *z_mean.shape)) * np.exp(log_z_var/2)\n",
    ")\n",
    "\n",
    "losses = []\n",
    "\n",
    "for z_sample in z_samples:\n",
    "    mean_sample = dec_model.predict(z_sample, batch_size=2000)\n",
    "    x = x_train - mean_sample\n",
    "    losses.append(-mean(elbo_loss(x)))\n",
    "    \n",
    "losses = np.array(losses)"
   ]
  },
  {
   "cell_type": "code",
   "execution_count": 131,
   "metadata": {},
   "outputs": [
    {
     "data": {
      "text/plain": [
       "0.004355490055115027"
      ]
     },
     "execution_count": 131,
     "metadata": {},
     "output_type": "execute_result"
    }
   ],
   "source": [
    "std(losses, ddof=1)"
   ]
  },
  {
   "cell_type": "code",
   "execution_count": 132,
   "metadata": {},
   "outputs": [
    {
     "data": {
      "text/plain": [
       "array([12.42353937, 12.42444081, 12.41762176, 12.41831122, 12.41878448,\n",
       "       12.41365446, 12.42339854, 12.41937987, 12.42004518, 12.42430168,\n",
       "       12.42369613, 12.416681  , 12.42191882, 12.42229595, 12.41866936,\n",
       "       12.42566732, 12.42088687, 12.420004  , 12.42231699, 12.42484307,\n",
       "       12.4200853 , 12.42426352, 12.42037109, 12.42259819, 12.41842556,\n",
       "       12.4225275 , 12.4249905 , 12.43185068, 12.42471054, 12.42896507,\n",
       "       12.42093706, 12.41414999, 12.42083811, 12.4268147 , 12.41694754,\n",
       "       12.43423617, 12.41762097, 12.4212571 , 12.42513207, 12.4294862 ,\n",
       "       12.41800723, 12.42289386, 12.41998116, 12.41639617, 12.41860771,\n",
       "       12.42990891, 12.42572729, 12.42519629, 12.42135352, 12.42824975])"
      ]
     },
     "execution_count": 132,
     "metadata": {},
     "output_type": "execute_result"
    }
   ],
   "source": [
    "losses"
   ]
  },
  {
   "cell_type": "markdown",
   "metadata": {},
   "source": [
    "## Comparisons to pca model"
   ]
  },
  {
   "cell_type": "code",
   "execution_count": 133,
   "metadata": {},
   "outputs": [
    {
     "data": {
      "text/plain": [
       "array([0.05609697], dtype=float32)"
      ]
     },
     "execution_count": 133,
     "metadata": {},
     "output_type": "execute_result"
    }
   ],
   "source": [
    "exp(log_dec_var)"
   ]
  },
  {
   "cell_type": "code",
   "execution_count": 134,
   "metadata": {},
   "outputs": [
    {
     "data": {
      "text/plain": [
       "0.05193640031743779"
      ]
     },
     "execution_count": 134,
     "metadata": {},
     "output_type": "execute_result"
    }
   ],
   "source": [
    "alpha"
   ]
  },
  {
   "cell_type": "code",
   "execution_count": 135,
   "metadata": {},
   "outputs": [
    {
     "data": {
      "text/plain": [
       "-5.125344667008298"
      ]
     },
     "execution_count": 135,
     "metadata": {},
     "output_type": "execute_result"
    }
   ],
   "source": [
    "(log_p_z - log_q_z_x)/ N"
   ]
  },
  {
   "cell_type": "code",
   "execution_count": 136,
   "metadata": {},
   "outputs": [
    {
     "data": {
      "text/plain": [
       "array([[0.00202051, 0.        ],\n",
       "       [0.        , 0.00380109]])"
      ]
     },
     "execution_count": 136,
     "metadata": {},
     "output_type": "execute_result"
    }
   ],
   "source": [
    "q_z_x_sig"
   ]
  },
  {
   "cell_type": "code",
   "execution_count": 137,
   "metadata": {},
   "outputs": [
    {
     "data": {
      "text/plain": [
       "array([0.01504741, 0.01231423], dtype=float32)"
      ]
     },
     "execution_count": 137,
     "metadata": {},
     "output_type": "execute_result"
    }
   ],
   "source": [
    "np.exp(log_z_var)"
   ]
  },
  {
   "cell_type": "markdown",
   "metadata": {},
   "source": [
    "## Model weights"
   ]
  },
  {
   "cell_type": "code",
   "execution_count": 204,
   "metadata": {},
   "outputs": [],
   "source": [
    "# presume p(z|x) = N(z; W_z_x x + b_z_x, var_z_x)\n",
    "W_z_x, b_z_x = enc_dec_model.get_layer('enc_mean').weights[1:]\n",
    "\n",
    "W_z_x = K.eval(W_z_x)\n",
    "b_z_x = K.eval(b_z_x)\n",
    "\n",
    "W_z_x_pca = matmul(inv(M), W.T).T\n",
    "b_z_x_pca = matmul(matmul(inv(M), W.T), -b.T).T"
   ]
  },
  {
   "cell_type": "code",
   "execution_count": 205,
   "metadata": {},
   "outputs": [],
   "source": [
    "theta = arccos(b_z_x_pca.dot(b_z_x) / (norm(b_z_x_pca) * norm(b_z_x)))\n",
    "rr = np.array([\n",
    "    [cos(theta), -sin(theta)],\n",
    "    [sin(theta), cos(theta)]\n",
    "])"
   ]
  },
  {
   "cell_type": "code",
   "execution_count": 206,
   "metadata": {},
   "outputs": [
    {
     "data": {
      "text/plain": [
       "array([[-5.92349658e-02,  4.87118260e-02],\n",
       "       [ 7.45791937e-02,  4.60128617e-02],\n",
       "       [-1.12713932e-02,  1.86348452e-02],\n",
       "       ...,\n",
       "       [-5.25294029e-02,  4.92478029e-02],\n",
       "       [-3.84848534e-02,  3.48137442e-05],\n",
       "       [ 1.90516016e-02, -1.07170459e-02]])"
      ]
     },
     "execution_count": 206,
     "metadata": {},
     "output_type": "execute_result"
    }
   ],
   "source": [
    "matmul(W_z_x, rr)"
   ]
  },
  {
   "cell_type": "code",
   "execution_count": 207,
   "metadata": {},
   "outputs": [
    {
     "name": "stderr",
     "output_type": "stream",
     "text": [
      "C:\\Users\\User\\Anaconda3\\envs\\tensorflow-gpu\\lib\\site-packages\\ipykernel_launcher.py:4: RuntimeWarning: invalid value encountered in double_scalars\n",
      "  after removing the cwd from sys.path.\n"
     ]
    }
   ],
   "source": [
    "thetas = []\n",
    "\n",
    "for i in range(len(W_z_x)):\n",
    "    theta = arccos(W_z_x_pca[i].dot(W_z_x[i]) / (norm(W_z_x_pca[i]) * norm(W_z_x[i]))) * 180 / pi\n",
    "    thetas.append(theta)"
   ]
  },
  {
   "cell_type": "code",
   "execution_count": 208,
   "metadata": {},
   "outputs": [
    {
     "data": {
      "text/plain": [
       "[nan,\n",
       " nan,\n",
       " nan,\n",
       " nan,\n",
       " nan,\n",
       " nan,\n",
       " nan,\n",
       " nan,\n",
       " nan,\n",
       " nan,\n",
       " nan,\n",
       " nan,\n",
       " 4.930231816317878,\n",
       " 120.90041144752153,\n",
       " 46.93100071790819,\n",
       " 152.7733558983198,\n",
       " nan,\n",
       " nan,\n",
       " nan,\n",
       " nan,\n",
       " nan,\n",
       " nan,\n",
       " nan,\n",
       " nan,\n",
       " nan,\n",
       " nan,\n",
       " nan,\n",
       " nan,\n",
       " nan,\n",
       " nan,\n",
       " nan,\n",
       " nan,\n",
       " 25.329609995352715,\n",
       " 97.24100692173336,\n",
       " 125.77949265650889,\n",
       " 162.39522477590933,\n",
       " 178.82248452251412,\n",
       " 12.482562631531438,\n",
       " 166.68377630274318,\n",
       " 16.15848729466222,\n",
       " 37.243545246352475,\n",
       " 93.7016408105711,\n",
       " 177.1599734542199,\n",
       " 26.450408299280692,\n",
       " 57.065995144092575,\n",
       " 167.10393472724056,\n",
       " 24.76198225199711,\n",
       " 106.0078555825837,\n",
       " 27.093571425621928,\n",
       " 139.58453254149327,\n",
       " 38.83048583245509,\n",
       " 142.35210770957505,\n",
       " nan,\n",
       " nan,\n",
       " nan,\n",
       " nan,\n",
       " nan,\n",
       " nan,\n",
       " 87.38210104155372,\n",
       " 96.36701179642732,\n",
       " 93.95075662700633,\n",
       " 97.25920797283389,\n",
       " 145.37176311491444,\n",
       " 15.045623293127653,\n",
       " 4.248229670346425,\n",
       " 137.72732201856664,\n",
       " 90.75128676084044,\n",
       " 92.67881638336517,\n",
       " 153.78500080660373,\n",
       " 128.5443775543629,\n",
       " 97.32370952764136,\n",
       " 127.43433014582051,\n",
       " 72.46775951425059,\n",
       " 109.37125397851851,\n",
       " 169.7505278214136,\n",
       " 27.733007757571986,\n",
       " 127.19326858710531,\n",
       " 58.14162188646996,\n",
       " 143.40032106909263,\n",
       " 37.99275077773012,\n",
       " 145.90474690911083,\n",
       " 114.29333720688383,\n",
       " nan,\n",
       " nan,\n",
       " nan,\n",
       " nan,\n",
       " 17.81233773998289,\n",
       " 112.01295325389167,\n",
       " 153.286893380515,\n",
       " 141.9326262837941,\n",
       " 124.38004190240078,\n",
       " 64.7851762625052,\n",
       " 118.51066868494624,\n",
       " 95.80986923024425,\n",
       " 53.81243947534719,\n",
       " 91.9622474527853,\n",
       " 26.762948666001055,\n",
       " 9.038727695956752,\n",
       " 9.699657682870546,\n",
       " 26.28311241421685,\n",
       " 19.09315185779616,\n",
       " 4.437543124354609,\n",
       " 81.01838728512341,\n",
       " 17.20183308656274,\n",
       " 120.47689292187121,\n",
       " 82.99968415093045,\n",
       " 59.49565588448051,\n",
       " 102.20020069115407,\n",
       " 81.62281747209668,\n",
       " 134.51794728626726,\n",
       " 65.6104468029731,\n",
       " nan,\n",
       " nan,\n",
       " 61.67726220091174,\n",
       " 153.94570687287353,\n",
       " 146.42969283615164,\n",
       " 88.89511190849747,\n",
       " 84.516479854056,\n",
       " 3.202352024414764,\n",
       " 10.603437241720407,\n",
       " 63.12075183635959,\n",
       " 48.43030536971121,\n",
       " 58.579888126806964,\n",
       " 24.09832224797145,\n",
       " 49.64347820443348,\n",
       " 34.395558210122935,\n",
       " 40.38072558006128,\n",
       " 42.96720570720262,\n",
       " 39.39844313955429,\n",
       " 40.501723717576446,\n",
       " 42.20089945953741,\n",
       " 36.1972897354321,\n",
       " 34.50829915129608,\n",
       " 56.86706187471761,\n",
       " 79.02277755132229,\n",
       " 71.70558250157147,\n",
       " 54.779270941484086,\n",
       " 96.5440848685683,\n",
       " 126.52685978014904,\n",
       " 51.962634623668805,\n",
       " nan,\n",
       " nan,\n",
       " 149.3355490747872,\n",
       " 91.54472995764053,\n",
       " 90.20829885284301,\n",
       " 168.4331285550198,\n",
       " 47.07578063948581,\n",
       " 97.47315919634006,\n",
       " 42.35166412499501,\n",
       " 42.36083103880053,\n",
       " 37.83114695715622,\n",
       " 34.34369373619726,\n",
       " 27.419839491895484,\n",
       " 34.34367637081192,\n",
       " 35.940620648521964,\n",
       " 41.58127301779222,\n",
       " 42.53283978166842,\n",
       " 41.76997435711266,\n",
       " 34.40533697989554,\n",
       " 30.805440841009453,\n",
       " 15.471880528217998,\n",
       " 5.001741772108964,\n",
       " 29.058832460868008,\n",
       " 159.68044831684801,\n",
       " 67.36923063446709,\n",
       " 71.77041434321086,\n",
       " 68.736513733205,\n",
       " 94.68535332391488,\n",
       " nan,\n",
       " 145.04850963298924,\n",
       " 110.8615295661158,\n",
       " 78.9669257628274,\n",
       " 43.22651409319988,\n",
       " 17.309599899785173,\n",
       " 105.67794637783001,\n",
       " 31.539286862580887,\n",
       " 43.85976995765998,\n",
       " 12.770296101578493,\n",
       " 13.533025188301083,\n",
       " 3.4288680362755826,\n",
       " 2.446596358955042,\n",
       " 5.683621490949251,\n",
       " 24.171093001928025,\n",
       " 32.71675932012565,\n",
       " 38.75073818690139,\n",
       " 35.30380380829244,\n",
       " 20.245471248410553,\n",
       " 5.227844592599696,\n",
       " 17.12284978806254,\n",
       " 36.75623329821165,\n",
       " 92.68755270220461,\n",
       " 102.68030511385238,\n",
       " 128.29696969749162,\n",
       " 70.25887482009914,\n",
       " 164.40666306238714,\n",
       " 42.45331002612036,\n",
       " 97.04432761951182,\n",
       " 5.345214041365543,\n",
       " 58.728698932170374,\n",
       " 72.84985450903328,\n",
       " 115.17554656925446,\n",
       " 31.81425979939526,\n",
       " 58.224673819915544,\n",
       " 23.07841203327426,\n",
       " 37.528283647477494,\n",
       " 63.9273139916566,\n",
       " 87.12265819380099,\n",
       " 104.74231948329114,\n",
       " 108.23480886911501,\n",
       " 108.12735603149025,\n",
       " 63.38897444652558,\n",
       " 12.343519436408814,\n",
       " 35.444346088098136,\n",
       " 14.616168668035034,\n",
       " 18.024728880080072,\n",
       " 54.22482218697934,\n",
       " 77.41193084958945,\n",
       " 100.4060219332987,\n",
       " 101.55417312008606,\n",
       " 177.72152728378782,\n",
       " 112.848324329597,\n",
       " 11.636225270969101,\n",
       " 15.134000694800635,\n",
       " 163.78168550410032,\n",
       " 163.22762395007027,\n",
       " 102.5297016451398,\n",
       " 53.34572669880987,\n",
       " 119.60793807862252,\n",
       " 166.69026415297554,\n",
       " 89.81343986772484,\n",
       " 144.72125742643095,\n",
       " 149.8271337062059,\n",
       " 173.56582589905238,\n",
       " 171.2176649975955,\n",
       " 166.7697570599523,\n",
       " 159.10357918573533,\n",
       " 150.70235054359182,\n",
       " 136.5170656569941,\n",
       " 102.77457921448887,\n",
       " 28.46403043737584,\n",
       " 59.48769500170013,\n",
       " 87.21556666105185,\n",
       " 169.2577601683832,\n",
       " 149.78622678925979,\n",
       " 137.49601879154378,\n",
       " 131.33967342372264,\n",
       " 129.1427211817087,\n",
       " 117.59842810545621,\n",
       " 111.75765472936448,\n",
       " 179.57439132263158,\n",
       " 119.64347844276571,\n",
       " 124.05834262898875,\n",
       " 97.1033520489609,\n",
       " 73.35454960626465,\n",
       " 148.00009135048086,\n",
       " 54.2192436165331,\n",
       " 95.68171337137318,\n",
       " 125.57195396806446,\n",
       " 115.00442204044427,\n",
       " 134.6733809798646,\n",
       " 145.61201224409191,\n",
       " 143.51429091049388,\n",
       " 142.97743532539076,\n",
       " 139.72291584315622,\n",
       " 130.637327350516,\n",
       " 110.25969536504878,\n",
       " 28.12242045649665,\n",
       " 111.55066708471387,\n",
       " 113.90778823020604,\n",
       " 7.4711977777377205,\n",
       " 111.08524070752281,\n",
       " 162.14463249712233,\n",
       " 166.03104152958747,\n",
       " 137.8165563119505,\n",
       " 128.42332158486593,\n",
       " 111.95772768152058,\n",
       " 34.7950890078053,\n",
       " 78.37703588268242,\n",
       " 104.29453824959428,\n",
       " 143.8803817778607,\n",
       " 116.66451949118779,\n",
       " 59.786662918026245,\n",
       " 52.13378351454361,\n",
       " 77.41549187515139,\n",
       " 11.635790227732572,\n",
       " 101.90774003052222,\n",
       " 125.79835206431093,\n",
       " 145.3600323483144,\n",
       " 144.71279111963304,\n",
       " 143.8175745072558,\n",
       " 142.61453883193624,\n",
       " 146.54148683877133,\n",
       " 153.3267900441131,\n",
       " 114.28629964847399,\n",
       " 155.041938455441,\n",
       " 161.56772799152733,\n",
       " 174.94157677258175,\n",
       " 59.476493915304445,\n",
       " 94.27713266684381,\n",
       " 141.2220859734353,\n",
       " 179.15895756703628,\n",
       " 138.2283619320965,\n",
       " 106.24412965909184,\n",
       " 70.98999703130153,\n",
       " 138.770692709995,\n",
       " 84.33543645450095,\n",
       " 61.12999129099292,\n",
       " 1.2651758598111915,\n",
       " 100.38059106322608,\n",
       " 132.73667580158963,\n",
       " 122.66343856360942,\n",
       " 168.4780631612485,\n",
       " 87.62325337189324,\n",
       " 169.86585088157238,\n",
       " 159.25821111882053,\n",
       " 150.58011867596002,\n",
       " 153.3036708708832,\n",
       " 150.0902497513426,\n",
       " 157.78471823356682,\n",
       " 162.0926022476839,\n",
       " 12.2696127253498,\n",
       " 92.01967177376248,\n",
       " 123.95093420295683,\n",
       " 137.1681087715547,\n",
       " 159.7708524045888,\n",
       " 0.5516986514097604,\n",
       " 96.89547051424135,\n",
       " 135.90105791164638,\n",
       " 177.18077234844571,\n",
       " 132.21234268621822,\n",
       " 95.34947942801658,\n",
       " 95.32882262509776,\n",
       " 12.795668491047376,\n",
       " 155.08151635459114,\n",
       " 135.82224666083985,\n",
       " 24.8706488963486,\n",
       " 99.11890945439455,\n",
       " 165.42130727010996,\n",
       " 47.47874391412884,\n",
       " 106.73129315771793,\n",
       " 173.80388461283042,\n",
       " 103.60401962850915,\n",
       " 170.68443138649127,\n",
       " 164.00061423946855,\n",
       " 156.78615801372848,\n",
       " 159.78376865791236,\n",
       " 174.25721704705603,\n",
       " 51.230758270071334,\n",
       " 55.151149131276185,\n",
       " 97.46701175938118,\n",
       " 122.00176545629014,\n",
       " 135.91772857820087,\n",
       " 169.83070612002976,\n",
       " 62.50522965285717,\n",
       " 110.4004743661738,\n",
       " 143.87361774508787,\n",
       " 168.07841525471457,\n",
       " 118.74267509707731,\n",
       " 91.54594391952762,\n",
       " 73.92731368905329,\n",
       " 114.39016993611284,\n",
       " 110.566443827409,\n",
       " 3.1754365809166916,\n",
       " 126.71691425282405,\n",
       " 3.2880784715335425,\n",
       " 154.28366652256668,\n",
       " 151.04751717172303,\n",
       " 15.032733807817626,\n",
       " 92.84197578549062,\n",
       " 177.19759376733572,\n",
       " 177.93549108857266,\n",
       " 171.67932889004962,\n",
       " 163.35039202573384,\n",
       " 164.13273928632339,\n",
       " 158.48984119665218,\n",
       " 12.56970037824304,\n",
       " 71.17807643828912,\n",
       " 114.34343537034967,\n",
       " 130.47649355780172,\n",
       " 151.45606671945615,\n",
       " 77.92744798547136,\n",
       " 89.06252736742563,\n",
       " 122.74252446124981,\n",
       " 159.6300585288228,\n",
       " 145.11560518085753,\n",
       " 104.49723633020393,\n",
       " 89.0917351380876,\n",
       " 90.58171038739677,\n",
       " 55.29571958322454,\n",
       " 22.11214384798772,\n",
       " 88.66103726811035,\n",
       " 91.14704076464666,\n",
       " 75.87990221596205,\n",
       " 71.87939798095985,\n",
       " 10.894886004949825,\n",
       " 169.42136262452675,\n",
       " 177.6633868174857,\n",
       " 154.5144279190342,\n",
       " 174.87225213811885,\n",
       " 179.13154861214608,\n",
       " 167.58107806818725,\n",
       " 164.6015150756715,\n",
       " 170.92038382652362,\n",
       " 99.36058053518106,\n",
       " 104.81054690465758,\n",
       " 148.98137576749045,\n",
       " 167.82775722902133,\n",
       " 140.05736344072088,\n",
       " 41.495036852491204,\n",
       " 96.77273832047558,\n",
       " 135.11425166391848,\n",
       " 170.78520762261599,\n",
       " 119.61623044184184,\n",
       " 97.0562195827767,\n",
       " 86.71978638301056,\n",
       " 72.08891670922752,\n",
       " 119.44757882386685,\n",
       " 125.1449043025377,\n",
       " 123.02578377028496,\n",
       " 60.903463077916015,\n",
       " 76.29116723248143,\n",
       " 151.21955197047168,\n",
       " 128.77106570507263,\n",
       " 46.371288031571154,\n",
       " 27.670065519262184,\n",
       " 131.22731380196797,\n",
       " 143.2359279351055,\n",
       " 169.38161678116478,\n",
       " 177.78922934571233,\n",
       " 159.0219843596386,\n",
       " 146.3653268774188,\n",
       " 106.44412129574147,\n",
       " 104.9884091819382,\n",
       " 150.99221673282713,\n",
       " 118.6095327379356,\n",
       " 24.171330554460404,\n",
       " 62.54208529232346,\n",
       " 97.7454702235403,\n",
       " 145.5951079982571,\n",
       " 138.9983914733692,\n",
       " 94.77803707318074,\n",
       " 85.19076300038807,\n",
       " 75.0779477621332,\n",
       " 100.05819067998719,\n",
       " 99.06544740446586,\n",
       " 44.3761243565544,\n",
       " 65.96691544430568,\n",
       " 89.82605279793884,\n",
       " 109.20041318112766,\n",
       " 81.17484849483208,\n",
       " 120.27892179113938,\n",
       " 129.42084631022792,\n",
       " 127.67263770814588,\n",
       " 122.58100539066432,\n",
       " 127.15014540685912,\n",
       " 137.72814494971985,\n",
       " 158.30320553292518,\n",
       " 178.42738695938093,\n",
       " 150.41372499716212,\n",
       " 99.16980917538474,\n",
       " 108.57919920735098,\n",
       " 117.95843428606382,\n",
       " 72.82741618002343,\n",
       " 18.763438725338112,\n",
       " 70.43283862554938,\n",
       " 104.98862857433375,\n",
       " 176.34774058270628,\n",
       " 99.72527208346398,\n",
       " 71.06877532976348,\n",
       " 69.62142576727598,\n",
       " 80.43278434001004,\n",
       " 71.92548647456842,\n",
       " 25.79411452773493,\n",
       " 108.16748538217965,\n",
       " 96.10267960363974,\n",
       " 49.458367797423975,\n",
       " nan,\n",
       " 152.19544790996395,\n",
       " 30.833194198560847,\n",
       " 92.55209373387764,\n",
       " 67.46231020362396,\n",
       " 69.3999750018349,\n",
       " 86.04260895891109,\n",
       " 95.33426401595244,\n",
       " 101.17270740163333,\n",
       " 116.63551190323518,\n",
       " 113.87424412502322,\n",
       " 92.63294894953378,\n",
       " 173.54895568980257,\n",
       " 136.25270214828564,\n",
       " 42.77399654796793,\n",
       " 36.915729790959254,\n",
       " 78.65330692207816,\n",
       " 126.21910596337148,\n",
       " 134.75198252219644,\n",
       " 69.34052502487339,\n",
       " 54.22878485739982,\n",
       " 53.81799740855232,\n",
       " 47.33406502303,\n",
       " 57.66299093788743,\n",
       " 59.99541178366364,\n",
       " 135.68450559392323,\n",
       " 115.89546502918265,\n",
       " 23.86896284807799,\n",
       " 94.66715168370449,\n",
       " 2.579275409481332,\n",
       " 27.315749409101652,\n",
       " 91.5086623331485,\n",
       " 13.224681559555284,\n",
       " 57.348252724611164,\n",
       " 51.61809890196528,\n",
       " 54.212240769561376,\n",
       " 51.54269685904763,\n",
       " 30.905998561279358,\n",
       " 13.921542450080759,\n",
       " 92.57557675724406,\n",
       " 148.25991599322126,\n",
       " 129.47941955110664,\n",
       " 15.46583964520672,\n",
       " 53.84923065489992,\n",
       " 104.31142583620243,\n",
       " 178.18239680842333,\n",
       " 84.72468290778124,\n",
       " 49.232966683171554,\n",
       " 41.09053069676044,\n",
       " 34.9428849953686,\n",
       " 39.590117219511775,\n",
       " 9.727010735777428,\n",
       " 20.444781228856936,\n",
       " 55.64611771188065,\n",
       " 0.5207549187166775,\n",
       " 94.61433200774557,\n",
       " 20.151252402156604,\n",
       " 149.54623522122134,\n",
       " 88.6703423208648,\n",
       " 81.48209735659081,\n",
       " 38.91835235589212,\n",
       " 20.694298892046127,\n",
       " 26.70311492491813,\n",
       " 18.344330102265335,\n",
       " 16.809876031540593,\n",
       " 0.8425667699011965,\n",
       " 35.769025927112004,\n",
       " 74.22502801843261,\n",
       " 128.46266799359603,\n",
       " 121.91031517760446,\n",
       " 18.651784222247574,\n",
       " 92.13292525710929,\n",
       " 161.2255376146694,\n",
       " 108.60304800821406,\n",
       " 57.448968385321656,\n",
       " 33.03917444991448,\n",
       " 25.78418974255868,\n",
       " 16.140055490164688,\n",
       " 13.164673236465315,\n",
       " 4.5721066841392926,\n",
       " 65.7378887827756,\n",
       " 118.1670732636838,\n",
       " 41.62278171199202,\n",
       " 100.3686585669435,\n",
       " nan,\n",
       " 65.75548579534824,\n",
       " 171.75849107260058,\n",
       " 6.149729901596366,\n",
       " 0.980167833950943,\n",
       " 16.882641128301483,\n",
       " 14.039727587388294,\n",
       " 8.077377910496768,\n",
       " 2.1112717447663845,\n",
       " 14.757317027017494,\n",
       " 32.42960639703233,\n",
       " 54.378661686218784,\n",
       " 73.83582938755919,\n",
       " 114.47798983725414,\n",
       " 129.73067501797306,\n",
       " 178.58261352364812,\n",
       " 114.20710150554689,\n",
       " 65.71611490796727,\n",
       " 37.34475021222263,\n",
       " 23.551586561500827,\n",
       " 11.843118885795535,\n",
       " 5.589652369307403,\n",
       " 26.354115936892892,\n",
       " 13.6953036559913,\n",
       " 100.35060269895443,\n",
       " 28.156734609983847,\n",
       " 172.05430020384344,\n",
       " 128.34728563578747,\n",
       " 175.69753109271363,\n",
       " 17.468202472449907,\n",
       " 93.18555231446184,\n",
       " 178.1417407328181,\n",
       " 15.04271042583866,\n",
       " 16.416865247394202,\n",
       " 2.6154912104415824,\n",
       " 5.970490396464694,\n",
       " 14.762557576996047,\n",
       " 21.26015036627814,\n",
       " 33.5138906099453,\n",
       " 38.23846944726289,\n",
       " 42.28380175216941,\n",
       " 16.936542245389173,\n",
       " 53.118985298789525,\n",
       " 69.03642771295326,\n",
       " 63.49645021544571,\n",
       " 45.19210711774328,\n",
       " 32.29765542863526,\n",
       " 19.16554588564627,\n",
       " 6.314405924189703,\n",
       " 4.095603524179781,\n",
       " 35.86350913687333,\n",
       " 48.763826636174436,\n",
       " 57.46579145191261,\n",
       " 127.91735580678508,\n",
       " 20.701983976258564,\n",
       " 37.45786183102616,\n",
       " 109.4885470270263,\n",
       " 50.641147639527084,\n",
       " 21.477623661746424,\n",
       " 22.21484264849276,\n",
       " 30.162616284465134,\n",
       " 4.721007602641418,\n",
       " 10.703726806056782,\n",
       " 20.659912311460857,\n",
       " 20.479864979645875,\n",
       " 31.035894370161625,\n",
       " 34.753285693774735,\n",
       " 38.8973062541382,\n",
       " 33.61575947694036,\n",
       " 18.81240295660144,\n",
       " 22.76084067257329,\n",
       " 47.80169783796755,\n",
       " 56.328768127561204,\n",
       " 60.26110950962704,\n",
       " 49.12779562919751,\n",
       " 36.15939692397041,\n",
       " 50.309535275834726,\n",
       " 55.21546310520382,\n",
       " 92.18009948696051,\n",
       " 30.288963539667392,\n",
       " 126.45085512708039,\n",
       " 18.155140719430094,\n",
       " 95.7592389839598,\n",
       " 34.821906509004705,\n",
       " nan,\n",
       " nan,\n",
       " 99.48665453342794,\n",
       " 178.39235133450177,\n",
       " 100.01854705721337,\n",
       " 41.830899829331734,\n",
       " 48.92848186411181,\n",
       " 28.417686841928415,\n",
       " 31.409781170599977,\n",
       " 38.37614965445568,\n",
       " 41.220280851213424,\n",
       " 35.61910341494485,\n",
       " 26.946201223336516,\n",
       " 30.81813016562944,\n",
       " 90.79955053436642,\n",
       " 157.68624472469065,\n",
       " 175.4529944952789,\n",
       " 177.55940887822462,\n",
       " 179.68290704070753,\n",
       " 173.71728811252365,\n",
       " 35.17188454015625,\n",
       " 25.608661252988046,\n",
       " 166.63414383083796,\n",
       " 27.466000421862557,\n",
       " 104.77299280317713,\n",
       " 155.49295449497177,\n",
       " 56.32363135764038,\n",
       " nan,\n",
       " nan,\n",
       " nan,\n",
       " 51.98241844379149,\n",
       " 87.87788455732095,\n",
       " 51.32293158622075,\n",
       " 112.37061660107983,\n",
       " 57.337952013798684,\n",
       " 31.97432207365262,\n",
       " 117.4041997485358,\n",
       " 99.44548161440129,\n",
       " 44.854558515207515,\n",
       " 71.83068906975761,\n",
       " 64.89269825587556,\n",
       " 69.28214330820909,\n",
       " 75.18785381180085,\n",
       " 80.23317526509,\n",
       " 90.47593647790734,\n",
       " 87.11146557042483,\n",
       " 92.74259294641394,\n",
       " 87.35210918846872,\n",
       " 142.02207121543685,\n",
       " 6.405562863984596,\n",
       " 130.21693368317875,\n",
       " 115.46568212199479,\n",
       " 173.80608333999223,\n",
       " 164.95302027147875,\n",
       " 110.04981665146262,\n",
       " nan,\n",
       " nan,\n",
       " nan,\n",
       " 13.695038700189322,\n",
       " 25.04524228720886,\n",
       " 131.3250125678194,\n",
       " 163.90245975686906,\n",
       " 40.14496557739821,\n",
       " 110.67261818670717,\n",
       " 58.07964055680003,\n",
       " 52.4306637454716,\n",
       " 53.46179720806728,\n",
       " 49.47503020038568,\n",
       " 62.25912388151591,\n",
       " 58.64195931252774,\n",
       " 66.6855325498344,\n",
       " 60.143191296877895,\n",
       " 71.55901479022471,\n",
       " 99.56046669332922,\n",
       " 99.54013855721125,\n",
       " 104.51686453818772,\n",
       " 14.280797614786325,\n",
       " 175.2021030307072,\n",
       " 63.4544976790732,\n",
       " 39.02215739763866,\n",
       " 34.53756688587945,\n",
       " 25.179209280898053,\n",
       " 131.2149371377346,\n",
       " nan,\n",
       " nan,\n",
       " nan,\n",
       " nan,\n",
       " 15.461177400590678,\n",
       " 176.8645644897652,\n",
       " 9.662630023392651,\n",
       " 141.29658101049313,\n",
       " 70.81957342267128,\n",
       " 53.356578179049016,\n",
       " 71.5312684521181,\n",
       " 59.57591531353674,\n",
       " 72.30002086775023,\n",
       " 50.27551153960311,\n",
       " 71.12977324863343,\n",
       " 62.585400240697126,\n",
       " 93.99163926415775,\n",
       " 68.15402413055413,\n",
       " 51.72666676279771,\n",
       " 62.135593812673,\n",
       " 157.2556945739153,\n",
       " 115.00760958370707,\n",
       " 67.52614981095519,\n",
       " 95.60553681626193,\n",
       " 54.70654928311268,\n",
       " 129.30011788118424,\n",
       " 157.96729315610412,\n",
       " nan,\n",
       " nan,\n",
       " nan,\n",
       " nan,\n",
       " nan,\n",
       " nan,\n",
       " 147.0814829111334,\n",
       " 41.49242602700018,\n",
       " 123.54791167329444,\n",
       " 45.907184150787565,\n",
       " 137.8111013303781,\n",
       " 70.9201149618487,\n",
       " 79.24451968250833,\n",
       " 119.25648655596675,\n",
       " 141.56137700553197,\n",
       " 38.93340852841583,\n",
       " 140.25895853942572,\n",
       " 49.40056058752802,\n",
       " 81.97085148104995,\n",
       " 138.34550526053755,\n",
       " 142.94262672299791,\n",
       " 23.052332486926108,\n",
       " 121.10648354349749,\n",
       " 47.51982958126411,\n",
       " 80.40444997563613,\n",
       " 4.120546636461536,\n",
       " nan,\n",
       " nan,\n",
       " nan,\n",
       " nan]"
      ]
     },
     "execution_count": 208,
     "metadata": {},
     "output_type": "execute_result"
    }
   ],
   "source": [
    "thetas"
   ]
  },
  {
   "cell_type": "code",
   "execution_count": null,
   "metadata": {},
   "outputs": [],
   "source": []
  }
 ],
 "metadata": {
  "kernelspec": {
   "display_name": "Python [conda env:tensorflow-gpu]",
   "language": "python",
   "name": "conda-env-tensorflow-gpu-py"
  },
  "language_info": {
   "codemirror_mode": {
    "name": "ipython",
    "version": 3
   },
   "file_extension": ".py",
   "mimetype": "text/x-python",
   "name": "python",
   "nbconvert_exporter": "python",
   "pygments_lexer": "ipython3",
   "version": "3.6.8"
  }
 },
 "nbformat": 4,
 "nbformat_minor": 2
}
